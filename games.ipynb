{
 "cells": [
  {
   "cell_type": "markdown",
   "id": "aae22df5-00fc-4f18-8f9c-5311dc9d1eee",
   "metadata": {},
   "source": [
    "# Сборный проект по первому блоку курса Data Science"
   ]
  },
  {
   "cell_type": "markdown",
   "id": "0d2c6cb8-4292-425e-a197-f3533f2104dd",
   "metadata": {},
   "source": [
    "# 1. Введение\n",
    "\n",
    "Вы работаете в интернет-магазине «Стримчик», который продаёт по всему миру компьютерные игры. Из открытых источников доступны исторические данные о продажах игр, оценки пользователей и экспертов, жанры и платформы (например, Xbox или PlayStation). Вам нужно выявить определяющие успешность игры закономерности. Это позволит сделать ставку на потенциально популярный продукт и спланировать рекламные кампании.\n",
    "\n",
    "### Описание данных\n",
    "- Name — название игры\n",
    "- Platform — платформа\n",
    "- Year_of_Release — год выпуска\n",
    "- Genre — жанр игры\n",
    "- NA_sales — продажи в Северной Америке (миллионы проданных копий)\n",
    "- EU_sales — продажи в Европе (миллионы проданных копий)\n",
    "- JP_sales — продажи в Японии (миллионы проданных копий)\n",
    "- Other_sales — продажи в других странах (миллионы проданных копий)\n",
    "- Critic_Score — оценка критиков (максимум 100)\n",
    "- User_Score — оценка пользователей (максимум 10)\n",
    "- Rating — рейтинг от организации ESRB (англ. Entertainment Software Rating Board). Эта ассоциация определяет рейтинг компьютерных игр и присваивает им подходящую возрастную категорию."
   ]
  },
  {
   "cell_type": "markdown",
   "id": "730d86bd-2e7a-4858-b29a-50f08996c9c0",
   "metadata": {
    "tags": []
   },
   "source": [
    "# 2. Открытие файла с данными и изучение общей информации"
   ]
  },
  {
   "cell_type": "code",
   "execution_count": 8,
   "id": "47aa5438-66ba-47c0-ae24-5730b123bb5f",
   "metadata": {
    "tags": []
   },
   "outputs": [],
   "source": [
    "import pandas as pd\n",
    "from scipy import stats as st\n",
    "import numpy as np\n",
    "import matplotlib.pyplot as plt"
   ]
  },
  {
   "cell_type": "markdown",
   "id": "11a52958-254c-4576-8043-7a8c34489f9a",
   "metadata": {},
   "source": [
    "# 3. Подготовка данных"
   ]
  },
  {
   "cell_type": "markdown",
   "id": "b4063f48-7564-4cab-ac7a-bbf63012ed88",
   "metadata": {},
   "source": [
    "## 3.1 Замена названий столбцов (приведение к нижнему регистру)"
   ]
  },
  {
   "cell_type": "markdown",
   "id": "2cd84d17-2ffc-4c38-a966-7a3f967e3092",
   "metadata": {},
   "source": [
    "## 3.2 Преобрование данных в нужные типы"
   ]
  },
  {
   "cell_type": "markdown",
   "id": "b5b82d64-3a90-4c9d-b07b-401d23d45152",
   "metadata": {
    "tags": []
   },
   "source": [
    "## 3.3 Обработка пропусков"
   ]
  },
  {
   "cell_type": "markdown",
   "id": "62377a6a-bd0c-4177-a968-2242ed6ecab9",
   "metadata": {},
   "source": [
    "## 3.4 Подсчет суммарных продаж во всех регионах"
   ]
  },
  {
   "cell_type": "markdown",
   "id": "cb636ad9-9e46-4f37-8bfd-f492cbb078f4",
   "metadata": {
    "tags": []
   },
   "source": [
    "# 4. Провести исследовательский анализ данных"
   ]
  },
  {
   "cell_type": "markdown",
   "id": "b41d0094-0998-46c8-9c80-fef2387cc83b",
   "metadata": {},
   "source": [
    "## 4.1 Распределение игр по годам"
   ]
  },
  {
   "cell_type": "markdown",
   "id": "f4d7b573-d4c3-4bf7-9df8-256818baf612",
   "metadata": {},
   "source": [
    "## 4.2 Распределение продаж по платформам"
   ]
  },
  {
   "cell_type": "markdown",
   "id": "16081c81-4986-45ac-bef8-ce949521ffe1",
   "metadata": {
    "tags": []
   },
   "source": [
    "## 4.3 Данные за актуальный период"
   ]
  },
  {
   "cell_type": "markdown",
   "id": "ca614373-6f24-4b6e-9918-476db7959b3b",
   "metadata": {
    "tags": []
   },
   "source": [
    "## 4.4 Убрать данные за предыдущие годы"
   ]
  },
  {
   "cell_type": "markdown",
   "id": "8d5d942b-c558-40c8-b93f-bd744a819c8c",
   "metadata": {},
   "source": [
    "## 4.5 Выбор потенциально прибыльных платформ"
   ]
  },
  {
   "cell_type": "markdown",
   "id": "8eb64a96-4ace-4373-b293-f6672c3e09f1",
   "metadata": {},
   "source": [
    "## 4.6 Построение графика «ящик с усами» по глобальным продажам игр в разбивке по платформам"
   ]
  },
  {
   "cell_type": "markdown",
   "id": "b623207b-0132-4efd-b845-7094db8bd293",
   "metadata": {},
   "source": [
    "## 4.7 Анализ влияния на продажи внутри одной популярной платформы отзывов пользователей и критиков"
   ]
  },
  {
   "cell_type": "markdown",
   "id": "633582af-1da1-4802-80f5-27756286a6f1",
   "metadata": {},
   "source": [
    "## 4.8 Сравнение выводов с продажами игр на других платформах"
   ]
  },
  {
   "cell_type": "markdown",
   "id": "46e0e681-2eca-4d9f-b47f-0cc96ab7e84e",
   "metadata": {},
   "source": [
    "## 4.9 Анализ общего распределения игр по жанрам"
   ]
  },
  {
   "cell_type": "markdown",
   "id": "28138f4c-333c-4559-8b41-610bdbb9c158",
   "metadata": {},
   "source": [
    "# 5. Составление портрета пользователя каждого региона"
   ]
  },
  {
   "cell_type": "markdown",
   "id": "ce819896-7ca2-461d-90b3-7d7a359a5650",
   "metadata": {
    "tags": []
   },
   "source": [
    "## 5.1 Определение самых популярных платформ (top 5)"
   ]
  },
  {
   "cell_type": "markdown",
   "id": "07bdccc5-1839-4b08-b655-adfa1a0fed4d",
   "metadata": {},
   "source": [
    "## 5.2 Определение самых популярных жанров (top 5)"
   ]
  },
  {
   "cell_type": "markdown",
   "id": "0987baf0-f9d4-41f5-86b0-f9254e9b9cc0",
   "metadata": {},
   "source": [
    "## 5.3 Влияние рейтинга ESRB на продажи в отдельном регионе"
   ]
  },
  {
   "cell_type": "markdown",
   "id": "4c8642bb-a81f-4895-a4ae-839eed44a636",
   "metadata": {
    "tags": []
   },
   "source": [
    "# 6. Проверка гипотез"
   ]
  },
  {
   "cell_type": "markdown",
   "id": "41c52f7c-bec8-43e7-8d1c-6bf845a8aa84",
   "metadata": {},
   "source": [
    "## 6.1 Средние пользовательские рейтинги платформ Xbox One и PC одинаковые"
   ]
  },
  {
   "cell_type": "markdown",
   "id": "e3feadbc-8608-4383-b53d-00ef16cab997",
   "metadata": {},
   "source": [
    "## 6.2 Средние пользовательские рейтинги жанров Action и Sports разные"
   ]
  },
  {
   "cell_type": "markdown",
   "id": "e4db7a53-ac9c-4f8a-ae4b-d13c0dd7b8fd",
   "metadata": {},
   "source": [
    "# 7. Выводы"
   ]
  },
  {
   "cell_type": "markdown",
   "id": "e23e943c-1ca3-4b39-9652-98bb6aa6afef",
   "metadata": {},
   "source": [
    "<div style=\"border:dashed green 1px; background:#097482; padding: 20px\">\n",
    "<span style=\"color:white\">Мои комментарии version:</span>\n",
    "\n",
    "Я хотел бы привести тут формат оформления ноутбука, который я буду использовать:\n",
    "\n",
    "-  Введение\n",
    "-  Шаги проекта оформленные как markdown header 1го уровня - например **2.Предобработка данных**\n",
    "-  Внутри каждого шага промежуточные задачи как заголовки 2го уровня (если они есть)- например \n",
    "   - **2.1 Приведите столбец date к типу даты pandas**\n",
    "   - **2.2 Создайте новый столбец с номером месяца на основе столбца date**\n",
    "   - **2.3 Проверьте наличие пропущенных значений и дубликатов в датафреймах.** \n",
    "- Сначала идет заголовок 1го уровня в ячейке Markdown, потом - если есть - заголовок второго уровня в ячейке Markdown, потом код на Python, потом описание этого шага в ячейке Markdown\n",
    "- Выводы - включают в себя результаты по каждому пункту и общий вывод в виде рекомендаций для бизнеса.Посчитайте суммарные продажи во всех регионах\n",
    "\n",
    "Все свои комментарии в ответ на комментарии ревьюера я буду далее добавлять, используя этот стиль"
   ]
  }
 ],
 "metadata": {
  "kernelspec": {
   "display_name": "Python 3 (ipykernel)",
   "language": "python",
   "name": "python3"
  },
  "language_info": {
   "codemirror_mode": {
    "name": "ipython",
    "version": 3
   },
   "file_extension": ".py",
   "mimetype": "text/x-python",
   "name": "python",
   "nbconvert_exporter": "python",
   "pygments_lexer": "ipython3",
   "version": "3.11.5"
  }
 },
 "nbformat": 4,
 "nbformat_minor": 5
}
