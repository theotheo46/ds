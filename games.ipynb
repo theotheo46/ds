{
 "cells": [
  {
   "cell_type": "markdown",
   "id": "d11a1b00",
   "metadata": {},
   "source": [
    "<div style=\"border:solid Chocolate 2px; padding: 40px\">\n",
    "\n",
    "<b>Привет!👋</b>\n",
    "\n",
    "Меня зовут Огурлиев Анзор, я буду ревьюером твоего проекта. Сразу хочу предложить тебе общаться на \"ты\", если тебе это неудобно, скажи мне об этом. Нам предстоит пройти с тобой через тернистый и от того интересный путь анализа данных! Можешь не переживать, я всегда помогу тебе, если у тебя возникнут вопросы)\n",
    "\n",
    "По ходу твоей работы я буду оставлять свои комментарии, по выполненным тобой шагам. Попрошу тебя не удалять их, так мне будет проще отслеживать твой прогресс в случае повторной проверки.\n",
    "\n",
    "Очень важно вести диалог и обсуждать те пункты, которые у тебя могли не получиться, поэтому, ты можешь оставлять свои комментарии, и мы обязательно во всем разберемся! Самое главное - выделяй свои комментарии удобным для тебя способом (цвет, рамка), но так, чтобы они отчетлитво отличались от моих комментариев. Так мы ни в чем не запутаемся)\n",
    "\n",
    "Свои комментарии я буду выделять так: <font color='green'>зеленый</font>, <font color='gold'>желтый</font> и <font color='red'>красный</font> цвет, например:\n",
    "\n",
    "<br/>\n",
    "\n",
    "<div class=\"alert alert-success\">\n",
    "<h2> Комментарий ревьюера V1<a class=\"tocSkip\"> </h2>\n",
    "\n",
    "<b>Все отлично!👍:</b> Этот комментарий я буду оставлять, если твое решение оптимально для данного шага.\n",
    "</div>\n",
    "\n",
    "<br/>\n",
    "\n",
    "<div class=\"alert alert-warning\">\n",
    "    <h2> Комментарий ревьюера V1<a class=\"tocSkip\"> </h2>\n",
    "\n",
    "<b>Некоторые замечания и рекомендации💡:</b> Это не означает, что ты совершил ошибку. Такими комментариями я буду отмечать места, где ты справился с задачей, но её можно решить ещё лучше. Также в таких комментариях я буду оставлять для тебя другие советы.\n",
    "</div>\n",
    "\n",
    "\n",
    "<br/>\n",
    "<div class=\"alert alert-block alert-danger\">\n",
    "<h2> Комментарий ревьюера V1<a class=\"tocSkip\"></h2>\n",
    "\n",
    "\n",
    "<b>На доработку🤔:</b>\n",
    "Если решение, которое ты применил на определенном шаге, требует значительных изменений, то я буду оставлять такой комментарий. Тебе нужно будет подумать еще раз как правильным образом решить данный этап. Если ревью содержит такие комментарии, то я не смогу принять проект с первого раза.\n",
    "</div>\n",
    "\n",
    "P.S. В оглавлении комментария ты увидишь `V1` (`V1`, `V2`, `V3`) - это версия моего комментария, которая понадобится нам с тобой, чтобы не запутаться, если потребуется оставить тебе комментарии после первой проверки."
   ]
  },
  {
   "cell_type": "markdown",
   "id": "aae22df5-00fc-4f18-8f9c-5311dc9d1eee",
   "metadata": {},
   "source": [
    "# Сборный проект по первому блоку курса Data Science"
   ]
  },
  {
   "cell_type": "markdown",
   "id": "0d2c6cb8-4292-425e-a197-f3533f2104dd",
   "metadata": {},
   "source": [
    "# 1. Введение\n",
    "\n",
    "Вы работаете в интернет-магазине «Стримчик», который продаёт по всему миру компьютерные игры. Из открытых источников доступны исторические данные о продажах игр, оценки пользователей и экспертов, жанры и платформы (например, Xbox или PlayStation). Вам нужно выявить определяющие успешность игры закономерности. Это позволит сделать ставку на потенциально популярный продукт и спланировать рекламные кампании.\n",
    "\n",
    "### Описание данных\n",
    "- Name — название игры\n",
    "- Platform — платформа\n",
    "- Year_of_Release — год выпуска\n",
    "- Genre — жанр игры\n",
    "- NA_sales — продажи в Северной Америке (миллионы проданных копий)\n",
    "- EU_sales — продажи в Европе (миллионы проданных копий)\n",
    "- JP_sales — продажи в Японии (миллионы проданных копий)\n",
    "- Other_sales — продажи в других странах (миллионы проданных копий)\n",
    "- Critic_Score — оценка критиков (максимум 100)\n",
    "- User_Score — оценка пользователей (максимум 10)\n",
    "- Rating — рейтинг от организации ESRB (англ. Entertainment Software Rating Board). Эта ассоциация определяет рейтинг компьютерных игр и присваивает им подходящую возрастную категорию."
   ]
  },
  {
   "cell_type": "markdown",
   "id": "9652dcce",
   "metadata": {},
   "source": [
    "<div class=\"alert alert-success\">\n",
    "<h2> Комментарий ревьюера V1<a class=\"tocSkip\"> </h2>\n",
    "\n",
    "<b>Все отлично!👍:</b> Молодец, что начинаешь проект с описания!"
   ]
  },
  {
   "cell_type": "markdown",
   "id": "730d86bd-2e7a-4858-b29a-50f08996c9c0",
   "metadata": {
    "tags": []
   },
   "source": [
    "# 2. Открытие файла с данными и изучение общей информации"
   ]
  },
  {
   "cell_type": "code",
   "execution_count": null,
   "id": "47aa5438-66ba-47c0-ae24-5730b123bb5f",
   "metadata": {
    "tags": []
   },
   "outputs": [
    {
     "name": "stdout",
     "output_type": "stream",
     "text": [
      "Requirement already satisfied: missingno in /Users/theo/anaconda3/lib/python3.11/site-packages (0.5.2)\n",
      "Requirement already satisfied: numpy in /Users/theo/anaconda3/lib/python3.11/site-packages (from missingno) (1.24.3)\n",
      "Requirement already satisfied: matplotlib in /Users/theo/anaconda3/lib/python3.11/site-packages (from missingno) (3.7.2)\n",
      "Requirement already satisfied: scipy in /Users/theo/anaconda3/lib/python3.11/site-packages (from missingno) (1.11.1)\n",
      "Requirement already satisfied: seaborn in /Users/theo/anaconda3/lib/python3.11/site-packages (from missingno) (0.12.2)\n",
      "Requirement already satisfied: contourpy>=1.0.1 in /Users/theo/anaconda3/lib/python3.11/site-packages (from matplotlib->missingno) (1.0.5)\n",
      "Requirement already satisfied: cycler>=0.10 in /Users/theo/anaconda3/lib/python3.11/site-packages (from matplotlib->missingno) (0.11.0)\n",
      "Requirement already satisfied: fonttools>=4.22.0 in /Users/theo/anaconda3/lib/python3.11/site-packages (from matplotlib->missingno) (4.25.0)\n",
      "Requirement already satisfied: kiwisolver>=1.0.1 in /Users/theo/anaconda3/lib/python3.11/site-packages (from matplotlib->missingno) (1.4.4)\n",
      "Requirement already satisfied: packaging>=20.0 in /Users/theo/anaconda3/lib/python3.11/site-packages (from matplotlib->missingno) (23.1)\n",
      "Requirement already satisfied: pillow>=6.2.0 in /Users/theo/anaconda3/lib/python3.11/site-packages (from matplotlib->missingno) (10.0.1)\n",
      "Requirement already satisfied: pyparsing<3.1,>=2.3.1 in /Users/theo/anaconda3/lib/python3.11/site-packages (from matplotlib->missingno) (3.0.9)\n",
      "Requirement already satisfied: python-dateutil>=2.7 in /Users/theo/anaconda3/lib/python3.11/site-packages (from matplotlib->missingno) (2.8.2)\n",
      "Requirement already satisfied: pandas>=0.25 in /Users/theo/anaconda3/lib/python3.11/site-packages (from seaborn->missingno) (2.0.3)\n",
      "Requirement already satisfied: pytz>=2020.1 in /Users/theo/anaconda3/lib/python3.11/site-packages (from pandas>=0.25->seaborn->missingno) (2023.3.post1)\n",
      "Requirement already satisfied: tzdata>=2022.1 in /Users/theo/anaconda3/lib/python3.11/site-packages (from pandas>=0.25->seaborn->missingno) (2023.3)\n",
      "Requirement already satisfied: six>=1.5 in /Users/theo/anaconda3/lib/python3.11/site-packages (from python-dateutil>=2.7->matplotlib->missingno) (1.16.0)\n"
     ]
    }
   ],
   "source": [
    "import pandas as pd\n",
    "import math\n",
    "from scipy import stats as st\n",
    "import numpy as np\n",
    "import matplotlib.pyplot as plt\n",
    "import matplotlib.ticker as ticker\n",
    "!pip install missingno\n",
    "import missingno as msno\n",
    "import seaborn as sns\n",
    "\n",
    "sns.set()"
   ]
  },
  {
   "cell_type": "code",
   "execution_count": null,
   "id": "865e6bce",
   "metadata": {},
   "outputs": [],
   "source": [
    "df = pd.read_csv('https://code.s3.yandex.net/datasets/games.csv')\n",
    "display(df.head())\n",
    "df.info()"
   ]
  },
  {
   "cell_type": "markdown",
   "id": "29ee1b58",
   "metadata": {},
   "source": [
    "Источник данных представляет собой таблицу из 11 колонок и 16715 строк. Содержание колонок в целом соответствует описанию данных из Введения."
   ]
  },
  {
   "cell_type": "markdown",
   "id": "b90fb5ae",
   "metadata": {},
   "source": [
    "<div class=\"alert alert-warning\">\n",
    "<h2> Комментарий ревьюера V1<a class=\"tocSkip\"> </h2>\n",
    "\n",
    "<b>Некоторые замечания и рекомендации💡:</b> Можно было еще построить гистограммы распределений и составить краткое описание данных: количество пропусков, типы данных и тд."
   ]
  },
  {
   "cell_type": "markdown",
   "id": "11a52958-254c-4576-8043-7a8c34489f9a",
   "metadata": {},
   "source": [
    "# 3. Подготовка данных"
   ]
  },
  {
   "cell_type": "markdown",
   "id": "b4063f48-7564-4cab-ac7a-bbf63012ed88",
   "metadata": {},
   "source": [
    "## 3.1 Замена названий столбцов (приведение к нижнему регистру)"
   ]
  },
  {
   "cell_type": "code",
   "execution_count": null,
   "id": "b0c9a570",
   "metadata": {},
   "outputs": [],
   "source": [
    "df.columns = map(lambda x:x.lower(),df.columns)\n",
    "df.head()"
   ]
  },
  {
   "cell_type": "markdown",
   "id": "6f198d83",
   "metadata": {},
   "source": [
    "<div class=\"alert alert-warning\">\n",
    "<h2> Комментарий ревьюера V1<a class=\"tocSkip\"> </h2>\n",
    "\n",
    "<b>Некоторые замечания и рекомендации💡:</b> Можно было проще привести названия к нижнему регистру: \n",
    "    \n",
    "`data.columns = data.columns.str.lower()`"
   ]
  },
  {
   "cell_type": "markdown",
   "id": "f1a12619",
   "metadata": {},
   "source": [
    "<div style=\"border:dashed green 1px; background:#097482; padding: 20px\">\n",
    "<span style=\"color:white\">Мои комментарии V1:</span>\n",
    "\n",
    "Так по пропускам есть отдельный пункт ниже я там все и описал"
   ]
  },
  {
   "cell_type": "markdown",
   "id": "d1c4697b",
   "metadata": {},
   "source": [
    "Названия столбцов переведены в нижний регистр"
   ]
  },
  {
   "cell_type": "markdown",
   "id": "2cd84d17-2ffc-4c38-a966-7a3f967e3092",
   "metadata": {},
   "source": [
    "## 3.2 Преобразование данных в нужные типы"
   ]
  },
  {
   "cell_type": "code",
   "execution_count": null,
   "id": "95662d35",
   "metadata": {},
   "outputs": [],
   "source": [
    "def is_whole_number(number):\n",
    "    return math.floor(number) == number\n",
    "def all_whole_numbers(numbers):\n",
    "    return all(map(is_whole_number, numbers))\n",
    "df_temp = df['critic_score'].dropna()\n",
    "print(all_whole_numbers(df_temp))"
   ]
  },
  {
   "cell_type": "markdown",
   "id": "28e2c3da",
   "metadata": {},
   "source": [
    "Проверил что в колонке **critic_score** все валидные значения не имеют дробной части и предсатвляют собой целое число процентов c нулем после десятичной точки."
   ]
  },
  {
   "cell_type": "code",
   "execution_count": null,
   "id": "d22cdfa1",
   "metadata": {},
   "outputs": [],
   "source": [
    "print('Количество записей в таблице с значенем user_score == tbd: ', df[df['user_score'] == 'tbd']['user_score'].count())\n",
    "print('Количество записей в таблице с значенем user_score == 0: ', df[df['user_score'] == '0']['user_score'].count())\n",
    "df.loc[df['user_score'] == 'tbd','user_score'] = '0'\n",
    "print('Количество записей в таблице с значенем user_score == tbd: ', df[df['user_score'] == 'tbd']['user_score'].count())\n",
    "print('Количество записей в таблице с значенем user_score == 0: ', df[df['user_score'] == '0']['user_score'].count())\n"
   ]
  },
  {
   "cell_type": "markdown",
   "id": "1542cb2f",
   "metadata": {},
   "source": [
    "Посчитал количество записей в таблице с значенем user_score равным tbd и 0"
   ]
  },
  {
   "cell_type": "code",
   "execution_count": null,
   "id": "3d51b96c",
   "metadata": {},
   "outputs": [],
   "source": [
    "df.info()\n",
    "display(df.head())\n",
    "for col in ['na_sales', 'eu_sales', 'jp_sales', 'other_sales']:\n",
    "    df[col] = df[col] * 1000000\n",
    "df = df.astype({\"name\":'string',\"platform\":'string',\"year_of_release\":'Int64',\"genre\":'string',\"na_sales\":'int',\"eu_sales\":'int',\"jp_sales\":'int',\"other_sales\":'int',\"critic_score\":'Int64',\"rating\":'string'}, errors = 'ignore')\n",
    "df['user_score'] = pd.to_numeric(df['user_score'], errors = 'coerce')\n",
    "df.info()\n",
    "df.head()"
   ]
  },
  {
   "cell_type": "markdown",
   "id": "7b1c5440",
   "metadata": {},
   "source": [
    "Были проведены следующие изменения типов:\n",
    "- колонки **name** , **platform**, **genre**, **rating** переводятся в **string** так как они содержат строковые значения (или NaN)\n",
    "- колонка **year_of_release** содержит год релиза который представляет из себя целое число, я использовал приведение к dtype Int64, при котором произошло и отбрасывание дробной части в виде 0\n",
    "- колонки **na_sales**, **eu_sales**, **jp_sales**, **other_sales** содержат число миллионов с дробной частью - я перевел сначала их просто в число продаж путем умножения на 1 000 000 а потом привел к целому - так как использование чисел типа float в Python сопряжено с накопленной ошибкой вычисления и по возможности если можно их надо избегать. В данном случае именно такой случай.\n",
    "- колонка **critic_score** содержит рейтинг от критиков в интервале от 0 до 100, который не содержит дробной части после запятой (выше я провел проверку этого факта). Таким образом, эта колонка содержит целое число процентов и ее тип можно перевести в int с отбрасыванием дробной части\n",
    "Для преобразования типов я использовал режим **errors = 'ignore'** который в случае ошибки оставлял исходное значения - в даном случае все NaN были заменены на <NA> которые далее могут быть обнаружены и удалены в случе необходимости\n",
    "    \n",
    "Если сравнить выводы **df.info()** до и после преобразования типов, то можно увидеть, что в некоторых колонках нет пропусков и число значений - общему числу строк = 16715. Для ряда колонок число значений меньше и это число не изменилось после изменения типов колонки - за исключением колонки **user_score** где помимо значений NaN пристутсвует еще и ряд строк с строковым значеним = tbd, которое не может быть преобразовано в float и таких строк довольно большое количество = 2424 то есть их нежелательно просто отбросить. \n",
    "Колонка **user_score** содержит рейтинг пользователя в интервале от 0 до 10, который может содержать дробную часть - поэтому я ее тип надо перевести в float, используя метод to_numeric, но для того, чтобы избежать ошибок парсинга пердварительно я заменю все значения **tbd** на строковое значение 0 а потом преобразованием типа перевел его в 0 типа float. При этом я подсчитал количество записей с изначальным значением **user_score** == 0 и это оно = 1 - то есть можно эти данные проигнорировать и \"слить\" их в одну группу."
   ]
  },
  {
   "cell_type": "markdown",
   "id": "b5b82d64-3a90-4c9d-b07b-401d23d45152",
   "metadata": {
    "tags": []
   },
   "source": [
    "## 3.3 Обработка пропусков"
   ]
  },
  {
   "cell_type": "code",
   "execution_count": null,
   "id": "9f0da522",
   "metadata": {},
   "outputs": [],
   "source": [
    "msno.bar(df);\n",
    "msno.matrix(df);\n",
    "#df_null = df.iloc[:, [i for i, n in enumerate(np.var(df.isnull(), axis = 'rows')) if n > 0]]\n",
    "df_with_nulls = df[['critic_score', 'user_score', 'rating']].isnull()\n",
    "display(df_with_nulls.corr())\n",
    "df['rating'] = df['rating'].fillna('No rating')"
   ]
  },
  {
   "cell_type": "markdown",
   "id": "0241bd1e",
   "metadata": {},
   "source": [
    "- Матрица корреляции для колонок **critic_score**, **user_score** и **rating**\n",
    "- Столбчатая диаграмма для пропусков по всем колонкам\n",
    "- Матрица пропущенных значений для всех колонок"
   ]
  },
  {
   "cell_type": "markdown",
   "id": "88cc43cb",
   "metadata": {},
   "source": [
    "### 3.3.1 Объясните, почему заполнили пропуски определённым образом или почему не стали это делать\n",
    "\n",
    "Общее количество строк в dataframe равно 16715 но ряд столбцов имеет пропуски и меньшее число значимых величин а именно:\n",
    "- name - 2 пропуска\n",
    "- year_of_release - 269 пропусков\n",
    "- genre - 2 пропуска\n",
    "- critic_score - 8578 пропусков\n",
    "- user_score - 6701 пропусков и 2424 значения **tbd** которые не могут быть проеобразованы в float и они были установлены в 0\n",
    "- rating - 6766 пропусков\n",
    "    \n",
    "Таким образом, для колонок **critic_score**, **user_score** и **rating** количество пропусков довольно большое порядка 50%.\n",
    "Матрица пропущенных значений и матрица корреляции для пропущенных значений в этих колонок показывают, что корреляция пропущенных значений между полями **user_score** и **rating** близка к 1, корреляция по другим полям близка к 0.78 что указывает на определенную линейную корреляцию что говорит о том, что наличие пропусков по этим трем колонкам может быть взаимосвязано. Я предлагаю оставить пропуски для колонок **critic_score**, **user_score** где содержатся количественные величины как есть - то есть в рассчетах статистических характеристик они не будут принимать участия а установив их например в 0 или в медиану для всего распределения мы можем исказить результаты рассчетов там, где фигурируют эти параметры. Для колонки **rating** (c категориальной величиной) я бы устнановил значение всех ячеек NaN в какое то нейтральное строковое значени - например в строку 'No rating', которое не соответствует ни одному из домена существующих значений и мы могли бы видеть все эти пропущенные значения, собранные на гистограмме.\n",
    "    \n",
    "Пропуски я оставил после преобразования типов как есть (NaN или \\<NA\\>), значение 'tbd' для колонки **user_score** установил в 0 (подробно описал в предыдущем пункте 3.2)\n",
    "\n",
    "### 3.3.2 Опишите причины, которые могли привести к пропускам\n",
    "- Для полей **name**, **genre** - ошибки ввода - например при заполнении формы. Предлагаю их оставить как есть так как их количество очень мало и ими можно пренебречь при рассчете характеристик.\n",
    "- Поле **year_of_release** изначально было числовым и там исключено наличие нечисловых данных - пропуск может быть связан либо с ошибкой при вводе даных - например формат ввода даты не соответствовал предложенному шаблону. \n",
    "- Пропуски в полях **critic_score**, **user_score**, **rating** могут быть связаны либо с ошибкой при вводе данных, либо по каким то играм не был проставлен рейтинг по каким то причинам (но заменять пропуски на значение 0 все равно нежелательно).\n",
    "\n",
    "### 3.3.3 Обратите внимание на аббревиатуру 'tbd' в столбце с оценкой пользователей. Отдельно разберите это значение и опишите, как его обработать\n",
    "Уже объяснено в п 3.2"
   ]
  },
  {
   "cell_type": "markdown",
   "id": "6f7ba128",
   "metadata": {},
   "source": [
    "<div class=\"alert alert-warning\">\n",
    "<h2> Комментарий ревьюера V1<a class=\"tocSkip\"> </h2>\n",
    "\n",
    "<b>Некоторые замечания и рекомендации💡:</b> \n",
    "    \n",
    "Молодец, что так подробно все анализируешь и описываешь! Можно было сразу удалить игры без названия и платформы в принципе, они никак не анализ не повлияют, зато датафрейм будет больше очищен от возможных ошибок. Также и игры без года релиза можно было сразу удалить.\n",
    "    \n",
    "Все другие параметры обработал абсолютно верно!"
   ]
  },
  {
   "cell_type": "markdown",
   "id": "9e177a20",
   "metadata": {},
   "source": [
    "## 3.4 Bar-диаграммы по некоторым столбцам"
   ]
  },
  {
   "cell_type": "code",
   "execution_count": null,
   "id": "1d67191b",
   "metadata": {},
   "outputs": [],
   "source": [
    "ax = df['platform'].value_counts().plot(kind=\"bar\", title='Распределение по платформам', figsize=(7, 4), xlabel='Название платформы', ylabel='Частота использования')\n",
    "ax.yaxis.grid(True)\n",
    "plt.show()\n",
    "\n",
    "\n",
    "ax = df['rating'].value_counts().plot(kind=\"bar\", title='Распределение по рейтингу', figsize=(7, 4), xlabel='Рейтинг', ylabel='Частота использования')\n",
    "ax.yaxis.grid(True)\n",
    "#ax.bar_label(ax.containers[0], label_type='edge')\n",
    "plt.show()\n",
    "\n",
    "ax = df['genre'].value_counts().plot(kind=\"bar\", title='Распределение по жанру', figsize=(7, 4), xlabel='Жанр', ylabel='Частота использования')\n",
    "ax.yaxis.grid(True)\n",
    "#ax.bar_label(ax.containers[0], label_type='edge')\n",
    "plt.show()\n"
   ]
  },
  {
   "cell_type": "markdown",
   "id": "c7d8519c",
   "metadata": {},
   "source": [
    "<div class=\"alert alert-block alert-danger\">\n",
    "<h2> Комментарий ревьюера V1<a class=\"tocSkip\"></h2>\n",
    "\n",
    "\n",
    "<b>На доработку🤔:</b>\n",
    "Старайся, чтобы библиотеки у тебя локально были той же версии, что и на сервере, выше ошибка возникла из-за разных версий библиотек. Ты как аналитик должен это предусматривать всегда."
   ]
  },
  {
   "cell_type": "markdown",
   "id": "ee4e26f6",
   "metadata": {},
   "source": [
    "Я привел распределения по следующим полям в виде bar-диаграмм (в задание не входило - сделал для понимания):\n",
    "- название платформы\n",
    "- рейтинг\n",
    "- жанр\n",
    "\n",
    "По платформам top5 это\n",
    "- PS2\n",
    "- DS\n",
    "- PS3\n",
    "- Wii\n",
    "- X360\n",
    "\n",
    "По жанрам top5 это\n",
    "- Action\n",
    "- Sports\n",
    "- Misc\n",
    "- Role-Playing\n",
    "- Shooter\n",
    "\n",
    "По рейтингу - самый часто встречающийся рейтинг E, рейтинги E-C, K-A, RP, AO крайне редки. Вариант **No rating** занимает порядка 40% от всего количества данных"
   ]
  },
  {
   "cell_type": "markdown",
   "id": "62377a6a-bd0c-4177-a968-2242ed6ecab9",
   "metadata": {},
   "source": [
    "## 3.5 Подсчет суммарных продаж во всех регионах"
   ]
  },
  {
   "cell_type": "code",
   "execution_count": null,
   "id": "b13e69da",
   "metadata": {},
   "outputs": [],
   "source": [
    "df['all_sales'] = df['na_sales'] +  df['eu_sales'] +  df['jp_sales'] +  df['other_sales']\n",
    "df.head()"
   ]
  },
  {
   "cell_type": "markdown",
   "id": "4bc9aa71",
   "metadata": {},
   "source": [
    "<div class=\"alert alert-success\">\n",
    "<h2> Комментарий ревьюера V1<a class=\"tocSkip\"> </h2>\n",
    "\n",
    "<b>Все отлично!👍:</b> Суммарные продажи посчитаны верно."
   ]
  },
  {
   "cell_type": "markdown",
   "id": "cb636ad9-9e46-4f37-8bfd-f492cbb078f4",
   "metadata": {
    "tags": []
   },
   "source": [
    "# 4. Провести исследовательский анализ данных"
   ]
  },
  {
   "cell_type": "markdown",
   "id": "b41d0094-0998-46c8-9c80-fef2387cc83b",
   "metadata": {},
   "source": [
    "## 4.1 Распределение выпусков игр по годам"
   ]
  },
  {
   "cell_type": "code",
   "execution_count": null,
   "id": "b8d3c22e",
   "metadata": {},
   "outputs": [],
   "source": [
    "df_games_by_years = df.groupby(by='year_of_release')['name'].count()\n",
    "\n",
    "ax = df_games_by_years.plot(kind=\"bar\", title='Количество релизов игр по годам', figsize=(7, 4), xlabel='Год', ylabel='Количество релизов')\n",
    "ax.yaxis.grid(True)\n",
    "#ax.bar_label(ax.containers[0], label_type='edge')\n",
    "plt.show()"
   ]
  },
  {
   "cell_type": "markdown",
   "id": "d5745132",
   "metadata": {},
   "source": [
    "Диаграмма распределения количества релизов игр по годам имеет колоколообразную форму с максимумом в районе 2008-2009 г. Для значений года <= 1994 значения количества релизов становится слишком малым (< 1%) и этими данными можно пренебречь."
   ]
  },
  {
   "cell_type": "markdown",
   "id": "4499f9ec",
   "metadata": {},
   "source": [
    "<div class=\"alert alert-success\">\n",
    "<h2> Комментарий ревьюера V1<a class=\"tocSkip\"> </h2>\n",
    "\n",
    "<b>Все отлично!👍:</b> Именно так, все верно."
   ]
  },
  {
   "cell_type": "markdown",
   "id": "f4d7b573-d4c3-4bf7-9df8-256818baf612",
   "metadata": {},
   "source": [
    "## 4.2 Распределение продаж по платформам"
   ]
  },
  {
   "cell_type": "code",
   "execution_count": null,
   "id": "d4353ce5",
   "metadata": {},
   "outputs": [],
   "source": [
    "def plot_sub_plots(df, list_top):\n",
    "    for platform in list_top:\n",
    "        df_temp = df[df['platform'] == platform].groupby(by='year_of_release')['all_sales'].sum()\n",
    "        ax = df_temp.plot(kind=\"bar\", title=f'Выручка по годам для {platform}', figsize=(4, 3), xlabel='Год', ylabel='Выручка')\n",
    "        current_values = plt.gca().get_yticks()\n",
    "        ax.set_yticks(ax.get_yticks().tolist())\n",
    "        plt.gca().set_yticklabels(['{:,}'.format(x) for x in current_values])\n",
    "        plt.show()"
   ]
  },
  {
   "cell_type": "code",
   "execution_count": null,
   "id": "daf42fd6",
   "metadata": {},
   "outputs": [],
   "source": [
    "df_sells_by_platforms = df.groupby(by='platform')['all_sales'].sum()\n",
    "df_sells_by_platforms = df_sells_by_platforms.sort_values()\n",
    "ax = df_sells_by_platforms.plot(kind=\"bar\", title='Распределение продаж по платформам за весь период наблюдений', figsize=(7, 4), xlabel='Платформа', ylabel='Сумма продаж')\n",
    "ax.yaxis.grid(True)\n",
    "plt.show()\n",
    "\n",
    "top5platforms_list = list(df_sells_by_platforms.index[-5:])\n",
    "top5platforms_list.reverse()\n",
    "print('Top 5 список платформ с максимальными продажами за весь период наблюдений: ', top5platforms_list)\n",
    "plot_sub_plots(df, top5platforms_list)\n"
   ]
  },
  {
   "cell_type": "markdown",
   "id": "cfcdd4ff",
   "metadata": {},
   "source": [
    "Из анализа распределения количества релизов по годам видно, что для данных, расопложенных ранее чем 1994 год, количество релизов очень мало (1994 год составляет менее 1 % от максимума) - поэтому далее ниже этой границы можно отбросить.\n",
    "Данные по годовым распределеням по top5 платформ, отсортированных по суммарной выручке, показали, что средний срок жизни платформы 10 лет, и у каждой из платформ за последние 3-4 года происходит резкий спад продаж - во всей видимости это связано с выходом новых платформ."
   ]
  },
  {
   "cell_type": "markdown",
   "id": "ea1758af",
   "metadata": {},
   "source": [
    "<div class=\"alert alert-success\">\n",
    "<h2> Комментарий ревьюера V1<a class=\"tocSkip\"> </h2>\n",
    "\n",
    "<b>Все отлично!👍:</b> Абсолютно верный вывод! Платформы живут около 10 лет."
   ]
  },
  {
   "cell_type": "markdown",
   "id": "16081c81-4986-45ac-bef8-ce949521ffe1",
   "metadata": {
    "tags": []
   },
   "source": [
    "## 4.3 Данные за актуальный период"
   ]
  },
  {
   "cell_type": "code",
   "execution_count": null,
   "id": "a7364f71",
   "metadata": {},
   "outputs": [],
   "source": [
    "display(df['year_of_release'].value_counts().sort_index().tail())\n",
    "df_actual_period = df[df['year_of_release'] >= 2014].copy()\n",
    "df_actual_period.info()"
   ]
  },
  {
   "cell_type": "markdown",
   "id": "3d70a998",
   "metadata": {},
   "source": [
    "Актуальный период был выбран = 3 годам так как этот период характеризует среднюю длительность спада или подъема на рынке продаж игр на конкретной платформе. Таким образом, создан dataframe **df_actual_period**, в котором собраны данные только за три последних года - то есть за годы 2014, 2015, 2016"
   ]
  },
  {
   "cell_type": "markdown",
   "id": "68868ce8",
   "metadata": {},
   "source": [
    "<div class=\"alert alert-success\">\n",
    "<h2> Комментарий ревьюера V1<a class=\"tocSkip\"> </h2>\n",
    "\n",
    "<b>Все отлично!👍:</b> Актуальный период подобран правильно, так держать!"
   ]
  },
  {
   "cell_type": "markdown",
   "id": "8d5d942b-c558-40c8-b93f-bd744a819c8c",
   "metadata": {},
   "source": [
    "## 4.4 Выбор потенциально прибыльных платформ"
   ]
  },
  {
   "cell_type": "code",
   "execution_count": null,
   "id": "44f0433c",
   "metadata": {},
   "outputs": [],
   "source": [
    "platform_list = list(df_actual_period['platform'].value_counts().index)\n",
    "plot_sub_plots(df_actual_period, platform_list)"
   ]
  },
  {
   "cell_type": "markdown",
   "id": "1412cdaa",
   "metadata": {},
   "source": [
    "Анализ прибыльности платформ в выбранном актуальном периоде [2014, 2016] показал, что к прибыльным платформам за этот период можно отнести:\n",
    "- PS4\n",
    "- XOne\n",
    "- 3DS\n",
    "\n",
    "Для первых двух есть максимум в 2015 г, для 3DS убывающий тренд но не такой сильных как для остальных платформ. И эти данные можно объяснить тем, что PS4 и XOne это самые современные на текущий период времени платформы."
   ]
  },
  {
   "cell_type": "markdown",
   "id": "dd93eb48",
   "metadata": {},
   "source": [
    "<div class=\"alert alert-success\">\n",
    "<h2> Комментарий ревьюера V1<a class=\"tocSkip\"> </h2>\n",
    "\n",
    "<b>Все отлично!👍:</b> Верно, прежде всего стоит обратить внимание именно на эти платформы."
   ]
  },
  {
   "cell_type": "markdown",
   "id": "8eb64a96-4ace-4373-b293-f6672c3e09f1",
   "metadata": {},
   "source": [
    "## 4.5 Построение графика «ящик с усами» по глобальным продажам игр в разбивке по платформам"
   ]
  },
  {
   "cell_type": "code",
   "execution_count": null,
   "id": "eccbbdfa",
   "metadata": {},
   "outputs": [],
   "source": [
    "def plot_sub_plots_box(df, topylim=0):\n",
    "    plt.figure(figsize=(15,8))\n",
    "    box_plot = sns.boxplot(data=df, x=\"platform\", y=\"all_sales\");\n",
    "    box_plot.set(xlabel='Платформа',ylabel='Выручка')\n",
    "    #box_plot.set_yticks(ax.get_yticks().tolist())\n",
    "    current_values = plt.gca().get_yticks()\n",
    "    plt.gca().set_yticklabels(['{:,}'.format(x) for x in current_values])\n",
    "    plt.title(\"Графики boxplot для продаж, сгруппированными по платформам\")\n",
    "    plt.ylim(bottom=0)\n",
    "    if topylim != 0:\n",
    "        plt.ylim(top=topylim)\n",
    "    plt.show()"
   ]
  },
  {
   "cell_type": "code",
   "execution_count": null,
   "id": "bbf2fa53",
   "metadata": {},
   "outputs": [],
   "source": [
    "display(df_actual_period.head())"
   ]
  },
  {
   "cell_type": "code",
   "execution_count": null,
   "id": "febd3aed",
   "metadata": {},
   "outputs": [],
   "source": []
  },
  {
   "cell_type": "code",
   "execution_count": null,
   "id": "fdcf4c05",
   "metadata": {
    "scrolled": false
   },
   "outputs": [],
   "source": [
    "df_count_by_platform = df_actual_period.groupby(by='platform')['all_sales'].count()\n",
    "df_count_by_platform = df_count_by_platform.sort_values()\n",
    "ax = df_count_by_platform.plot(kind=\"bar\", title='Распределение количества продаж по платформам', figsize=(7, 4), xlabel='Платформа', ylabel='Количество продаж')\n",
    "ax.yaxis.grid(True)\n",
    "plt.show()\n",
    "df_count_by_platform = df_actual_period.groupby(by='platform')['all_sales'].sum()\n",
    "df_count_by_platform = df_count_by_platform.sort_values()\n",
    "ax = df_count_by_platform.plot(kind=\"bar\", title='Распределение суммы продаж по платформам', figsize=(7, 4), xlabel='Платформа', ylabel='Сумма продаж')\n",
    "ax.yaxis.grid(True)\n",
    "plt.show()\n",
    "plot_sub_plots_box(df_actual_period)\n",
    "plot_sub_plots_box(df_actual_period, 800000)\n"
   ]
  },
  {
   "cell_type": "markdown",
   "id": "f9bb6636",
   "metadata": {},
   "source": [
    "<div class=\"alert alert-block alert-danger\">\n",
    "<h2> Комментарий ревьюера V1<a class=\"tocSkip\"></h2>\n",
    "\n",
    "\n",
    "<b>На доработку🤔:</b>\n",
    "Нужно построить 1 график, на котором будет находиться несколько боксплотов. Воспользуйся библиотекой seaborn, она позволит легко такой график построить. На одном графике будет гораздо легче сравнивать значения статистик разных платформ.\n",
    "    \n",
    "Метод ylim() попробуй по другому использовать, укажи верхнюю и нижную границу, сейчас у тебя некоторые графики не читаемы из-за масштаба, нельзя понять какое значение принимает медиана или квартиль. "
   ]
  },
  {
   "cell_type": "markdown",
   "id": "a582477c",
   "metadata": {},
   "source": [
    "Анализ графиков Boxplot для платформ, которые попали в dataframe с актуальным периодом показывает, что\n",
    "- минимальное количество выбросов для платформ Wii, PSP - но для них и малое количество продаж\n",
    "- большое количество выбросов для платформ PS4, PCV, XOne с большим количеством продаж\n",
    "\n",
    "Я построил графики Boxplot в разбивке продаж по платформам сначала общий, потом его же с увеличенной областью Медиана ± квартили и можно сделать следующие выводы:\n",
    "\n",
    "- Из графиков видно, что лидер по количеству и сумме продаж - PS4 - имеет самые большие выбросы \"усов\" и второй по величие выброс квартилей 25-75 что объяснимо большим количеством и суммой продаж. При этом, какие либо игры могут продаваться за более высокую цену ввиду своей высокой популярности и активной пердпродажной рекламной кампании и я бы не назвал это выбросами, от которых надо избавляться\n",
    "- странная картина по графику boxplot для платформы Wii - самый большой размах квартилей - хотя сама платформа в аутсайдерах и по количеству и по сумме продаж. Возможно, это связано с недостаточно репрезентативной выборкой.\n",
    "- медианная выручка для большей части платформ = 50000000, есть меньшие значения 20000000 для 3DS и PC, для остальных плафторм выборка не вляется репрезентативной.\n",
    "- если взять платформы из top3 по сумме продаж - **PS4, 3DS, XOne** - то прямоугольник Медиана ± Квартили для 3DS смещен вниз по сравнения с PS4 и XOne. Я это могу объяснить тем, что 3DS - это карманная игровая приставка с мини-экраном, игры для нее стоят в среднем меньше чем для стационарных приставок, таких как PS4 и XOne "
   ]
  },
  {
   "cell_type": "markdown",
   "id": "6dc5abcf",
   "metadata": {},
   "source": [
    "<div class=\"alert alert-block alert-danger\">\n",
    "<h2> Комментарий ревьюера V1<a class=\"tocSkip\"></h2>\n",
    "\n",
    "\n",
    "<b>На доработку🤔:</b>\n",
    "Помимо выбросов сравни статистики платформы, мдеианы и квартили, что они означают, как значения статистик интерпретировать?"
   ]
  },
  {
   "cell_type": "markdown",
   "id": "b623207b-0132-4efd-b845-7094db8bd293",
   "metadata": {},
   "source": [
    "## 4.6 Анализ влияния на продажи внутри одной популярной платформы отзывов пользователей и критиков"
   ]
  },
  {
   "cell_type": "code",
   "execution_count": null,
   "id": "3d8df999",
   "metadata": {},
   "outputs": [],
   "source": [
    "df_for_ps4 = df_actual_period.loc[df_actual_period['platform'] == 'PS4', ['all_sales', 'critic_score', 'user_score']]\n",
    "display(df_for_ps4.corr())\n",
    "df_for_ps4.plot.scatter(x='critic_score', y='all_sales');\n",
    "df_for_ps4.plot.scatter(x='user_score', y='all_sales');"
   ]
  },
  {
   "cell_type": "markdown",
   "id": "3d0f9755",
   "metadata": {},
   "source": [
    "Построена матрица корреляции между суммарными продажами, отзывами пользователей и критиков а также диаграмма рассеяния \n",
    "- между продажами и отзывами критиков есть слабая линейная положительная корреляция\n",
    "- между продажами и отзывами пользователей корреляции нет "
   ]
  },
  {
   "cell_type": "markdown",
   "id": "96e5c392",
   "metadata": {},
   "source": [
    "<div class=\"alert alert-success\">\n",
    "<h2> Комментарий ревьюера V1<a class=\"tocSkip\"> </h2>\n",
    "\n",
    "<b>Все отлично!👍:</b> Именно так, все верно."
   ]
  },
  {
   "cell_type": "markdown",
   "id": "633582af-1da1-4802-80f5-27756286a6f1",
   "metadata": {},
   "source": [
    "## 4.7 Сравнение выводов с продажами игр на других платформах"
   ]
  },
  {
   "cell_type": "code",
   "execution_count": null,
   "id": "f23dbe57",
   "metadata": {},
   "outputs": [],
   "source": [
    "def display_corr_matrix(df, col_list):\n",
    "    for platform in col_list:\n",
    "        print(f'******** Матрица корреляций для платформы {platform} *********')\n",
    "        df_corr = df.loc[df['platform'] == platform, ['all_sales', 'critic_score', 'user_score']]\n",
    "        display(df_corr)\n",
    "        display(df_corr.corr())\n",
    "        print()\n",
    "\n",
    "def plot_sub_plots_scatter(df, col_list):\n",
    "    for platform in col_list:\n",
    "        fig, axes = plt.subplots(nrows=1, ncols=2, figsize=(8,8))\n",
    "        df_for_platform = df_actual_period.loc[df_actual_period['platform'] == platform, ['all_sales', 'critic_score', 'user_score']]\n",
    "        df_for_platform.plot.scatter(x='critic_score', y='all_sales', ax=axes[0], title= f'Диаграмма рассеяния для {platform}', figsize=(7,3));\n",
    "        df_for_platform.plot.scatter(x='user_score', y='all_sales', ax=axes[1], title= f'Диаграмма рассеяния для {platform}');\n",
    "        plt.show()"
   ]
  },
  {
   "cell_type": "code",
   "execution_count": null,
   "id": "02d452f2",
   "metadata": {
    "scrolled": false
   },
   "outputs": [],
   "source": [
    "display_corr_matrix(df_actual_period, platform_list)\n",
    "plot_sub_plots_scatter(df_actual_period, platform_list)"
   ]
  },
  {
   "cell_type": "markdown",
   "id": "335c19eb",
   "metadata": {},
   "source": [
    "Построены матрицы корреляции и диаграммы рассеяния между колонками **(all_sales, critic_score), (all_sales, user_score)** для всех платформ из актуального периода, по результатам можно сделать следующие выводы:\n",
    "- если говорить о платформах из top3 по сумме продаж - **PS4, 3DS, XOne** то корреляция между рейтингом критиков и продажами для PS4 и XOne выше, чем для 3DS\n",
    "- корреляция между рейтингом пользователей и продажами для 3DS выше, чем для PS4, XOne\n",
    "- в целом я не вижу среди коэффициентов корреляций значений выше, чем 0.525723 - это коэффициент недостаточный для того, чтобы говорить о сильной корреляционной зависимости\n",
    "- значения NaN в корреляционной матрице для некоторых платформ связаны с тем, что в соответствующих сериях нет значений, отличных от NaN"
   ]
  },
  {
   "cell_type": "markdown",
   "id": "74a990cb",
   "metadata": {},
   "source": [
    "<div class=\"alert alert-block alert-danger\">\n",
    "<h2> Комментарий ревьюера V1<a class=\"tocSkip\"></h2>\n",
    "\n",
    "\n",
    "<b>На доработку🤔:</b>\n",
    "Посчитай также коэффициенты корреляции.\n",
    "\n",
    "Ты для PS4 написал, что от оценок пользователей зависимости нет, а оценки критиков коррелируют с продажами, на других платформах схожие зависимости не прослеживаются?"
   ]
  },
  {
   "cell_type": "markdown",
   "id": "46e0e681-2eca-4d9f-b47f-0cc96ab7e84e",
   "metadata": {},
   "source": [
    "## 4.8 Анализ общего распределения игр по жанрам"
   ]
  },
  {
   "cell_type": "code",
   "execution_count": null,
   "id": "55956bbd",
   "metadata": {},
   "outputs": [],
   "source": [
    "df_sells_by_genres = df_actual_period.groupby(by='genre')['all_sales'].count()\n",
    "df_sells_by_genres = df_sells_by_genres.sort_values()\n",
    "ax = df_sells_by_genres.plot(kind=\"bar\", title='Распределение количества продаж по жанрам', figsize=(7, 4), xlabel='Жанр', ylabel='Количество продаж')\n",
    "current_values = plt.gca().get_yticks()\n",
    "ax.set_yticks(ax.get_yticks().tolist())\n",
    "plt.gca().set_yticklabels(['{:,}'.format(x) for x in current_values])\n",
    "plt.ylim(bottom=0)\n",
    "plt.show()\n",
    "\n",
    "df_sells_by_genres = df_actual_period.groupby(by='genre')['all_sales'].sum()\n",
    "df_sells_by_genres = df_sells_by_genres.sort_values()\n",
    "ax = df_sells_by_genres.plot(kind=\"bar\", title='Распределение суммы продаж по жанрам', figsize=(7, 4), xlabel='Жанр', ylabel='Сумма продаж')\n",
    "current_values = plt.gca().get_yticks()\n",
    "ax.set_yticks(ax.get_yticks().tolist())\n",
    "plt.gca().set_yticklabels(['{:,}'.format(x) for x in current_values])\n",
    "plt.ylim(bottom=0)\n",
    "plt.show()\n",
    "\n",
    "df_sells_by_genres = df_actual_period.groupby(by='genre')['all_sales'].median()\n",
    "df_sells_by_genres = df_sells_by_genres.sort_values()\n",
    "ax = df_sells_by_genres.plot(kind=\"bar\", title='Распределение медианы продаж по жанрам', figsize=(7, 4), xlabel='Жанр', ylabel='Медиана продаж')\n",
    "current_values = plt.gca().get_yticks()\n",
    "ax.set_yticks(ax.get_yticks().tolist())\n",
    "plt.gca().set_yticklabels(['{:,}'.format(x) for x in current_values])\n",
    "plt.ylim(bottom=0)\n",
    "plt.show()\n",
    "\n",
    "df_sells_by_genres = df_actual_period.groupby(by='genre')['all_sales'].median()\n",
    "df_sells_by_genres = df_sells_by_genres.sort_values()\n",
    "ax = df_sells_by_genres.plot(kind=\"bar\", title='Распределение среднего продаж по жанрам', figsize=(7, 4), xlabel='Жанр', ylabel='Среднее продаж')\n",
    "current_values = plt.gca().get_yticks()\n",
    "ax.set_yticks(ax.get_yticks().tolist())\n",
    "plt.gca().set_yticklabels(['{:,}'.format(x) for x in current_values])\n",
    "plt.ylim(bottom=0)\n",
    "plt.show()"
   ]
  },
  {
   "cell_type": "markdown",
   "id": "87ae7b20",
   "metadata": {},
   "source": [
    "Анализ диаграммы распределения продаж по жанрам показывает, что:\n",
    "- самый прибыльный жанр это **Action** - по нему самое большое количество и сумма продаж\n",
    "- однако если смотреть на распределение медианных и средних продаж - то лидер там это жанр **Shooter** (±500000) а **Action** имеет медиану примерно в 5 раз меньше. Это говорит о том, что характерная продажа в жанре Shooter приносит больше прибыли но жанр Action берет свое за счет количества продаж.\n",
    "- существенной разницы между медианным и средним распределением нет что говорит об отсутствии больших выбросов\n",
    "- top3 самых прибыльных жанров по суммарным продажам это:\n",
    "    - Action\n",
    "    - Shooter\n",
    "    - Sports\n",
    "- top3 самых прибыльных жанров по медианным продажам это:\n",
    "    - Shooter\n",
    "    - Sports\n",
    "    - Platform\n",
    "- жанры Puzzle и Strategy пользуются наименьшей популярностью"
   ]
  },
  {
   "cell_type": "markdown",
   "id": "b7e944c2",
   "metadata": {},
   "source": [
    "<div class=\"alert alert-block alert-danger\">\n",
    "<h2> Комментарий ревьюера V1<a class=\"tocSkip\"></h2>\n",
    "\n",
    "\n",
    "<b>На доработку🤔:</b>\n",
    "В данном пункте помиму суммарных продаж нужно проанализировать средние или медианные продажи. На суммарные продажи большое влияние могут оказывать продажи игр бестселлеров, из-за них общие продажи могут быть максимальными, а вот продажи на одну игру значительно ниже."
   ]
  },
  {
   "cell_type": "markdown",
   "id": "28138f4c-333c-4559-8b41-610bdbb9c158",
   "metadata": {},
   "source": [
    "# 5. Составление портрета пользователя каждого региона"
   ]
  },
  {
   "cell_type": "markdown",
   "id": "ce819896-7ca2-461d-90b3-7d7a359a5650",
   "metadata": {
    "tags": []
   },
   "source": [
    "## 5.1 Определение самых популярных платформ (top 5)"
   ]
  },
  {
   "cell_type": "code",
   "execution_count": null,
   "id": "d06db4b0",
   "metadata": {},
   "outputs": [],
   "source": [
    "def plot_sub_plots_platforms_by_region(df, region_list):\n",
    "    for region in region_list:\n",
    "        print(f'top 5 лидеров платформ по продажам для региона {region}')\n",
    "        df_for_region = df_actual_period.groupby(by='platform')[region].sum()\n",
    "        df_for_region = df_for_region.sort_values()\n",
    "        print(df_for_region.tail(5))\n",
    "        df_for_region.tail(5).plot(kind='pie', labels=None, label='', autopct='%1.0f%%', legend=True, figsize=(6,6), title=f'top 5 лидеров платформ по продажам для региона {region}');\n",
    "        plt.show()"
   ]
  },
  {
   "cell_type": "code",
   "execution_count": null,
   "id": "6623d090",
   "metadata": {},
   "outputs": [],
   "source": [
    "plot_sub_plots_platforms_by_region(df_actual_period, ['na_sales', 'eu_sales', 'jp_sales'])"
   ]
  },
  {
   "cell_type": "markdown",
   "id": "3e6ff56a",
   "metadata": {},
   "source": [
    "<div class=\"alert alert-warning\">\n",
    "<h2> Комментарий ревьюера V1<a class=\"tocSkip\"> </h2>\n",
    "\n",
    "<b>Некоторые замечания и рекомендации💡:</b> Здесь можно было бы использовать метод subplots(), чтобы построить графики в одном полотне, например, в одном ряду, чтобы они все на одном экране сразу поместились и можно было легко их сравнить."
   ]
  },
  {
   "cell_type": "markdown",
   "id": "b4ce20f4",
   "metadata": {},
   "source": [
    "Анализ top-5 платформ по продажам в регионах показал:\n",
    "- для Европы и Северной Америки 1е и 2е места по продажам - PS4 и XOne\n",
    "- для Японии 1е место 3DS, 2e место - PS4\n",
    "- самую большую долю от продаж 1е место в топе занимает PS4 в Европе - 55%\n",
    "- в остальных двух регионах 1е место в топе занимает меньше 50% продаж"
   ]
  },
  {
   "cell_type": "markdown",
   "id": "07bdccc5-1839-4b08-b655-adfa1a0fed4d",
   "metadata": {},
   "source": [
    "## 5.2 Определение самых популярных жанров (top 5)"
   ]
  },
  {
   "cell_type": "code",
   "execution_count": null,
   "id": "542144d6",
   "metadata": {},
   "outputs": [],
   "source": [
    "def plot_sub_plots_genres_by_region(df, region_list):\n",
    "    for region in region_list:\n",
    "        print(f'top 5 лидеров жанров по продажам для региона {region}')\n",
    "        df_for_region = df_actual_period.groupby(by='genre')[region].sum()\n",
    "        df_for_region = df_for_region.sort_values()\n",
    "        print(df_for_region.tail(5))\n",
    "        df_for_region.tail(5).plot(kind='pie', labels=None, label='', autopct='%1.0f%%', legend=True, figsize=(6,6), title=f'top 5 лидеров жанров по продажам для региона {region}');\n",
    "        plt.show()"
   ]
  },
  {
   "cell_type": "code",
   "execution_count": null,
   "id": "b0be842c",
   "metadata": {},
   "outputs": [],
   "source": [
    "plot_sub_plots_genres_by_region(df_actual_period, ['na_sales', 'eu_sales', 'jp_sales'])"
   ]
  },
  {
   "cell_type": "markdown",
   "id": "a7458051",
   "metadata": {},
   "source": [
    "Анализ top-5 жанров по продажам в регионах показал:\n",
    "- первые два места в top 5:\n",
    "    - Европа - Action, Shooter\n",
    "    - Северная Америка - Shooter, Action\n",
    "    - Япония - Role-Playing, Action\n",
    "- жанр на первом месте занимает от 30 до 40 %\n",
    "- жанр на втором месте ненамного меньше в процентном отношении чем первый - 22-29%\n",
    "- остальные жанры занимают намного меньшие доли по продажам во всех регионах"
   ]
  },
  {
   "cell_type": "markdown",
   "id": "0987baf0-f9d4-41f5-86b0-f9254e9b9cc0",
   "metadata": {},
   "source": [
    "## 5.3 Влияние рейтинга ESRB на продажи в отдельном регионе"
   ]
  },
  {
   "cell_type": "code",
   "execution_count": null,
   "id": "488f7175",
   "metadata": {},
   "outputs": [],
   "source": [
    "def plot_sub_plots_rating_by_region(df, region_list):\n",
    "    for region in region_list:\n",
    "        df_for_region = df_actual_period.groupby(by='rating')[region].sum()\n",
    "        df_for_region = df_for_region.sort_values()\n",
    "        df_for_region.plot(kind='pie', labels=None, label='', autopct='%1.0f%%', legend=True, figsize=(6,6), title=f'Распределение продаж по рейтингу ESRB для региона {region}');\n",
    "        plt.show()"
   ]
  },
  {
   "cell_type": "code",
   "execution_count": null,
   "id": "23a7d0b0",
   "metadata": {},
   "outputs": [],
   "source": [
    "plot_sub_plots_rating_by_region(df_actual_period, ['na_sales', 'eu_sales', 'jp_sales'])"
   ]
  },
  {
   "cell_type": "markdown",
   "id": "4c0f8efc",
   "metadata": {},
   "source": [
    "Анализ распределения продаж по рейтингу ESRB для регионов показал:\n",
    "- для Европы и Северной Америки самый популярный рейтинг M - Mature 17+ - Для возраста более 17 лет\n",
    "- для Европы и Северной Америки порядок рейтингов одинаковый - отличаются ненамного лишь сами значения\n",
    "- для Японии самый популярный рейтинг T - Teens - от 13 лет и выше но также очень большую долю занимают значения No rating - именно те, на которые я заменил пропуски в этой колонке. Порядок рейтингов отличается от Европы и Северной Америки"
   ]
  },
  {
   "cell_type": "markdown",
   "id": "956c5e73",
   "metadata": {},
   "source": [
    "<div class=\"alert alert-success\">\n",
    "<h2> Комментарий ревьюера V1<a class=\"tocSkip\"> </h2>\n",
    "\n",
    "<b>Все отлично!👍:</b> Портреты пользователей составил абсолютно верно, продолжай в том же духе!"
   ]
  },
  {
   "cell_type": "markdown",
   "id": "4c8642bb-a81f-4895-a4ae-839eed44a636",
   "metadata": {
    "tags": []
   },
   "source": [
    "# 6. Проверка гипотез"
   ]
  },
  {
   "cell_type": "markdown",
   "id": "41c52f7c-bec8-43e7-8d1c-6bf845a8aa84",
   "metadata": {},
   "source": [
    "## 6.1 Средние пользовательские рейтинги платформ Xbox One и PC одинаковые"
   ]
  },
  {
   "cell_type": "code",
   "execution_count": null,
   "id": "e5b92f1b",
   "metadata": {},
   "outputs": [],
   "source": [
    "alpha = 0.05 # уровень статистической значимости\n",
    "# если p-value окажется меньше него, отвергнем гипотезу\n",
    "\n",
    "df_urating_xone = df_actual_period[df_actual_period['platform'] == 'XOne']['user_score']\n",
    "df_urating_pc = df_actual_period[df_actual_period['platform'] == 'PC']['user_score']\n",
    "results = st.ttest_ind(df_urating_xone, df_urating_pc, nan_policy='omit')\n",
    "print('p-значение:', results.pvalue)\n",
    "\n",
    "if results.pvalue < alpha:\n",
    "    print('Отвергаем нулевую гипотезу')\n",
    "else:\n",
    "    print('Не получилось отвергнуть нулевую гипотезу') "
   ]
  },
  {
   "cell_type": "markdown",
   "id": "d6fbbdc5",
   "metadata": {},
   "source": [
    "- Нулевая гипотеза - средние пользовательские рейтинги платформ XOne и PC одинаковые\n",
    "- Альтернативная гипотеза - средние пользовательские рейтинги платформ XOne и PC разные\n",
    "\n",
    "Принимаем уровень статистической значимости alpha = 0.05\n",
    "### Результат\n",
    "Рассчитаное значение p-value для данных выбророк = 0.5858 и больше, чем принятый уровень статистической значимости - то есть нулевая гипотеза не отвергнута. Таким образом, средние пользовательские рейтинги платформ Xbox One и PC одинаковые в пределах данной статистической значимости."
   ]
  },
  {
   "cell_type": "markdown",
   "id": "e3feadbc-8608-4383-b53d-00ef16cab997",
   "metadata": {},
   "source": [
    "## 6.2 Средние пользовательские рейтинги жанров Action и Sports разные"
   ]
  },
  {
   "cell_type": "code",
   "execution_count": null,
   "id": "16c64345",
   "metadata": {},
   "outputs": [],
   "source": [
    "alpha = 0.05 # уровень статистической значимости\n",
    "# если p-value окажется меньше него, отвергнем гипотезу\n",
    "\n",
    "df_urating_action = df_actual_period[df_actual_period['genre'] == 'Action']['user_score']\n",
    "df_urating_sports = df_actual_period[df_actual_period['genre'] == 'Sports']['user_score']\n",
    "results = st.ttest_ind(df_urating_action, df_urating_sports, nan_policy='omit')\n",
    "print('p-значение:', results.pvalue)\n",
    "\n",
    "if results.pvalue < alpha:\n",
    "    print('Отвергаем нулевую гипотезу')\n",
    "else:\n",
    "    print('Не получилось отвергнуть нулевую гипотезу') "
   ]
  },
  {
   "cell_type": "markdown",
   "id": "2a42c069",
   "metadata": {},
   "source": [
    "- Нулевая гипотеза - средние пользовательские рейтинги жанров Action и Sports одинаковые\n",
    "- Альтернативная гипотеза - средние пользовательские рейтинги жанров Action и Sports разные\n",
    "\n",
    "Принимаем уровень статистической значимости alpha = 0.05\n",
    "### Результат\n",
    "Рассчитаное значение p-value для данных выбророк = 9.92015750638991e-06 и меньше, чем принятый уровень статистической значимости - то есть нулевая гипотеза отвергнута. Таким образом, принята альтернативная гипотеза и средние пользовательские рейтинги жанров Action и Sports разные в пределах данной статистической значимости."
   ]
  },
  {
   "cell_type": "markdown",
   "id": "70e67f34",
   "metadata": {},
   "source": [
    "<div class=\"alert alert-success\">\n",
    "<h2> Комментарий ревьюера V1<a class=\"tocSkip\"> </h2>\n",
    "\n",
    "<b>Все отлично!👍:</b> Правильно сформулировал и проверил гипотезы, молодец!"
   ]
  },
  {
   "cell_type": "markdown",
   "id": "e4db7a53-ac9c-4f8a-ae4b-d13c0dd7b8fd",
   "metadata": {},
   "source": [
    "# 7. Выводы"
   ]
  },
  {
   "cell_type": "markdown",
   "id": "a6d52f31",
   "metadata": {},
   "source": [
    "- Распределение выпусков игр по годам за весь период наблюдений показывает, что до 1984 г количество выпусков игр было небольшим (так как технологии производства приставок только начинались), максимум приходится на 2008-2009 годы и к 2016 году небольшой спад\n",
    "- Top 5 список платформ с максимальными продажами за весь период наблюдений:\n",
    "    - PS2\n",
    "    - X360\n",
    "    - PS3\n",
    "    - Wii\n",
    "    - DS\n",
    "- Анализ этого списка показал, что средний срок жизни платформы 10 лет, и у каждой из платформ за последние 3-4 года происходит резкий спад продаж - во всей видимости это связано с выходом новых платформ.\n",
    "- В качестве актуального периода выбраны три последние года, за которые происходили наблюдения: 2014, 2015, 2016 так как он отражает наиболее актуальные данные по самым современным платформам и именно их надо использовать для планирования стратегии на 2017г\n",
    "- Анализ прибыльности платформ в выбранном актуальном периоде [2014, 2016] показал, что к прибыльным платформам за этот период можно отнести:\n",
    "    - PS4\n",
    "    - XOne\n",
    "    - 3DS\n",
    "- Анализ графиков Boxplot для платформ, которые попали в dataframe с актуальным периодом показывает, что\n",
    "    - минимальное количество выбросов для платформ **Wii, PSP** - но для них и малое количество продаж\n",
    "    - большое количество выбросов для платформ **PS4, PCV, XOne** с большим количеством продаж\n",
    "    - Из графиков видно, что лидер по количеству и сумме продаж - PS4 - имеет самые большие выбросы \"усов\" и второй по величие выброс квартилей 25-75 что объяснимо большим количеством и суммой продаж. При этом, какие либо игры могут продаваться за более высокую цену ввиду своей высокой популярности и активной пердпродажной рекламной кампании и я бы не назвал это выбросами, от которых надо избавляться\n",
    "    - странная картина по графику boxplot для платформы Wii - самый большой размах квартилей - хотя сама платформа в аутсайдерах и по количеству и по сумме продаж. Возможно, это связано с недостаточно репрезентативной выборкой.\n",
    "    - медианная выручка для большей части платформ = 50000000, есть меньшие значения 20000000 для 3DS и PC, для остальных плафторм выборка не вляется репрезентативной.\n",
    "    - если взять платформы из top3 по сумме продаж - **PS4, 3DS, XOne** - то прямоугольник Медиана ± Квартили для 3DS смещен вниз по сравнения с PS4 и XOne. Я это могу объяснить тем, что 3DS - это карманная игровая приставка с мини-экраном, игры для нее стоят в среднем меньше чем для стационарных приставок, таких как PS4 и XOne \n",
    "- Построены матрицы корреляции и диаграммы рассеяния между колонками продажи, рейтинг пользователей, рейтинг критиков для всех платформ из актуального периода, по результатам можно сделать следующие выводы:\n",
    "    - если говорить о платформах из top3 по сумме продаж - **PS4, 3DS, XOne** то корреляция между рейтингом критиков и продажами для PS4 и XOne выше, чем для 3DS\n",
    "    - корреляция между рейтингом пользователей и продажами для 3DS выше, чем для PS4, XOne\n",
    "    - в целом я не вижу среди коэффициентов корреляций значений выше, чем 0.525723 - это коэффициент недостаточный для того, чтобы говорить о сильной корреляционной зависимости\n",
    "    - значения NaN в корреляционной матрице для некоторых платформ связаны с тем, что в соответствующих сериях нет значений, отличных от NaN\n",
    "- Анализ диаграммы распределений жанрам показывает, что:\n",
    "    - самый прибыльный жанр это **Action** - по нему самое большое количество и сумма продаж\n",
    "    - однако если смотреть на распределение медианных и средних продаж - то лидер там это жанр **Shooter** (±500000) а **Action** имеет медиану примерно в 5 раз меньше. Это говорит о том, что характерная продажа в жанре Shooter приносит больше прибыли но жанр Action берет свое за счет количества продаж.\n",
    "    - существенной разницы между медианным и средним распределением нет что говорит об отсутствии больших выбросов\n",
    "    - top3 самых прибыльных жанров по суммарным продажам это:\n",
    "        - Action\n",
    "        - Shooter\n",
    "        - Sports\n",
    "    - top3 самых прибыльных жанров по медианным продажам это:\n",
    "        - Shooter\n",
    "        - Sports\n",
    "        - Platform\n",
    "    - жанры Puzzle и Strategy пользуются наименьшей популярностью\n",
    "- Анализ top-5 платформ по продажам в регионах показал:\n",
    "    - для Европы и Северной Америки 1е и 2е места по продажам - PS4 и XOne\n",
    "    - для Японии 1е место 3DS, 2e место - PS4\n",
    "    - самую большую долю от продаж 1е место в топе занимает PS4 в Европе - 55%\n",
    "    - в остальных двух регионах 1е место в топе занимает меньше 50% продаж\n",
    "- Анализ top-5 жанров по продажам в регионах показал:\n",
    "    - первые два места в top 5:\n",
    "        - Европа - Action, Shooter\n",
    "        - Северная Америка - Shooter, Action\n",
    "        - Япония - Role-Playing, Action\n",
    "    - жанр на первом месте занимает от 30 до 40 %\n",
    "    - жанр на втором месте ненамного меньше в процентном отношении чем первый - 22-29%\n",
    "    - остальные жанры занимают намного меньшие доли по продажам во всех регионах\n",
    "- Анализ распределения продаж по рейтингу ESRB для регионов показал:\n",
    "    - для Европы и Северной Америки самый популярный рейтинг M - Mature 17+ - Для возраста более 17 лет\n",
    "    - для Европы и Северной Америки порядок рейтингов одинаковый - отличаются ненамного лишь сами значения\n",
    "    - для Японии самый популярный рейтинг T - Teens - от 13 лет и выше но также очень большую долю занимают значения No rating - именно те, на которые я заменил пропуски в этой колонке. Порядок рейтингов отличается от Европы и Северной Америки\n",
    "- Проверка гипотез\n",
    "    - Средние пользовательские рейтинги платформ Xbox One и PC одинаковые - на самом деле доля продаж игр на платформе XBox существенно выше чем доля продаж для PC как в целов так и по отдельным регионам\n",
    "    - Средние пользовательские рейтинги жанров Action и Sports разные - но тем не менее продажи по этим жанрам в топе и по значениям близки друг к другу\n",
    "    - Из этого можно сделать вывод, что полагаться на зависимость продаж от пользовательского рейтинга нельзя\n",
    "\n",
    "#### Рекомендации по планированию торговой политики на 2017 г\n",
    "- рекомендуется публиковать для продажи больше игр для платформ PS4, XOne, 3DS\n",
    "- преимущество делать для игр в жанрах Action, Shooter, Role-Playing\n",
    "- и отдавать преимущество играм с рейтингом ESRB M (Mature 17+) и T (Teens 13+)\n",
    "- если говорить о политике распределения по регионам то рекомендации следующие:\n",
    "    - Европа и Северная Америка - эти два рынка очень похожи\n",
    "        - преимущество для платформ PS4, XOne\n",
    "        - преимущество для жанров Action, Shooter\n",
    "        - преимущество для рейтинга ESRB M\n",
    "    - Япония\n",
    "        - преимущество для платформ 3DS, PS4\n",
    "        - преимущество для жанров Role-Playing, Action\n",
    "        - преимущество для рейтинга ESRB T\n",
    "- рекомендации для последующих шагов:\n",
    "    - увеличивать выборку для данных с небольшим количеством - так чтобы можно было рассчитывать например корреляционные характеристики\n",
    "    - при сборе данных с колтчественными характеристиками избегать большого количества пропусков\n",
    "    - для более улучшенной характеристики зависимости продаж от рейтнгов критиков и пользователей построить зависимости медианы, количества и суммы продаж от диапазона рейтингов, разбитых на категории с помощью методов **cut** и **qcut**"
   ]
  },
  {
   "cell_type": "markdown",
   "id": "4abfc6ac",
   "metadata": {},
   "source": [
    "<div class=\"alert alert-warning\">\n",
    "<h2> Комментарий ревьюера V1<a class=\"tocSkip\"> </h2>\n",
    "\n",
    "<b>Некоторые замечания и рекомендации💡:</b> В итоговом выводе нужно достаточно подробно написать основные пункты выявленных зависимостей. Стоит доработать вывод с учетом моих комментариев по ходу работы. В итоговом выводе также старайся оставлять рекомендации для последующих шагов. Например рекомендации, что можно обработать и проанализировать другие признаки, на что твоим коллегам стоить обратить внимание."
   ]
  },
  {
   "cell_type": "markdown",
   "id": "e23e943c-1ca3-4b39-9652-98bb6aa6afef",
   "metadata": {},
   "source": [
    "<div style=\"border:dashed green 1px; background:#097482; padding: 20px\">\n",
    "<span style=\"color:white\">Мои комментарии version:</span>\n",
    "\n",
    "Я хотел бы привести тут формат оформления ноутбука, который я буду использовать:\n",
    "\n",
    "-  Введение\n",
    "-  Шаги проекта оформленные как markdown header 1го уровня - например **2.Предобработка данных**\n",
    "-  Внутри каждого шага промежуточные задачи как заголовки 2го уровня (если они есть)- например \n",
    "   - **2.1 Приведите столбец date к типу даты pandas**\n",
    "   - **2.2 Создайте новый столбец с номером месяца на основе столбца date**\n",
    "   - **2.3 Проверьте наличие пропущенных значений и дубликатов в датафреймах.** \n",
    "- Сначала идет заголовок 1го уровня в ячейке Markdown, потом - если есть - заголовок второго уровня в ячейке Markdown, потом код на Python, потом описание этого шага в ячейке Markdown\n",
    "- Выводы - включают в себя результаты по каждому пункту и общий вывод в виде рекомендаций для бизнеса.\n",
    "\n",
    "Все свои комментарии в ответ на комментарии ревьюера я буду далее добавлять, используя этот стиль"
   ]
  },
  {
   "cell_type": "markdown",
   "id": "d40a9dca",
   "metadata": {},
   "source": [
    "<div style=\"border:solid Chocolate 2px; padding: 40px\">\n",
    "\n",
    "**Общий вывод по проекту**\n",
    "\n",
    "Спасибо за твой проект! Я уверен, что ты приложил все усилия, чтобы сделать этот проект. Это видно по твоей работе, а сформулированные выводы отражают, насколько успешно ты осваиваешь материал.\n",
    "\n",
    "**Отмечу отдельные положительные моменты проекта🙂**:\n",
    "\n",
    "* Ты полностью следовал всем этапам выполнения задания и справился почти со всем. Хорошая работа!\n",
    "* Отдельно выделю некоторые выводы, которые ты смог сформулировать абсолютно точно!\n",
    "* У тебя опрятный и читаемый код. Возможно это звучит банально, однако при работе с чужим кодом это крайне важно)\n",
    "\n",
    "\n",
    "**На что стоит обратить внимание🤓**:\n",
    "\n",
    "* Важно доработать итоговый вывод.\n",
    "* Еще раз построй график \"Ящик с усами\" и проанализируй его.\n",
    "* Рассмотри еще раз самые прибыльные жанры.\n",
    "* Остальные рекомендации ты найдешь в моих комментариях!\n",
    "\n",
    "\n",
    "**Желаю удачи и жду твой проект на повторное ревью!**😉"
   ]
  },
  {
   "cell_type": "markdown",
   "id": "e48e0f14-44fd-4fee-bee5-a20c4cda887f",
   "metadata": {},
   "source": [
    "<div style=\"border:dashed green 1px; background:#097482; padding: 20px\">\n",
    "<span style=\"color:white\">Мои комментарии V1:</span>\n",
    "\n",
    "- c переводом в нижний регистр с помощью функции map я действительно перемудрил - надо просто работать с целой колонкой и pandas внутри все сделает\n",
    "- по поводу библиотек согласен - я замотался и не прочитал секцию о настройке окружения. Сейчас все сделал по инструкции, создал новую среду в конде используя yaml файл предоставленный практикумом. Но там возникла проблема изза того, что я разработку веду сейчас на Маке M1 а для той не очень новой версии numpy, которая предоставлена - возникает ошибка сборки - я нашел на Stackoverflow описание проблемы. В latest версии numpy ее убрали и я могу инсталлировать numpy без проблем. Поэтому буду работать на самой новой версии у себя локально, потом загружать ее в практикум jupiter и еще раз там проверю и только после того как там уже не будет ошибок буду отправлять на ревью. Решение кривое но пока другого не придумал (у меня есть еще другой ноут на Win11 там проблем таких нет но работаю и на том и на другом ноуте). В текущей версии проекта я исправил ошибки которые ты указал и сейчас все в jupyter практикум запускается без ошибок\n",
    "- по коэффициенту корреляции - добавил матрицы корреляции в разрезе каждой платформы и дал описание.\n",
    "- расширил диаграммы для распределения по жанрам\n",
    "- Subplots  я пробовал для размещения графиков в виде матрицы n х m - но там сильно съехали размеры и у меня не полчилось сделать красиво и не было времени разбираться - разберусь когда будет время\n",
    "- Seaborn boxplot построил - все колонки в виде боксплотов на одном графике + плюс отрисовал дополнительно отдельно области с квартилями\n"
   ]
  }
 ],
 "metadata": {
  "ExecuteTimeLog": [
   {
    "duration": 4752,
    "start_time": "2023-11-17T18:40:18.317Z"
   },
   {
    "duration": 113,
    "start_time": "2023-11-17T18:40:23.071Z"
   },
   {
    "duration": 14,
    "start_time": "2023-11-17T18:40:23.185Z"
   },
   {
    "duration": 12,
    "start_time": "2023-11-17T18:40:23.201Z"
   },
   {
    "duration": 20,
    "start_time": "2023-11-17T18:40:23.215Z"
   },
   {
    "duration": 66,
    "start_time": "2023-11-17T18:40:23.237Z"
   },
   {
    "duration": 1714,
    "start_time": "2023-11-17T18:40:23.305Z"
   },
   {
    "duration": 652,
    "start_time": "2023-11-17T18:40:25.021Z"
   },
   {
    "duration": 0,
    "start_time": "2023-11-17T18:40:25.675Z"
   },
   {
    "duration": 0,
    "start_time": "2023-11-17T18:40:25.677Z"
   },
   {
    "duration": 0,
    "start_time": "2023-11-17T18:40:25.678Z"
   },
   {
    "duration": 0,
    "start_time": "2023-11-17T18:40:25.680Z"
   },
   {
    "duration": 0,
    "start_time": "2023-11-17T18:40:25.681Z"
   },
   {
    "duration": 0,
    "start_time": "2023-11-17T18:40:25.683Z"
   },
   {
    "duration": 0,
    "start_time": "2023-11-17T18:40:25.699Z"
   },
   {
    "duration": 0,
    "start_time": "2023-11-17T18:40:25.701Z"
   },
   {
    "duration": 0,
    "start_time": "2023-11-17T18:40:25.702Z"
   },
   {
    "duration": 0,
    "start_time": "2023-11-17T18:40:25.704Z"
   },
   {
    "duration": 0,
    "start_time": "2023-11-17T18:40:25.705Z"
   },
   {
    "duration": 0,
    "start_time": "2023-11-17T18:40:25.707Z"
   },
   {
    "duration": 0,
    "start_time": "2023-11-17T18:40:25.708Z"
   },
   {
    "duration": 0,
    "start_time": "2023-11-17T18:40:25.709Z"
   },
   {
    "duration": 0,
    "start_time": "2023-11-17T18:40:25.710Z"
   },
   {
    "duration": 0,
    "start_time": "2023-11-17T18:40:25.711Z"
   },
   {
    "duration": 0,
    "start_time": "2023-11-17T18:40:25.712Z"
   },
   {
    "duration": 0,
    "start_time": "2023-11-17T18:40:25.714Z"
   },
   {
    "duration": 1,
    "start_time": "2023-11-17T18:40:25.714Z"
   },
   {
    "duration": 0,
    "start_time": "2023-11-17T18:40:25.716Z"
   },
   {
    "duration": 17,
    "start_time": "2023-11-17T18:51:24.464Z"
   },
   {
    "duration": 365,
    "start_time": "2023-11-17T18:51:40.536Z"
   },
   {
    "duration": 5,
    "start_time": "2023-11-17T18:51:50.627Z"
   },
   {
    "duration": 1244,
    "start_time": "2023-11-17T18:51:51.761Z"
   },
   {
    "duration": 17,
    "start_time": "2023-11-17T18:53:09.440Z"
   },
   {
    "duration": 1290,
    "start_time": "2023-11-17T18:53:32.904Z"
   },
   {
    "duration": 5,
    "start_time": "2023-11-17T18:54:39.993Z"
   },
   {
    "duration": 1338,
    "start_time": "2023-11-17T18:54:40.716Z"
   },
   {
    "duration": 325,
    "start_time": "2023-11-17T18:58:43.035Z"
   },
   {
    "duration": 5,
    "start_time": "2023-11-17T18:59:07.181Z"
   },
   {
    "duration": 2724,
    "start_time": "2023-11-17T18:59:07.791Z"
   },
   {
    "duration": 207,
    "start_time": "2023-11-17T19:00:46.806Z"
   },
   {
    "duration": 4,
    "start_time": "2023-11-17T19:01:45.556Z"
   },
   {
    "duration": 537,
    "start_time": "2023-11-17T19:01:46.870Z"
   },
   {
    "duration": 4,
    "start_time": "2023-11-17T19:05:11.700Z"
   },
   {
    "duration": 573,
    "start_time": "2023-11-17T19:05:12.261Z"
   },
   {
    "duration": 4,
    "start_time": "2023-11-17T19:05:13.551Z"
   },
   {
    "duration": 529,
    "start_time": "2023-11-17T19:05:13.841Z"
   },
   {
    "duration": 9,
    "start_time": "2023-11-17T19:05:43.855Z"
   },
   {
    "duration": 9,
    "start_time": "2023-11-17T19:05:46.522Z"
   }
  ],
  "kernelspec": {
   "display_name": "Python 3 (ipykernel)",
   "language": "python",
   "name": "python3"
  },
  "language_info": {
   "codemirror_mode": {
    "name": "ipython",
    "version": 3
   },
   "file_extension": ".py",
   "mimetype": "text/x-python",
   "name": "python",
   "nbconvert_exporter": "python",
   "pygments_lexer": "ipython3",
   "version": "3.11.5"
  },
  "toc": {
   "base_numbering": 1,
   "nav_menu": {},
   "number_sections": true,
   "sideBar": true,
   "skip_h1_title": true,
   "title_cell": "Table of Contents",
   "title_sidebar": "Contents",
   "toc_cell": false,
   "toc_position": {},
   "toc_section_display": true,
   "toc_window_display": false
  }
 },
 "nbformat": 4,
 "nbformat_minor": 5
}
