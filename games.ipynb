{
 "cells": [
  {
   "cell_type": "markdown",
   "id": "aae22df5-00fc-4f18-8f9c-5311dc9d1eee",
   "metadata": {},
   "source": [
    "# Сборный проект по первому блоку курса Data Science"
   ]
  },
  {
   "cell_type": "markdown",
   "id": "0d2c6cb8-4292-425e-a197-f3533f2104dd",
   "metadata": {},
   "source": [
    "# 1. Введение\n",
    "\n",
    "Вы работаете в интернет-магазине «Стримчик», который продаёт по всему миру компьютерные игры. Из открытых источников доступны исторические данные о продажах игр, оценки пользователей и экспертов, жанры и платформы (например, Xbox или PlayStation). Вам нужно выявить определяющие успешность игры закономерности. Это позволит сделать ставку на потенциально популярный продукт и спланировать рекламные кампании.\n",
    "\n",
    "### Описание данных\n",
    "- Name — название игры\n",
    "- Platform — платформа\n",
    "- Year_of_Release — год выпуска\n",
    "- Genre — жанр игры\n",
    "- NA_sales — продажи в Северной Америке (миллионы проданных копий)\n",
    "- EU_sales — продажи в Европе (миллионы проданных копий)\n",
    "- JP_sales — продажи в Японии (миллионы проданных копий)\n",
    "- Other_sales — продажи в других странах (миллионы проданных копий)\n",
    "- Critic_Score — оценка критиков (максимум 100)\n",
    "- User_Score — оценка пользователей (максимум 10)\n",
    "- Rating — рейтинг от организации ESRB (англ. Entertainment Software Rating Board). Эта ассоциация определяет рейтинг компьютерных игр и присваивает им подходящую возрастную категорию."
   ]
  },
  {
   "cell_type": "markdown",
   "id": "730d86bd-2e7a-4858-b29a-50f08996c9c0",
   "metadata": {
    "tags": []
   },
   "source": [
    "# 2. Открытие файла с данными и изучение общей информации"
   ]
  },
  {
   "cell_type": "code",
   "execution_count": 146,
   "id": "47aa5438-66ba-47c0-ae24-5730b123bb5f",
   "metadata": {
    "tags": []
   },
   "outputs": [],
   "source": [
    "import pandas as pd\n",
    "from scipy import stats as st\n",
    "import numpy as np\n",
    "import matplotlib.pyplot as plt"
   ]
  },
  {
   "cell_type": "code",
   "execution_count": 147,
   "id": "865e6bce",
   "metadata": {},
   "outputs": [
    {
     "data": {
      "text/html": [
       "<div>\n",
       "<style scoped>\n",
       "    .dataframe tbody tr th:only-of-type {\n",
       "        vertical-align: middle;\n",
       "    }\n",
       "\n",
       "    .dataframe tbody tr th {\n",
       "        vertical-align: top;\n",
       "    }\n",
       "\n",
       "    .dataframe thead th {\n",
       "        text-align: right;\n",
       "    }\n",
       "</style>\n",
       "<table border=\"1\" class=\"dataframe\">\n",
       "  <thead>\n",
       "    <tr style=\"text-align: right;\">\n",
       "      <th></th>\n",
       "      <th>Name</th>\n",
       "      <th>Platform</th>\n",
       "      <th>Year_of_Release</th>\n",
       "      <th>Genre</th>\n",
       "      <th>NA_sales</th>\n",
       "      <th>EU_sales</th>\n",
       "      <th>JP_sales</th>\n",
       "      <th>Other_sales</th>\n",
       "      <th>Critic_Score</th>\n",
       "      <th>User_Score</th>\n",
       "      <th>Rating</th>\n",
       "    </tr>\n",
       "  </thead>\n",
       "  <tbody>\n",
       "    <tr>\n",
       "      <th>0</th>\n",
       "      <td>Wii Sports</td>\n",
       "      <td>Wii</td>\n",
       "      <td>2006.0</td>\n",
       "      <td>Sports</td>\n",
       "      <td>41.36</td>\n",
       "      <td>28.96</td>\n",
       "      <td>3.77</td>\n",
       "      <td>8.45</td>\n",
       "      <td>76.0</td>\n",
       "      <td>8</td>\n",
       "      <td>E</td>\n",
       "    </tr>\n",
       "    <tr>\n",
       "      <th>1</th>\n",
       "      <td>Super Mario Bros.</td>\n",
       "      <td>NES</td>\n",
       "      <td>1985.0</td>\n",
       "      <td>Platform</td>\n",
       "      <td>29.08</td>\n",
       "      <td>3.58</td>\n",
       "      <td>6.81</td>\n",
       "      <td>0.77</td>\n",
       "      <td>NaN</td>\n",
       "      <td>NaN</td>\n",
       "      <td>NaN</td>\n",
       "    </tr>\n",
       "    <tr>\n",
       "      <th>2</th>\n",
       "      <td>Mario Kart Wii</td>\n",
       "      <td>Wii</td>\n",
       "      <td>2008.0</td>\n",
       "      <td>Racing</td>\n",
       "      <td>15.68</td>\n",
       "      <td>12.76</td>\n",
       "      <td>3.79</td>\n",
       "      <td>3.29</td>\n",
       "      <td>82.0</td>\n",
       "      <td>8.3</td>\n",
       "      <td>E</td>\n",
       "    </tr>\n",
       "    <tr>\n",
       "      <th>3</th>\n",
       "      <td>Wii Sports Resort</td>\n",
       "      <td>Wii</td>\n",
       "      <td>2009.0</td>\n",
       "      <td>Sports</td>\n",
       "      <td>15.61</td>\n",
       "      <td>10.93</td>\n",
       "      <td>3.28</td>\n",
       "      <td>2.95</td>\n",
       "      <td>80.0</td>\n",
       "      <td>8</td>\n",
       "      <td>E</td>\n",
       "    </tr>\n",
       "    <tr>\n",
       "      <th>4</th>\n",
       "      <td>Pokemon Red/Pokemon Blue</td>\n",
       "      <td>GB</td>\n",
       "      <td>1996.0</td>\n",
       "      <td>Role-Playing</td>\n",
       "      <td>11.27</td>\n",
       "      <td>8.89</td>\n",
       "      <td>10.22</td>\n",
       "      <td>1.00</td>\n",
       "      <td>NaN</td>\n",
       "      <td>NaN</td>\n",
       "      <td>NaN</td>\n",
       "    </tr>\n",
       "  </tbody>\n",
       "</table>\n",
       "</div>"
      ],
      "text/plain": [
       "                       Name Platform  Year_of_Release         Genre  NA_sales  \\\n",
       "0                Wii Sports      Wii           2006.0        Sports     41.36   \n",
       "1         Super Mario Bros.      NES           1985.0      Platform     29.08   \n",
       "2            Mario Kart Wii      Wii           2008.0        Racing     15.68   \n",
       "3         Wii Sports Resort      Wii           2009.0        Sports     15.61   \n",
       "4  Pokemon Red/Pokemon Blue       GB           1996.0  Role-Playing     11.27   \n",
       "\n",
       "   EU_sales  JP_sales  Other_sales  Critic_Score User_Score Rating  \n",
       "0     28.96      3.77         8.45          76.0          8      E  \n",
       "1      3.58      6.81         0.77           NaN        NaN    NaN  \n",
       "2     12.76      3.79         3.29          82.0        8.3      E  \n",
       "3     10.93      3.28         2.95          80.0          8      E  \n",
       "4      8.89     10.22         1.00           NaN        NaN    NaN  "
      ]
     },
     "metadata": {},
     "output_type": "display_data"
    },
    {
     "name": "stdout",
     "output_type": "stream",
     "text": [
      "<class 'pandas.core.frame.DataFrame'>\n",
      "RangeIndex: 16715 entries, 0 to 16714\n",
      "Data columns (total 11 columns):\n",
      " #   Column           Non-Null Count  Dtype  \n",
      "---  ------           --------------  -----  \n",
      " 0   Name             16713 non-null  object \n",
      " 1   Platform         16715 non-null  object \n",
      " 2   Year_of_Release  16446 non-null  float64\n",
      " 3   Genre            16713 non-null  object \n",
      " 4   NA_sales         16715 non-null  float64\n",
      " 5   EU_sales         16715 non-null  float64\n",
      " 6   JP_sales         16715 non-null  float64\n",
      " 7   Other_sales      16715 non-null  float64\n",
      " 8   Critic_Score     8137 non-null   float64\n",
      " 9   User_Score       10014 non-null  object \n",
      " 10  Rating           9949 non-null   object \n",
      "dtypes: float64(6), object(5)\n",
      "memory usage: 1.4+ MB\n"
     ]
    }
   ],
   "source": [
    "df = pd.read_csv('https://code.s3.yandex.net/datasets/games.csv')\n",
    "display(df.head())\n",
    "df.info()"
   ]
  },
  {
   "cell_type": "markdown",
   "id": "29ee1b58",
   "metadata": {},
   "source": [
    "Источник данных представляет собой таблицу из 11 колонок и 16715 строк. Содержание колонок в целом соответствует описанию данных из Введения."
   ]
  },
  {
   "cell_type": "markdown",
   "id": "11a52958-254c-4576-8043-7a8c34489f9a",
   "metadata": {},
   "source": [
    "# 3. Подготовка данных"
   ]
  },
  {
   "cell_type": "markdown",
   "id": "b4063f48-7564-4cab-ac7a-bbf63012ed88",
   "metadata": {},
   "source": [
    "## 3.1 Замена названий столбцов (приведение к нижнему регистру)"
   ]
  },
  {
   "cell_type": "code",
   "execution_count": 148,
   "id": "b0c9a570",
   "metadata": {},
   "outputs": [
    {
     "data": {
      "text/html": [
       "<div>\n",
       "<style scoped>\n",
       "    .dataframe tbody tr th:only-of-type {\n",
       "        vertical-align: middle;\n",
       "    }\n",
       "\n",
       "    .dataframe tbody tr th {\n",
       "        vertical-align: top;\n",
       "    }\n",
       "\n",
       "    .dataframe thead th {\n",
       "        text-align: right;\n",
       "    }\n",
       "</style>\n",
       "<table border=\"1\" class=\"dataframe\">\n",
       "  <thead>\n",
       "    <tr style=\"text-align: right;\">\n",
       "      <th></th>\n",
       "      <th>name</th>\n",
       "      <th>platform</th>\n",
       "      <th>year_of_release</th>\n",
       "      <th>genre</th>\n",
       "      <th>na_sales</th>\n",
       "      <th>eu_sales</th>\n",
       "      <th>jp_sales</th>\n",
       "      <th>other_sales</th>\n",
       "      <th>critic_score</th>\n",
       "      <th>user_score</th>\n",
       "      <th>rating</th>\n",
       "    </tr>\n",
       "  </thead>\n",
       "  <tbody>\n",
       "    <tr>\n",
       "      <th>0</th>\n",
       "      <td>Wii Sports</td>\n",
       "      <td>Wii</td>\n",
       "      <td>2006.0</td>\n",
       "      <td>Sports</td>\n",
       "      <td>41.36</td>\n",
       "      <td>28.96</td>\n",
       "      <td>3.77</td>\n",
       "      <td>8.45</td>\n",
       "      <td>76.0</td>\n",
       "      <td>8</td>\n",
       "      <td>E</td>\n",
       "    </tr>\n",
       "    <tr>\n",
       "      <th>1</th>\n",
       "      <td>Super Mario Bros.</td>\n",
       "      <td>NES</td>\n",
       "      <td>1985.0</td>\n",
       "      <td>Platform</td>\n",
       "      <td>29.08</td>\n",
       "      <td>3.58</td>\n",
       "      <td>6.81</td>\n",
       "      <td>0.77</td>\n",
       "      <td>NaN</td>\n",
       "      <td>NaN</td>\n",
       "      <td>NaN</td>\n",
       "    </tr>\n",
       "    <tr>\n",
       "      <th>2</th>\n",
       "      <td>Mario Kart Wii</td>\n",
       "      <td>Wii</td>\n",
       "      <td>2008.0</td>\n",
       "      <td>Racing</td>\n",
       "      <td>15.68</td>\n",
       "      <td>12.76</td>\n",
       "      <td>3.79</td>\n",
       "      <td>3.29</td>\n",
       "      <td>82.0</td>\n",
       "      <td>8.3</td>\n",
       "      <td>E</td>\n",
       "    </tr>\n",
       "    <tr>\n",
       "      <th>3</th>\n",
       "      <td>Wii Sports Resort</td>\n",
       "      <td>Wii</td>\n",
       "      <td>2009.0</td>\n",
       "      <td>Sports</td>\n",
       "      <td>15.61</td>\n",
       "      <td>10.93</td>\n",
       "      <td>3.28</td>\n",
       "      <td>2.95</td>\n",
       "      <td>80.0</td>\n",
       "      <td>8</td>\n",
       "      <td>E</td>\n",
       "    </tr>\n",
       "    <tr>\n",
       "      <th>4</th>\n",
       "      <td>Pokemon Red/Pokemon Blue</td>\n",
       "      <td>GB</td>\n",
       "      <td>1996.0</td>\n",
       "      <td>Role-Playing</td>\n",
       "      <td>11.27</td>\n",
       "      <td>8.89</td>\n",
       "      <td>10.22</td>\n",
       "      <td>1.00</td>\n",
       "      <td>NaN</td>\n",
       "      <td>NaN</td>\n",
       "      <td>NaN</td>\n",
       "    </tr>\n",
       "  </tbody>\n",
       "</table>\n",
       "</div>"
      ],
      "text/plain": [
       "                       name platform  year_of_release         genre  na_sales  \\\n",
       "0                Wii Sports      Wii           2006.0        Sports     41.36   \n",
       "1         Super Mario Bros.      NES           1985.0      Platform     29.08   \n",
       "2            Mario Kart Wii      Wii           2008.0        Racing     15.68   \n",
       "3         Wii Sports Resort      Wii           2009.0        Sports     15.61   \n",
       "4  Pokemon Red/Pokemon Blue       GB           1996.0  Role-Playing     11.27   \n",
       "\n",
       "   eu_sales  jp_sales  other_sales  critic_score user_score rating  \n",
       "0     28.96      3.77         8.45          76.0          8      E  \n",
       "1      3.58      6.81         0.77           NaN        NaN    NaN  \n",
       "2     12.76      3.79         3.29          82.0        8.3      E  \n",
       "3     10.93      3.28         2.95          80.0          8      E  \n",
       "4      8.89     10.22         1.00           NaN        NaN    NaN  "
      ]
     },
     "execution_count": 148,
     "metadata": {},
     "output_type": "execute_result"
    }
   ],
   "source": [
    "df.columns = map(lambda x:x.lower(),df.columns)\n",
    "df.head()"
   ]
  },
  {
   "cell_type": "markdown",
   "id": "d1c4697b",
   "metadata": {},
   "source": [
    "Названия столбцов переведены в нижний регистр"
   ]
  },
  {
   "cell_type": "markdown",
   "id": "2cd84d17-2ffc-4c38-a966-7a3f967e3092",
   "metadata": {},
   "source": [
    "## 3.2 Преобразование данных в нужные типы"
   ]
  },
  {
   "cell_type": "code",
   "execution_count": 149,
   "id": "95662d35",
   "metadata": {},
   "outputs": [
    {
     "name": "stdout",
     "output_type": "stream",
     "text": [
      "True\n"
     ]
    }
   ],
   "source": [
    "import math\n",
    "def is_whole_number(number):\n",
    "    return math.floor(number) == number\n",
    "def all_whole_numbers(numbers):\n",
    "    return all(map(is_whole_number, numbers))\n",
    "df_temp = df['critic_score'].dropna()\n",
    "print(all_whole_numbers(df_temp))"
   ]
  },
  {
   "cell_type": "markdown",
   "id": "28e2c3da",
   "metadata": {},
   "source": [
    "Проверил что в колонке **critic_score** все валидные значения не имеют дробной части и предсатвляют собой целое число процентов c нулем после десятичной точки."
   ]
  },
  {
   "cell_type": "code",
   "execution_count": 150,
   "id": "d22cdfa1",
   "metadata": {},
   "outputs": [
    {
     "name": "stdout",
     "output_type": "stream",
     "text": [
      "Количество записей в таблице с значенем user_score == tbd:  2424\n",
      "Количество записей в таблице с значенем user_score == 0:  1\n",
      "Количество записей в таблице с значенем user_score == tbd:  0\n",
      "Количество записей в таблице с значенем user_score == 0:  2425\n"
     ]
    }
   ],
   "source": [
    "print('Количество записей в таблице с значенем user_score == tbd: ', df[df['user_score'] == 'tbd']['user_score'].count())\n",
    "print('Количество записей в таблице с значенем user_score == 0: ', df[df['user_score'] == '0']['user_score'].count())\n",
    "df.loc[df['user_score'] == 'tbd','user_score'] = '0'\n",
    "print('Количество записей в таблице с значенем user_score == tbd: ', df[df['user_score'] == 'tbd']['user_score'].count())\n",
    "print('Количество записей в таблице с значенем user_score == 0: ', df[df['user_score'] == '0']['user_score'].count())\n"
   ]
  },
  {
   "cell_type": "markdown",
   "id": "1542cb2f",
   "metadata": {},
   "source": [
    "Посчитал количество записей в таблице с значенем user_score равным tbd и 0"
   ]
  },
  {
   "cell_type": "code",
   "execution_count": 151,
   "id": "3d51b96c",
   "metadata": {},
   "outputs": [
    {
     "name": "stdout",
     "output_type": "stream",
     "text": [
      "<class 'pandas.core.frame.DataFrame'>\n",
      "RangeIndex: 16715 entries, 0 to 16714\n",
      "Data columns (total 11 columns):\n",
      " #   Column           Non-Null Count  Dtype  \n",
      "---  ------           --------------  -----  \n",
      " 0   name             16713 non-null  object \n",
      " 1   platform         16715 non-null  object \n",
      " 2   year_of_release  16446 non-null  float64\n",
      " 3   genre            16713 non-null  object \n",
      " 4   na_sales         16715 non-null  float64\n",
      " 5   eu_sales         16715 non-null  float64\n",
      " 6   jp_sales         16715 non-null  float64\n",
      " 7   other_sales      16715 non-null  float64\n",
      " 8   critic_score     8137 non-null   float64\n",
      " 9   user_score       10014 non-null  object \n",
      " 10  rating           9949 non-null   object \n",
      "dtypes: float64(6), object(5)\n",
      "memory usage: 1.4+ MB\n"
     ]
    },
    {
     "data": {
      "text/html": [
       "<div>\n",
       "<style scoped>\n",
       "    .dataframe tbody tr th:only-of-type {\n",
       "        vertical-align: middle;\n",
       "    }\n",
       "\n",
       "    .dataframe tbody tr th {\n",
       "        vertical-align: top;\n",
       "    }\n",
       "\n",
       "    .dataframe thead th {\n",
       "        text-align: right;\n",
       "    }\n",
       "</style>\n",
       "<table border=\"1\" class=\"dataframe\">\n",
       "  <thead>\n",
       "    <tr style=\"text-align: right;\">\n",
       "      <th></th>\n",
       "      <th>name</th>\n",
       "      <th>platform</th>\n",
       "      <th>year_of_release</th>\n",
       "      <th>genre</th>\n",
       "      <th>na_sales</th>\n",
       "      <th>eu_sales</th>\n",
       "      <th>jp_sales</th>\n",
       "      <th>other_sales</th>\n",
       "      <th>critic_score</th>\n",
       "      <th>user_score</th>\n",
       "      <th>rating</th>\n",
       "    </tr>\n",
       "  </thead>\n",
       "  <tbody>\n",
       "    <tr>\n",
       "      <th>0</th>\n",
       "      <td>Wii Sports</td>\n",
       "      <td>Wii</td>\n",
       "      <td>2006.0</td>\n",
       "      <td>Sports</td>\n",
       "      <td>41.36</td>\n",
       "      <td>28.96</td>\n",
       "      <td>3.77</td>\n",
       "      <td>8.45</td>\n",
       "      <td>76.0</td>\n",
       "      <td>8</td>\n",
       "      <td>E</td>\n",
       "    </tr>\n",
       "    <tr>\n",
       "      <th>1</th>\n",
       "      <td>Super Mario Bros.</td>\n",
       "      <td>NES</td>\n",
       "      <td>1985.0</td>\n",
       "      <td>Platform</td>\n",
       "      <td>29.08</td>\n",
       "      <td>3.58</td>\n",
       "      <td>6.81</td>\n",
       "      <td>0.77</td>\n",
       "      <td>NaN</td>\n",
       "      <td>NaN</td>\n",
       "      <td>NaN</td>\n",
       "    </tr>\n",
       "    <tr>\n",
       "      <th>2</th>\n",
       "      <td>Mario Kart Wii</td>\n",
       "      <td>Wii</td>\n",
       "      <td>2008.0</td>\n",
       "      <td>Racing</td>\n",
       "      <td>15.68</td>\n",
       "      <td>12.76</td>\n",
       "      <td>3.79</td>\n",
       "      <td>3.29</td>\n",
       "      <td>82.0</td>\n",
       "      <td>8.3</td>\n",
       "      <td>E</td>\n",
       "    </tr>\n",
       "    <tr>\n",
       "      <th>3</th>\n",
       "      <td>Wii Sports Resort</td>\n",
       "      <td>Wii</td>\n",
       "      <td>2009.0</td>\n",
       "      <td>Sports</td>\n",
       "      <td>15.61</td>\n",
       "      <td>10.93</td>\n",
       "      <td>3.28</td>\n",
       "      <td>2.95</td>\n",
       "      <td>80.0</td>\n",
       "      <td>8</td>\n",
       "      <td>E</td>\n",
       "    </tr>\n",
       "    <tr>\n",
       "      <th>4</th>\n",
       "      <td>Pokemon Red/Pokemon Blue</td>\n",
       "      <td>GB</td>\n",
       "      <td>1996.0</td>\n",
       "      <td>Role-Playing</td>\n",
       "      <td>11.27</td>\n",
       "      <td>8.89</td>\n",
       "      <td>10.22</td>\n",
       "      <td>1.00</td>\n",
       "      <td>NaN</td>\n",
       "      <td>NaN</td>\n",
       "      <td>NaN</td>\n",
       "    </tr>\n",
       "  </tbody>\n",
       "</table>\n",
       "</div>"
      ],
      "text/plain": [
       "                       name platform  year_of_release         genre  na_sales  \\\n",
       "0                Wii Sports      Wii           2006.0        Sports     41.36   \n",
       "1         Super Mario Bros.      NES           1985.0      Platform     29.08   \n",
       "2            Mario Kart Wii      Wii           2008.0        Racing     15.68   \n",
       "3         Wii Sports Resort      Wii           2009.0        Sports     15.61   \n",
       "4  Pokemon Red/Pokemon Blue       GB           1996.0  Role-Playing     11.27   \n",
       "\n",
       "   eu_sales  jp_sales  other_sales  critic_score user_score rating  \n",
       "0     28.96      3.77         8.45          76.0          8      E  \n",
       "1      3.58      6.81         0.77           NaN        NaN    NaN  \n",
       "2     12.76      3.79         3.29          82.0        8.3      E  \n",
       "3     10.93      3.28         2.95          80.0          8      E  \n",
       "4      8.89     10.22         1.00           NaN        NaN    NaN  "
      ]
     },
     "metadata": {},
     "output_type": "display_data"
    },
    {
     "name": "stdout",
     "output_type": "stream",
     "text": [
      "<class 'pandas.core.frame.DataFrame'>\n",
      "RangeIndex: 16715 entries, 0 to 16714\n",
      "Data columns (total 11 columns):\n",
      " #   Column           Non-Null Count  Dtype  \n",
      "---  ------           --------------  -----  \n",
      " 0   name             16713 non-null  string \n",
      " 1   platform         16715 non-null  string \n",
      " 2   year_of_release  16446 non-null  Int64  \n",
      " 3   genre            16713 non-null  string \n",
      " 4   na_sales         16715 non-null  int64  \n",
      " 5   eu_sales         16715 non-null  int64  \n",
      " 6   jp_sales         16715 non-null  int64  \n",
      " 7   other_sales      16715 non-null  int64  \n",
      " 8   critic_score     8137 non-null   Int64  \n",
      " 9   user_score       10014 non-null  float64\n",
      " 10  rating           9949 non-null   string \n",
      "dtypes: Int64(2), float64(1), int64(4), string(4)\n",
      "memory usage: 1.4 MB\n"
     ]
    },
    {
     "data": {
      "text/html": [
       "<div>\n",
       "<style scoped>\n",
       "    .dataframe tbody tr th:only-of-type {\n",
       "        vertical-align: middle;\n",
       "    }\n",
       "\n",
       "    .dataframe tbody tr th {\n",
       "        vertical-align: top;\n",
       "    }\n",
       "\n",
       "    .dataframe thead th {\n",
       "        text-align: right;\n",
       "    }\n",
       "</style>\n",
       "<table border=\"1\" class=\"dataframe\">\n",
       "  <thead>\n",
       "    <tr style=\"text-align: right;\">\n",
       "      <th></th>\n",
       "      <th>name</th>\n",
       "      <th>platform</th>\n",
       "      <th>year_of_release</th>\n",
       "      <th>genre</th>\n",
       "      <th>na_sales</th>\n",
       "      <th>eu_sales</th>\n",
       "      <th>jp_sales</th>\n",
       "      <th>other_sales</th>\n",
       "      <th>critic_score</th>\n",
       "      <th>user_score</th>\n",
       "      <th>rating</th>\n",
       "    </tr>\n",
       "  </thead>\n",
       "  <tbody>\n",
       "    <tr>\n",
       "      <th>0</th>\n",
       "      <td>Wii Sports</td>\n",
       "      <td>Wii</td>\n",
       "      <td>2006</td>\n",
       "      <td>Sports</td>\n",
       "      <td>41360000</td>\n",
       "      <td>28960000</td>\n",
       "      <td>3770000</td>\n",
       "      <td>8450000</td>\n",
       "      <td>76</td>\n",
       "      <td>8.0</td>\n",
       "      <td>E</td>\n",
       "    </tr>\n",
       "    <tr>\n",
       "      <th>1</th>\n",
       "      <td>Super Mario Bros.</td>\n",
       "      <td>NES</td>\n",
       "      <td>1985</td>\n",
       "      <td>Platform</td>\n",
       "      <td>29080000</td>\n",
       "      <td>3580000</td>\n",
       "      <td>6810000</td>\n",
       "      <td>770000</td>\n",
       "      <td>&lt;NA&gt;</td>\n",
       "      <td>NaN</td>\n",
       "      <td>&lt;NA&gt;</td>\n",
       "    </tr>\n",
       "    <tr>\n",
       "      <th>2</th>\n",
       "      <td>Mario Kart Wii</td>\n",
       "      <td>Wii</td>\n",
       "      <td>2008</td>\n",
       "      <td>Racing</td>\n",
       "      <td>15680000</td>\n",
       "      <td>12760000</td>\n",
       "      <td>3790000</td>\n",
       "      <td>3290000</td>\n",
       "      <td>82</td>\n",
       "      <td>8.3</td>\n",
       "      <td>E</td>\n",
       "    </tr>\n",
       "    <tr>\n",
       "      <th>3</th>\n",
       "      <td>Wii Sports Resort</td>\n",
       "      <td>Wii</td>\n",
       "      <td>2009</td>\n",
       "      <td>Sports</td>\n",
       "      <td>15610000</td>\n",
       "      <td>10930000</td>\n",
       "      <td>3280000</td>\n",
       "      <td>2950000</td>\n",
       "      <td>80</td>\n",
       "      <td>8.0</td>\n",
       "      <td>E</td>\n",
       "    </tr>\n",
       "    <tr>\n",
       "      <th>4</th>\n",
       "      <td>Pokemon Red/Pokemon Blue</td>\n",
       "      <td>GB</td>\n",
       "      <td>1996</td>\n",
       "      <td>Role-Playing</td>\n",
       "      <td>11270000</td>\n",
       "      <td>8890000</td>\n",
       "      <td>10220000</td>\n",
       "      <td>1000000</td>\n",
       "      <td>&lt;NA&gt;</td>\n",
       "      <td>NaN</td>\n",
       "      <td>&lt;NA&gt;</td>\n",
       "    </tr>\n",
       "  </tbody>\n",
       "</table>\n",
       "</div>"
      ],
      "text/plain": [
       "                       name platform  year_of_release         genre  na_sales  \\\n",
       "0                Wii Sports      Wii             2006        Sports  41360000   \n",
       "1         Super Mario Bros.      NES             1985      Platform  29080000   \n",
       "2            Mario Kart Wii      Wii             2008        Racing  15680000   \n",
       "3         Wii Sports Resort      Wii             2009        Sports  15610000   \n",
       "4  Pokemon Red/Pokemon Blue       GB             1996  Role-Playing  11270000   \n",
       "\n",
       "   eu_sales  jp_sales  other_sales  critic_score  user_score rating  \n",
       "0  28960000   3770000      8450000            76         8.0      E  \n",
       "1   3580000   6810000       770000          <NA>         NaN   <NA>  \n",
       "2  12760000   3790000      3290000            82         8.3      E  \n",
       "3  10930000   3280000      2950000            80         8.0      E  \n",
       "4   8890000  10220000      1000000          <NA>         NaN   <NA>  "
      ]
     },
     "execution_count": 151,
     "metadata": {},
     "output_type": "execute_result"
    }
   ],
   "source": [
    "df.info()\n",
    "display(df.head())\n",
    "for col in ['na_sales', 'eu_sales', 'jp_sales', 'other_sales']:\n",
    "    df[col] = df[col] * 1000000\n",
    "df = df.astype({\"name\":'string',\"platform\":'string',\"year_of_release\":'Int64',\"genre\":'string',\"na_sales\":'int',\"eu_sales\":'int',\"jp_sales\":'int',\"other_sales\":'int',\"critic_score\":'Int64',\"rating\":'string'}, errors = 'ignore')\n",
    "df['user_score'] = pd.to_numeric(df['user_score'], errors = 'coerce')\n",
    "df.info()\n",
    "df.head()"
   ]
  },
  {
   "cell_type": "markdown",
   "id": "7b1c5440",
   "metadata": {},
   "source": [
    "Были проведены следующие изменения типов:\n",
    "- колонки **name** , **platform**, **genre**, **rating** переводятся в **string** так как они содержат строковые значения (или NaN)\n",
    "- колонка **year_of_release** содержит год релиза который представляет из себя целое число, я использовал приведение к dtype Int64, при котором произошло и отбрасывание дробной части в виде 0\n",
    "- колонки **na_sales**, **eu_sales**, **jp_sales**, **other_sales** содержат число миллионов с дробной частью - я перевел сначала их просто в число продаж путем умножения на 1 000 000 а потом привел к целому - так как использование чисел типа float в Python сопряжено с накопленной ошибкой вычисления и по возможности если можно их надо избегать. В данном случае именно такой случай.\n",
    "- колонка **critic_score** содержит рейтинг от критиков в интервале от 0 до 100, который не содержит дробной части после запятой (выше я провел проверку этого факта). Таким образом, эта колонка содержит целое число процентов и ее тип можно перевести в int с отбрасыванием дробной части\n",
    "Для преобразования типов я использовал режим **errors = 'ignore'** который в случае ошибки оставлял исходное значения - в даном случае все NaN были заменены на <NA> которые далее могут быть обнаружены и удалены в случе необходимости\n",
    "    \n",
    "Если сравнить выводы **df.info()** до и после преобразования типов, то можно увидеть, что в некоторых колонках нет пропусков и число значений - общему числу строк = 16715. Для ряда колонок число значений меньше и это число не изменилось после изменения типов колонки - за исключением колонки **user_score** где помимо значений NaN пристутсвует еще и ряд строк с строковым значеним = tbd, которое не может быть преобразовано в float и таких строк довольно большое количество = 2424 то есть их нежелательно просто отбросить. \n",
    "Колонка **user_score** содержит рейтинг пользователя в интервале от 0 до 10, который может содержать дробную часть - поэтому я ее тип надо перевести в float, используя метод to_numeric, но для того, чтобы избежать ошибок парсинга пердварительно я заменю все значения **tbd** на строковое значение 0 а потом преобразованием типа перевел его в 0 типа float. При этом я подсчитал количество записей с изначальным значением **user_score** == 0 и это оно = 1 - то есть можно эти данные проигнорировать и \"слить\" их в одну группу."
   ]
  },
  {
   "cell_type": "markdown",
   "id": "b5b82d64-3a90-4c9d-b07b-401d23d45152",
   "metadata": {
    "tags": []
   },
   "source": [
    "## 3.3 Обработка пропусков"
   ]
  },
  {
   "cell_type": "code",
   "execution_count": 152,
   "id": "9f0da522",
   "metadata": {},
   "outputs": [
    {
     "data": {
      "text/plain": [
       "2425"
      ]
     },
     "execution_count": 152,
     "metadata": {},
     "output_type": "execute_result"
    }
   ],
   "source": [
    "df[df['user_score'] == 0]['user_score'].count()"
   ]
  },
  {
   "cell_type": "markdown",
   "id": "88cc43cb",
   "metadata": {},
   "source": [
    "- Объясните, почему заполнили пропуски определённым образом или почему не стали это делать\n",
    "\n",
    "Общее количество строк в dataframe равно 16715 но ряд столбцов имеет пропуски и меньшее число значимых величин а именно:\n",
    "    - name - 2 пропуска\n",
    "    - year_of_release - 269 пропусков\n",
    "    - genre - 2 пропуска\n",
    "    - critic_score - 8578 пропусков\n",
    "    - user_score - 6701 пропусков и 2424 значения **tbd** которые не могут быть проеобразованы в float и они были установлены в 0\n",
    "    - rating - 6766 пропусков\n",
    "    \n",
    "Пропуски я оставил после преобразования типов как есть (NaN или \\<NA\\>), значение 'tbd' для колонки **user_score** установил в 0 (подробно описал в предыдущем пункте 3.2)\n",
    "- Опишите причины, которые могли привести к пропускам\n",
    "    - Для полей **name**, **genre** - ошибки ввода - например при заполнении формы. Предлагаю их оставить как есть так как их количество очень мало и ими можно пренебречь при рассчете характеристик.\n",
    "    - Поле **year_of_release** изначально было числовым и там исключено наличие нечисловых данных - пропуск может быть связан либо с ошибкой при вводе даных - например формат ввода даты не соответствовал предложенному шаблону.\n",
    "- Обратите внимание на аббревиатуру 'tbd' в столбце с оценкой пользователей. Отдельно разберите это значение и опишите, как его обработать\n",
    "    Уже объяснено в п 3.2"
   ]
  },
  {
   "cell_type": "markdown",
   "id": "62377a6a-bd0c-4177-a968-2242ed6ecab9",
   "metadata": {},
   "source": [
    "## 3.4 Подсчет суммарных продаж во всех регионах"
   ]
  },
  {
   "cell_type": "markdown",
   "id": "cb636ad9-9e46-4f37-8bfd-f492cbb078f4",
   "metadata": {
    "tags": []
   },
   "source": [
    "# 4. Провести исследовательский анализ данных"
   ]
  },
  {
   "cell_type": "markdown",
   "id": "b41d0094-0998-46c8-9c80-fef2387cc83b",
   "metadata": {},
   "source": [
    "## 4.1 Распределение игр по годам"
   ]
  },
  {
   "cell_type": "markdown",
   "id": "f4d7b573-d4c3-4bf7-9df8-256818baf612",
   "metadata": {},
   "source": [
    "## 4.2 Распределение продаж по платформам"
   ]
  },
  {
   "cell_type": "markdown",
   "id": "16081c81-4986-45ac-bef8-ce949521ffe1",
   "metadata": {
    "tags": []
   },
   "source": [
    "## 4.3 Данные за актуальный период"
   ]
  },
  {
   "cell_type": "markdown",
   "id": "ca614373-6f24-4b6e-9918-476db7959b3b",
   "metadata": {
    "tags": []
   },
   "source": [
    "## 4.4 Удаление данных за предыдущие годы"
   ]
  },
  {
   "cell_type": "markdown",
   "id": "8d5d942b-c558-40c8-b93f-bd744a819c8c",
   "metadata": {},
   "source": [
    "## 4.5 Выбор потенциально прибыльных платформ"
   ]
  },
  {
   "cell_type": "markdown",
   "id": "8eb64a96-4ace-4373-b293-f6672c3e09f1",
   "metadata": {},
   "source": [
    "## 4.6 Построение графика «ящик с усами» по глобальным продажам игр в разбивке по платформам"
   ]
  },
  {
   "cell_type": "markdown",
   "id": "b623207b-0132-4efd-b845-7094db8bd293",
   "metadata": {},
   "source": [
    "## 4.7 Анализ влияния на продажи внутри одной популярной платформы отзывов пользователей и критиков"
   ]
  },
  {
   "cell_type": "markdown",
   "id": "633582af-1da1-4802-80f5-27756286a6f1",
   "metadata": {},
   "source": [
    "## 4.8 Сравнение выводов с продажами игр на других платформах"
   ]
  },
  {
   "cell_type": "markdown",
   "id": "46e0e681-2eca-4d9f-b47f-0cc96ab7e84e",
   "metadata": {},
   "source": [
    "## 4.9 Анализ общего распределения игр по жанрам"
   ]
  },
  {
   "cell_type": "markdown",
   "id": "28138f4c-333c-4559-8b41-610bdbb9c158",
   "metadata": {},
   "source": [
    "# 5. Составление портрета пользователя каждого региона"
   ]
  },
  {
   "cell_type": "markdown",
   "id": "ce819896-7ca2-461d-90b3-7d7a359a5650",
   "metadata": {
    "tags": []
   },
   "source": [
    "## 5.1 Определение самых популярных платформ (top 5)"
   ]
  },
  {
   "cell_type": "markdown",
   "id": "07bdccc5-1839-4b08-b655-adfa1a0fed4d",
   "metadata": {},
   "source": [
    "## 5.2 Определение самых популярных жанров (top 5)"
   ]
  },
  {
   "cell_type": "markdown",
   "id": "0987baf0-f9d4-41f5-86b0-f9254e9b9cc0",
   "metadata": {},
   "source": [
    "## 5.3 Влияние рейтинга ESRB на продажи в отдельном регионе"
   ]
  },
  {
   "cell_type": "markdown",
   "id": "4c8642bb-a81f-4895-a4ae-839eed44a636",
   "metadata": {
    "tags": []
   },
   "source": [
    "# 6. Проверка гипотез"
   ]
  },
  {
   "cell_type": "markdown",
   "id": "41c52f7c-bec8-43e7-8d1c-6bf845a8aa84",
   "metadata": {},
   "source": [
    "## 6.1 Средние пользовательские рейтинги платформ Xbox One и PC одинаковые"
   ]
  },
  {
   "cell_type": "markdown",
   "id": "e3feadbc-8608-4383-b53d-00ef16cab997",
   "metadata": {},
   "source": [
    "## 6.2 Средние пользовательские рейтинги жанров Action и Sports разные"
   ]
  },
  {
   "cell_type": "markdown",
   "id": "e4db7a53-ac9c-4f8a-ae4b-d13c0dd7b8fd",
   "metadata": {},
   "source": [
    "# 7. Выводы"
   ]
  },
  {
   "cell_type": "markdown",
   "id": "e23e943c-1ca3-4b39-9652-98bb6aa6afef",
   "metadata": {},
   "source": [
    "<div style=\"border:dashed green 1px; background:#097482; padding: 20px\">\n",
    "<span style=\"color:white\">Мои комментарии version:</span>\n",
    "\n",
    "Я хотел бы привести тут формат оформления ноутбука, который я буду использовать:\n",
    "\n",
    "-  Введение\n",
    "-  Шаги проекта оформленные как markdown header 1го уровня - например **2.Предобработка данных**\n",
    "-  Внутри каждого шага промежуточные задачи как заголовки 2го уровня (если они есть)- например \n",
    "   - **2.1 Приведите столбец date к типу даты pandas**\n",
    "   - **2.2 Создайте новый столбец с номером месяца на основе столбца date**\n",
    "   - **2.3 Проверьте наличие пропущенных значений и дубликатов в датафреймах.** \n",
    "- Сначала идет заголовок 1го уровня в ячейке Markdown, потом - если есть - заголовок второго уровня в ячейке Markdown, потом код на Python, потом описание этого шага в ячейке Markdown\n",
    "- Выводы - включают в себя результаты по каждому пункту и общий вывод в виде рекомендаций для бизнеса.Посчитайте суммарные продажи во всех регионах\n",
    "\n",
    "Все свои комментарии в ответ на комментарии ревьюера я буду далее добавлять, используя этот стиль"
   ]
  }
 ],
 "metadata": {
  "kernelspec": {
   "display_name": "Python 3 (ipykernel)",
   "language": "python",
   "name": "python3"
  },
  "language_info": {
   "codemirror_mode": {
    "name": "ipython",
    "version": 3
   },
   "file_extension": ".py",
   "mimetype": "text/x-python",
   "name": "python",
   "nbconvert_exporter": "python",
   "pygments_lexer": "ipython3",
   "version": "3.11.5"
  }
 },
 "nbformat": 4,
 "nbformat_minor": 5
}
