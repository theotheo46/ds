{
 "cells": [
  {
   "cell_type": "markdown",
   "id": "84743cb4",
   "metadata": {},
   "source": [
    "<div style=\"border:solid lightblue 3px; background:#f7faf8; padding: 20px\">\n",
    "<b>Привет!</b>\n",
    "\n",
    "Меня зовут Владимир Бердников, и я буду проверять твой проект. Предлагаю общаться на «ты», но если это не совсем удобно для тебя — дай знать, и мы перейдем на \"вы\". Моя цель не указать на совершённые тобой ошибки, а поделиться своим опытом и помочь улучшить навыки. \n",
    "    \n",
    "Пожалуйста, не перемещай, не удаляй и не правь мои комментарии. Всё это поможет выполнить повторную проверку твоего проекта оперативнее.\n",
    "\n",
    "При проверке работы я буду отмечать комментарии цветом и примечанием. В конце заголовка комментария указан номер итерации проверки.\n",
    "\n",
    "<div class=\"alert alert-block alert-danger\" style=\"border-radius: 15px; box-shadow: 4px 4px 4px; border: 1px solid \">\n",
    "<h2> Комментарий ревьюера v_1: <a class=\"tocSkip\"></h2>\n",
    "    \n",
    "❌ Комментарии такого цвета нужно исправить, иначе проект не будет принят. \n",
    "</div>\n",
    "\n",
    "<div class=\"alert alert-warning\" style=\"border-radius: 15px; box-shadow: 4px 4px 4px; border: 1px solid \">\n",
    "<h2> Комментарий ревьюера v_1: <a class=\"tocSkip\"> </h2>\n",
    "    \n",
    "⚠️ Такой комментарий является рекомендацией или советом. Mожешь учесть их при выполнении заданий, но их не должно быть больше трех.\n",
    "</div>\n",
    "\n",
    "<div class=\"alert alert-success\" style=\"border-radius: 15px; box-shadow: 4px 4px 4px; border: 1px solid \">\n",
    "<h2> Комментарий ревьюера v_1: <a class=\"tocSkip\"> </h2>\n",
    "    \n",
    "✅ Так выделены все остальные скомментарии, включая позитивные моменты, пояснения и рассуждения.\n",
    "</div>  \n",
    "    \n",
    "Давай работать нздад проектом в диалоге: если ты что-то меняешь в проекте — пиши об этом в комментариях, например, с помощью такого кода в markdown ячейке:"
   ]
  },
  {
   "cell_type": "markdown",
   "id": "6075629e",
   "metadata": {},
   "source": [
    "<div class=\"alert alert-info\"  style=\"border-radius: 15px; box-shadow: 4px 4px 4px; border: 1px solid \">\n",
    "    \n",
    "<h2>Комментарий студента v_1: <a class=\"tocSkip\"> </h2>\n",
    "\n",
    "Ок.   "
   ]
  },
  {
   "cell_type": "markdown",
   "id": "811070d4",
   "metadata": {},
   "source": []
  },
  {
   "cell_type": "markdown",
   "id": "9a71d586",
   "metadata": {},
   "source": [
    "<div class=\"alert alert-block alert-danger\" style=\"border-radius: 15px; box-shadow: 4px 4px 4px; border: 1px solid \">\n",
    "<h2> Комментарий ревьюера v_1: <a class=\"tocSkip\"></h2>\n",
    "    \n",
    "❌ Необходимо добавить вступление (этот пункт есть в блоке курса: Полезные инструкции для учёбы - Оформление проекта - Рекомендации по выполнению проектов):\n",
    "    \t\n",
    "* заголовок\n",
    "* краткое описание проекта (желательно своими словами, не копируя из имеющегося описания)\n",
    "* цель проекта\n",
    "* описание данных (на усмотрение, данные можно описать в самой работе)\n",
    "* план работы.\n",
    "\n",
    "Со вступлением получатель отчета сможет получить общее представление о том, что будет в проекте\n",
    "</div>  "
   ]
  },
  {
   "cell_type": "markdown",
   "id": "ec84cb4c",
   "metadata": {},
   "source": [
    "# Описание проекта\n",
    "Требуется провести анализ данных о некоторых пользователях из нескольких городов, а также об их поездках для сервиса аренды самокатов GoFast. Нужно проанализировать данные и проверить некоторые гипотезы, которые могут помочь бизнесу вырасти."
   ]
  },
  {
   "cell_type": "code",
   "execution_count": 159,
   "id": "7ad69f84",
   "metadata": {},
   "outputs": [],
   "source": [
    "import pandas as pd\n",
    "from scipy import stats as st\n",
    "import numpy as np\n",
    "import matplotlib.pyplot as plt"
   ]
  },
  {
   "cell_type": "markdown",
   "id": "be5f3592",
   "metadata": {},
   "source": [
    "# 1. Загрузка данных"
   ]
  },
  {
   "cell_type": "markdown",
   "id": "3433674b",
   "metadata": {},
   "source": [
    "## 1.1 Считайте CSV-файлы с данными с помощью библиотеки pandas и сохраните их в датафреймы"
   ]
  },
  {
   "cell_type": "code",
   "execution_count": 160,
   "id": "d5b7acdd",
   "metadata": {},
   "outputs": [],
   "source": [
    "df_users = pd.read_csv('https://code.s3.yandex.net/datasets/users_go.csv')\n",
    "df_rides = pd.read_csv('https://code.s3.yandex.net/datasets/rides_go.csv')\n",
    "df_subscription = pd.read_csv('https://code.s3.yandex.net/datasets/subscriptions_go.csv')"
   ]
  },
  {
   "cell_type": "markdown",
   "id": "d8f1f330",
   "metadata": {},
   "source": [
    "## 1.2 Выведите первые строки каждого набора данных. Изучите общую информацию о каждом датафрейме."
   ]
  },
  {
   "cell_type": "code",
   "execution_count": 161,
   "id": "8bae2dd5",
   "metadata": {},
   "outputs": [
    {
     "data": {
      "text/html": [
       "<div>\n",
       "<style scoped>\n",
       "    .dataframe tbody tr th:only-of-type {\n",
       "        vertical-align: middle;\n",
       "    }\n",
       "\n",
       "    .dataframe tbody tr th {\n",
       "        vertical-align: top;\n",
       "    }\n",
       "\n",
       "    .dataframe thead th {\n",
       "        text-align: right;\n",
       "    }\n",
       "</style>\n",
       "<table border=\"1\" class=\"dataframe\">\n",
       "  <thead>\n",
       "    <tr style=\"text-align: right;\">\n",
       "      <th></th>\n",
       "      <th>user_id</th>\n",
       "      <th>name</th>\n",
       "      <th>age</th>\n",
       "      <th>city</th>\n",
       "      <th>subscription_type</th>\n",
       "    </tr>\n",
       "  </thead>\n",
       "  <tbody>\n",
       "    <tr>\n",
       "      <th>0</th>\n",
       "      <td>1</td>\n",
       "      <td>Кира</td>\n",
       "      <td>22</td>\n",
       "      <td>Тюмень</td>\n",
       "      <td>ultra</td>\n",
       "    </tr>\n",
       "    <tr>\n",
       "      <th>1</th>\n",
       "      <td>2</td>\n",
       "      <td>Станислав</td>\n",
       "      <td>31</td>\n",
       "      <td>Омск</td>\n",
       "      <td>ultra</td>\n",
       "    </tr>\n",
       "    <tr>\n",
       "      <th>2</th>\n",
       "      <td>3</td>\n",
       "      <td>Алексей</td>\n",
       "      <td>20</td>\n",
       "      <td>Москва</td>\n",
       "      <td>ultra</td>\n",
       "    </tr>\n",
       "    <tr>\n",
       "      <th>3</th>\n",
       "      <td>4</td>\n",
       "      <td>Константин</td>\n",
       "      <td>26</td>\n",
       "      <td>Ростов-на-Дону</td>\n",
       "      <td>ultra</td>\n",
       "    </tr>\n",
       "    <tr>\n",
       "      <th>4</th>\n",
       "      <td>5</td>\n",
       "      <td>Адель</td>\n",
       "      <td>28</td>\n",
       "      <td>Омск</td>\n",
       "      <td>ultra</td>\n",
       "    </tr>\n",
       "  </tbody>\n",
       "</table>\n",
       "</div>"
      ],
      "text/plain": [
       "   user_id        name  age            city subscription_type\n",
       "0        1        Кира   22          Тюмень             ultra\n",
       "1        2   Станислав   31            Омск             ultra\n",
       "2        3     Алексей   20          Москва             ultra\n",
       "3        4  Константин   26  Ростов-на-Дону             ultra\n",
       "4        5       Адель   28            Омск             ultra"
      ]
     },
     "metadata": {},
     "output_type": "display_data"
    },
    {
     "data": {
      "text/html": [
       "<div>\n",
       "<style scoped>\n",
       "    .dataframe tbody tr th:only-of-type {\n",
       "        vertical-align: middle;\n",
       "    }\n",
       "\n",
       "    .dataframe tbody tr th {\n",
       "        vertical-align: top;\n",
       "    }\n",
       "\n",
       "    .dataframe thead th {\n",
       "        text-align: right;\n",
       "    }\n",
       "</style>\n",
       "<table border=\"1\" class=\"dataframe\">\n",
       "  <thead>\n",
       "    <tr style=\"text-align: right;\">\n",
       "      <th></th>\n",
       "      <th>user_id</th>\n",
       "      <th>distance</th>\n",
       "      <th>duration</th>\n",
       "      <th>date</th>\n",
       "    </tr>\n",
       "  </thead>\n",
       "  <tbody>\n",
       "    <tr>\n",
       "      <th>0</th>\n",
       "      <td>1</td>\n",
       "      <td>4409.919140</td>\n",
       "      <td>25.599769</td>\n",
       "      <td>2021-01-01</td>\n",
       "    </tr>\n",
       "    <tr>\n",
       "      <th>1</th>\n",
       "      <td>1</td>\n",
       "      <td>2617.592153</td>\n",
       "      <td>15.816871</td>\n",
       "      <td>2021-01-18</td>\n",
       "    </tr>\n",
       "    <tr>\n",
       "      <th>2</th>\n",
       "      <td>1</td>\n",
       "      <td>754.159807</td>\n",
       "      <td>6.232113</td>\n",
       "      <td>2021-04-20</td>\n",
       "    </tr>\n",
       "    <tr>\n",
       "      <th>3</th>\n",
       "      <td>1</td>\n",
       "      <td>2694.783254</td>\n",
       "      <td>18.511000</td>\n",
       "      <td>2021-08-11</td>\n",
       "    </tr>\n",
       "    <tr>\n",
       "      <th>4</th>\n",
       "      <td>1</td>\n",
       "      <td>4028.687306</td>\n",
       "      <td>26.265803</td>\n",
       "      <td>2021-08-28</td>\n",
       "    </tr>\n",
       "  </tbody>\n",
       "</table>\n",
       "</div>"
      ],
      "text/plain": [
       "   user_id     distance   duration        date\n",
       "0        1  4409.919140  25.599769  2021-01-01\n",
       "1        1  2617.592153  15.816871  2021-01-18\n",
       "2        1   754.159807   6.232113  2021-04-20\n",
       "3        1  2694.783254  18.511000  2021-08-11\n",
       "4        1  4028.687306  26.265803  2021-08-28"
      ]
     },
     "metadata": {},
     "output_type": "display_data"
    },
    {
     "data": {
      "text/html": [
       "<div>\n",
       "<style scoped>\n",
       "    .dataframe tbody tr th:only-of-type {\n",
       "        vertical-align: middle;\n",
       "    }\n",
       "\n",
       "    .dataframe tbody tr th {\n",
       "        vertical-align: top;\n",
       "    }\n",
       "\n",
       "    .dataframe thead th {\n",
       "        text-align: right;\n",
       "    }\n",
       "</style>\n",
       "<table border=\"1\" class=\"dataframe\">\n",
       "  <thead>\n",
       "    <tr style=\"text-align: right;\">\n",
       "      <th></th>\n",
       "      <th>subscription_type</th>\n",
       "      <th>minute_price</th>\n",
       "      <th>start_ride_price</th>\n",
       "      <th>subscription_fee</th>\n",
       "    </tr>\n",
       "  </thead>\n",
       "  <tbody>\n",
       "    <tr>\n",
       "      <th>0</th>\n",
       "      <td>free</td>\n",
       "      <td>8</td>\n",
       "      <td>50</td>\n",
       "      <td>0</td>\n",
       "    </tr>\n",
       "    <tr>\n",
       "      <th>1</th>\n",
       "      <td>ultra</td>\n",
       "      <td>6</td>\n",
       "      <td>0</td>\n",
       "      <td>199</td>\n",
       "    </tr>\n",
       "  </tbody>\n",
       "</table>\n",
       "</div>"
      ],
      "text/plain": [
       "  subscription_type  minute_price  start_ride_price  subscription_fee\n",
       "0              free             8                50                 0\n",
       "1             ultra             6                 0               199"
      ]
     },
     "metadata": {},
     "output_type": "display_data"
    }
   ],
   "source": [
    "display(df_users.head())\n",
    "display(df_rides.head())\n",
    "display(df_subscription.head())"
   ]
  },
  {
   "cell_type": "markdown",
   "id": "f9cdf691",
   "metadata": {},
   "source": [
    "<div class=\"alert alert-warning\" style=\"border-radius: 15px; box-shadow: 4px 4px 4px; border: 1px solid \">\n",
    "<h2> Комментарий ревьюера v_1: <a class=\"tocSkip\"> </h2>\n",
    "    \n",
    "⚠️ Библиотеки желательно импортировать в отдельной ячейке, чтобы не приходилось, в случае добавления новой библиотеки, загружать еще датасет, что может занять дополнительное время, если объем данных огромный.\n",
    "</div>"
   ]
  },
  {
   "cell_type": "markdown",
   "id": "b27eb1ee",
   "metadata": {},
   "source": [
    "<div class=\"alert alert-warning\" style=\"border-radius: 15px; box-shadow: 4px 4px 4px; border: 1px solid \">\n",
    "<h2> Комментарий ревьюера v_2: <a class=\"tocSkip\"> </h2>\n",
    "    \n",
    "⚠️ Для вывода таблиц лучше использовать display, а не print"
   ]
  },
  {
   "cell_type": "markdown",
   "id": "ead2a54f",
   "metadata": {
    "tags": []
   },
   "source": [
    "Загружены три источника:\n",
    "- df_users - информация о пользователях сервиса GoFast\n",
    "- df_rides - информация о поездках пользователей сервиса GoFast\n",
    "- df_subscription - информация о типах подписок\n",
    "\n",
    "Краткая информация о структуре данных\n",
    "- для таблиц **df_users** и **df_rides** есть общая колонка **user_id**, в которой хранится уникальных индекс для каждого пользователя, по этой колонке можно производить join (в смысле sql) для этих двух таблиц\n",
    "- в таблице **df_subscription** хранится развернутая информация о каждом типе подписки - **free** (без подписки) и **ultra** (собственно подписка)"
   ]
  },
  {
   "cell_type": "markdown",
   "id": "3388f185",
   "metadata": {},
   "source": [
    "# 2. Предобработка данных"
   ]
  },
  {
   "cell_type": "markdown",
   "id": "ec3e9aa0",
   "metadata": {},
   "source": [
    "## 2.1 Приведите столбец date к типу даты pandas"
   ]
  },
  {
   "cell_type": "code",
   "execution_count": 162,
   "id": "02964f51",
   "metadata": {},
   "outputs": [],
   "source": [
    "df_rides['date'] = pd.to_datetime(df_rides['date'])"
   ]
  },
  {
   "cell_type": "markdown",
   "id": "2217d7ec",
   "metadata": {},
   "source": [
    "## 2.2 Создайте новый столбец с номером месяца на основе столбца date."
   ]
  },
  {
   "cell_type": "code",
   "execution_count": 163,
   "id": "afdb47b3",
   "metadata": {},
   "outputs": [],
   "source": [
    "df_rides['month'] = df_rides['date'].dt.month"
   ]
  },
  {
   "cell_type": "markdown",
   "id": "744833e1",
   "metadata": {},
   "source": [
    "## 2.3 Проверьте наличие пропущенных значений и дубликатов в датафреймах. Обработайте их, если такие значения присутствуют."
   ]
  },
  {
   "cell_type": "code",
   "execution_count": 164,
   "id": "cffdcbc5",
   "metadata": {},
   "outputs": [
    {
     "name": "stdout",
     "output_type": "stream",
     "text": [
      "<class 'pandas.core.frame.DataFrame'>\n",
      "RangeIndex: 18068 entries, 0 to 18067\n",
      "Data columns (total 5 columns):\n",
      " #   Column    Non-Null Count  Dtype         \n",
      "---  ------    --------------  -----         \n",
      " 0   user_id   18068 non-null  int64         \n",
      " 1   distance  18068 non-null  float64       \n",
      " 2   duration  18068 non-null  float64       \n",
      " 3   date      18068 non-null  datetime64[ns]\n",
      " 4   month     18068 non-null  int32         \n",
      "dtypes: datetime64[ns](1), float64(2), int32(1), int64(1)\n",
      "memory usage: 635.3 KB\n",
      "<class 'pandas.core.frame.DataFrame'>\n",
      "RangeIndex: 1565 entries, 0 to 1564\n",
      "Data columns (total 5 columns):\n",
      " #   Column             Non-Null Count  Dtype \n",
      "---  ------             --------------  ----- \n",
      " 0   user_id            1565 non-null   int64 \n",
      " 1   name               1565 non-null   object\n",
      " 2   age                1565 non-null   int64 \n",
      " 3   city               1565 non-null   object\n",
      " 4   subscription_type  1565 non-null   object\n",
      "dtypes: int64(2), object(3)\n",
      "memory usage: 61.3+ KB\n",
      "<class 'pandas.core.frame.DataFrame'>\n",
      "RangeIndex: 2 entries, 0 to 1\n",
      "Data columns (total 4 columns):\n",
      " #   Column             Non-Null Count  Dtype \n",
      "---  ------             --------------  ----- \n",
      " 0   subscription_type  2 non-null      object\n",
      " 1   minute_price       2 non-null      int64 \n",
      " 2   start_ride_price   2 non-null      int64 \n",
      " 3   subscription_fee   2 non-null      int64 \n",
      "dtypes: int64(3), object(1)\n",
      "memory usage: 196.0+ bytes\n"
     ]
    }
   ],
   "source": [
    "df_rides.info()\n",
    "df_users.info()\n",
    "df_subscription.info()"
   ]
  },
  {
   "cell_type": "code",
   "execution_count": 165,
   "id": "fb1d8a8d",
   "metadata": {
    "scrolled": false
   },
   "outputs": [
    {
     "name": "stdout",
     "output_type": "stream",
     "text": [
      "Количество дубликатов в таблице df_users:  31\n",
      "Количество дубликатов в таблице df_rides:  0\n",
      "Количество дубликатов в таблице df_subscription:  0\n",
      "Количество дубликатов в таблице df_users без колонки user_id:  58\n",
      "Количество дубликатов в таблице df_users после удаления дубликатов:  0\n"
     ]
    }
   ],
   "source": [
    "print('Количество дубликатов в таблице df_users: ', df_users.duplicated().sum())\n",
    "print('Количество дубликатов в таблице df_rides: ', df_rides.duplicated().sum())\n",
    "print('Количество дубликатов в таблице df_subscription: ', df_subscription.duplicated().sum())\n",
    "print('Количество дубликатов в таблице df_users без колонки user_id: ',df_users[['name', 'age', 'city', 'subscription_type']].duplicated().sum())\n",
    "df_users = df_users.drop_duplicates()\n",
    "print('Количество дубликатов в таблице df_users после удаления дубликатов: ',df_users.duplicated().sum())"
   ]
  },
  {
   "cell_type": "markdown",
   "id": "8cb644e6",
   "metadata": {},
   "source": [
    "<div class=\"alert alert-block alert-danger\" style=\"border-radius: 15px; box-shadow: 4px 4px 4px; border: 1px solid \">\n",
    "<h2> Комментарий ревьюера v_1: <a class=\"tocSkip\"></h2>\n",
    "    \n",
    "❌ Следует разделить код по смыслу. Лучше комментировать сразу после кода. Сейчас неочевидно, что комментарии ниже относятся к этому разделу, т.к. идут после заголовка \"Предобработка данных\", а здесь \"Загрузка данных\""
   ]
  },
  {
   "cell_type": "markdown",
   "id": "3ff615cd",
   "metadata": {},
   "source": [
    "<div class=\"alert alert-warning\" style=\"border-radius: 15px; box-shadow: 4px 4px 4px; border: 1px solid \">\n",
    "<h2> Комментарий ревьюера v_2: <a class=\"tocSkip\"> </h2>\n",
    "    \n",
    "⚠️ Желательно еще проверить, за какой период имеются данные. Создается столбец с номерами месяцев, если здесь несколько лет, следует это учитывать."
   ]
  },
  {
   "cell_type": "markdown",
   "id": "ac395568",
   "metadata": {},
   "source": [
    "<div class=\"alert alert-warning\" style=\"border-radius: 15px; box-shadow: 4px 4px 4px; border: 1px solid \">\n",
    "<h2> ответ на Комментарий ревьюера v_2: <a class=\"tocSkip\"> </h2>\n",
    "\n",
    "Не совсем понял для чего это делать? Номер месяца тут нужен для того, чтобы далее провести группировку по составному индексу user_id + month и посчитать выручку для каждого пользователя в разрезе месяца. Если у него было определеное количество поездок которые занимают период больше года - как это повлияет на групировку - мы все равно группируем помесячно? Допустим у нас будет два месяца июль за разные года - будут две строки с одинаковым значением колонки month=7, мы по ним сделаем группировку и посчитаем общую выручку."
   ]
  },
  {
   "cell_type": "markdown",
   "id": "65b1b3d4",
   "metadata": {},
   "source": [
    "### Пропуски\n",
    "\n",
    "Пропусков в данных не обнаружено - использовался метод *df.info()* для таблиц\n",
    "- df_rides\n",
    "- df_users\n",
    "- df_subscription\n",
    "\n",
    "### Дубликаты\n",
    "\n",
    "Дубликаты искались с помощью метода **duplicated().sum()** и для таблиц **df_rides** и **df_subscription** исследование показало отсутствие дубликатов.\n",
    "\n",
    "Дубликаты обнаружены только в таблице **df_users** и они искались двумя способами:\n",
    "- df_users.duplicated().sum()\n",
    "- df_users[['список полей не включая индекс user_id']].duplicated().sum()\n",
    "\n",
    "\n",
    "Для этой таблицы:\n",
    "\n",
    "- df_users.duplicated().sum() = 31\n",
    "- df_users[['name', 'age', 'city', 'subscription_type']].duplicated().sum() = 58\n",
    "\n",
    "Второе значение больше - так как есть варианты для пользователей, когда все 4 значения полей **'name', 'age', 'city', 'subscription_type'** идентичны, но индексы ('user_id') тем не менее разные - из чего я делаю выводы что разные индексы говорят о том что это все таки разные пользователи, у которых совпадают все 4 значения вышеприведенных полей. А вот значение *df.duplicated().sum() = 31* говорит о том, что есть 31 дубликат для таблицы df_users у которых совпадают все поля включая индекс 'user_id' (возможно это следствие технической ошибки) и в даннм случае дубликаты можно удалить так как они не несут никакой информации."
   ]
  },
  {
   "cell_type": "markdown",
   "id": "d229bdb9",
   "metadata": {},
   "source": [
    "<div class=\"alert alert-block alert-danger\" style=\"border-radius: 15px; box-shadow: 4px 4px 4px; border: 1px solid \">\n",
    "<h2> Комментарий ревьюера v_2: <a class=\"tocSkip\"></h2>\n",
    "    \n",
    "❌ \"Пропусков в данных не обнаружено - использовался метод df.info()\" - метод info() не был использован."
   ]
  },
  {
   "cell_type": "markdown",
   "id": "e1399a1f",
   "metadata": {},
   "source": [
    "<div class=\"alert alert-block alert-danger\" style=\"border-radius: 15px; box-shadow: 4px 4px 4px; border: 1px solid \">\n",
    "<h2> Комментарий ревьюера v_2: <a class=\"tocSkip\"></h2>\n",
    "    \n",
    "❌ Не по всем таблицам проверены дубликаты"
   ]
  },
  {
   "cell_type": "markdown",
   "id": "94509ac6",
   "metadata": {},
   "source": [
    "<div class=\"alert alert-success\" style=\"border-radius: 15px; box-shadow: 4px 4px 4px; border: 1px solid \">\n",
    "<h2> Комментарий ревьюера v_2: <a class=\"tocSkip\"> </h2>\n",
    "    \n",
    "✅ Дополнительно можно посмотреть, есть ли в столбце с продолжительностью сессии аномалии. Можно сравнить продолжительность сессий и расстояние поездок и прокомментировать, насколько реально можно проехать такое расстояние за указанное время. В случае обнаружения удалять не рекомендуется, лучше сначала выяснить причину их появления.\n",
    "</div>  "
   ]
  },
  {
   "cell_type": "markdown",
   "id": "9155ccb9",
   "metadata": {},
   "source": [
    "Примерно понятно как делать - но сейчас жесткий цетйнот по времени надо начинать сборный проект. В следующий раз буду иметь в виду."
   ]
  },
  {
   "cell_type": "markdown",
   "id": "49a416f5",
   "metadata": {},
   "source": [
    "# 3. Исследовательский анализ данных"
   ]
  },
  {
   "cell_type": "code",
   "execution_count": 166,
   "id": "3263dc98",
   "metadata": {},
   "outputs": [],
   "source": [
    "def plot_sub_plots(df, plot_columns):\n",
    "    fig, axes = plt.subplots(1+len(df.columns)//plot_columns, plot_columns, figsize=(20, 30))\n",
    "    for col, axis in zip(df.columns, axes.flat):\n",
    "        df.hist(column = col, ax=axis)"
   ]
  },
  {
   "cell_type": "markdown",
   "id": "44d0c07d",
   "metadata": {},
   "source": [
    "## 3.1 Частота встречаемости городов"
   ]
  },
  {
   "cell_type": "code",
   "execution_count": 167,
   "id": "8f28d05a",
   "metadata": {},
   "outputs": [
    {
     "data": {
      "image/png": "[encoded data removed]",
      "text/plain": [
       "<Figure size 700x400 with 1 Axes>"
      ]
     },
     "metadata": {},
     "output_type": "display_data"
    }
   ],
   "source": [
    "ax = df_users['city'].value_counts().plot(kind=\"bar\", title='Частота встречаемости городов', figsize=(7, 4), xlabel='Город', ylabel='Частота использования')\n",
    "ax.yaxis.grid(True)\n",
    "plt.show()"
   ]
  },
  {
   "cell_type": "markdown",
   "id": "3ca01669",
   "metadata": {},
   "source": [
    "Данные в таблице **df_users** сгруппированы по 8 городам, максимальное количество пользователей в г. Пятигорск, минимальное - в г. Москва. Чем можно объяснить такое распределение? Москва очевидно больше Пятигорска но в данной выборке пользователей из Москвы примерно в полтора раза меньше - я предполагаю что в Москве больше конкурентных сервисов и пользователи распределены между ними."
   ]
  },
  {
   "cell_type": "markdown",
   "id": "5f0e87e3",
   "metadata": {},
   "source": [
    "## 3.2 Соотношение пользователей с подпиской и без подписки"
   ]
  },
  {
   "cell_type": "code",
   "execution_count": 168,
   "id": "bdb2bb40",
   "metadata": {},
   "outputs": [
    {
     "data": {
      "image/png": "[encoded data removed]",
      "text/plain": [
       "<Figure size 500x500 with 1 Axes>"
      ]
     },
     "metadata": {},
     "output_type": "display_data"
    }
   ],
   "source": [
    "df_subscription_parts = df_users['subscription_type'].value_counts() / df_users['subscription_type'].count()\n",
    "df_subscription_parts.plot(kind='pie', labels=None, label='', autopct='%1.0f%%', \n",
    "       legend=True, figsize=(5,5), title='Соотношение пользователей с подпиской и без подписки');"
   ]
  },
  {
   "cell_type": "markdown",
   "id": "da6c757d",
   "metadata": {},
   "source": [
    "Пользователей без подписки 54%, пользователей с подпиской **ultra** 46%"
   ]
  },
  {
   "cell_type": "markdown",
   "id": "ee035679",
   "metadata": {},
   "source": [
    "## 3.3 Возраст пользователей"
   ]
  },
  {
   "cell_type": "code",
   "execution_count": 169,
   "id": "90ad451f",
   "metadata": {},
   "outputs": [
    {
     "data": {
      "image/png": "[encoded data removed]",
      "text/plain": [
       "<Figure size 600x400 with 1 Axes>"
      ]
     },
     "metadata": {},
     "output_type": "display_data"
    }
   ],
   "source": [
    "plot1 = df_users['age'].plot(kind='hist', title='Возраст пользователей', bins = 30, grid=True, xlabel='Возраст, годы', ylabel='Частота', figsize=(6, 4))\n",
    "plt.show()"
   ]
  },
  {
   "cell_type": "markdown",
   "id": "64b3b11a",
   "metadata": {},
   "source": [
    "Гистограмма распределения пользователей по возрастам показывает распределение, близкое к нормальному. **mean** ~ **median** = 25 лет что говорит об отсутствии выбросов. Гистограмма слева не уходит в ноль так как минимальное значение возраста для всей таблицы **df_users** = 12 лет, что вполне правдоподобно. Выбросов гистограмма тоже не показывает."
   ]
  },
  {
   "cell_type": "markdown",
   "id": "5e79ff75",
   "metadata": {},
   "source": [
    "## 3.4 Расстояние, которое пользователь преодолел за одну поездку"
   ]
  },
  {
   "cell_type": "code",
   "execution_count": 170,
   "id": "b5759a4d",
   "metadata": {},
   "outputs": [
    {
     "data": {
      "image/png": "[encoded data removed]",
      "text/plain": [
       "<Figure size 600x400 with 1 Axes>"
      ]
     },
     "metadata": {},
     "output_type": "display_data"
    },
    {
     "name": "stdout",
     "output_type": "stream",
     "text": [
      "       user_id  distance   duration       date  month\n",
      "7841       796  7.097072  10.026614 2021-11-26     11\n",
      "8658       861  6.784447   6.015656 2021-07-21      7\n",
      "9541       925  2.570787   3.011018 2021-10-19     10\n",
      "11555     1069  0.855683  10.001902 2021-01-31      1\n",
      "13690     1223  4.329506   4.008958 2021-05-22      5\n"
     ]
    }
   ],
   "source": [
    "plot2 = df_rides['distance'].plot(kind='hist', title='Расстояние за одну поездку', bins = 300, grid=True, xlabel='Расстояние, м', ylabel='Частота', figsize=(6, 4))\n",
    "plt.show()\n",
    "print(df_rides[df_rides['distance'] < 10])"
   ]
  },
  {
   "cell_type": "markdown",
   "id": "3767d5b4",
   "metadata": {},
   "source": [
    "Гистограмма распределения таблицы **df_rides** по колонке *distance* показывает основной пик в районе 3000 м и дополнительный пик в районе 700 м. Ошибочных значений, которые могли бы увести распределение влево я не увидел так как минимальные 5 значений этого поля все больше нуля - то нет явно ошибочных значений равных 0. Выбросов гистограмма тоже не показывает. Причины вторичного максимума пока непонятны и требуют дополнительного анализа, возможно с построением гистограмм, сгруппированным по городам."
   ]
  },
  {
   "cell_type": "markdown",
   "id": "0f12f769",
   "metadata": {},
   "source": [
    "## 3.5 Продолжительность поездок"
   ]
  },
  {
   "cell_type": "code",
   "execution_count": 171,
   "id": "21dbe90f",
   "metadata": {},
   "outputs": [
    {
     "data": {
      "image/png": "[encoded data removed]",
      "text/plain": [
       "<Figure size 600x400 with 1 Axes>"
      ]
     },
     "metadata": {},
     "output_type": "display_data"
    },
    {
     "data": {
      "image/png": "[encoded data removed]",
      "text/plain": [
       "<Figure size 600x400 with 1 Axes>"
      ]
     },
     "metadata": {},
     "output_type": "display_data"
    }
   ],
   "source": [
    "plot2 = df_rides['duration'].plot(kind='hist', title='Продолжительность поездок', bins = 300, grid=True, xlabel='Продолжительность, мин', ylabel='Частота', figsize=(6, 4))\n",
    "plt.show()\n",
    "plot4 = df_rides[df_rides['duration'] < 3]['duration'].plot(kind='hist', title='Продолжительность поездок < 3', bins = 50, grid=True, xlabel='Продолжительность, мин', ylabel='Частота', figsize=(6, 4))\n",
    "plt.show()"
   ]
  },
  {
   "cell_type": "markdown",
   "id": "0d45832a",
   "metadata": {},
   "source": [
    "Гистограмма распределения таблицы **df_rides** по колонке *duration* имеет форму, близкую к нормальному распределению с медианой и средним ~ 17 мин, но имеет место выраженный пик в районе близком к нулю (но не равный нулю). Дополнительная гистогррамма для поездок с длительностью меньше чем 3 мин показала, что длительность со значениями менее чем 2 мин в данных обрезана и эти данные все перемещены в бин со значением = 0.5 мин и таких значений 95. Эти данные относятся к разным пользователям и значение *distance* для них отличны от 0.\n",
    "\n",
    "Я предполагаю, что для таких записей произошло искажение значения *duration* с установкой его в 0.5 и так как установить реальное значение *duration* не представляется возможным я предлагаю пока оставить это как есть и посмотреть на эти данные в разрезе подписок и городов в следующем разделе - после этого можно будет принять решение - оставить их как есть, заполнить значение *duration* нулем или просто удалить все такие записи."
   ]
  },
  {
   "cell_type": "markdown",
   "id": "ede43a3e",
   "metadata": {},
   "source": [
    "<div class=\"alert alert-block alert-danger\" style=\"border-radius: 15px; box-shadow: 4px 4px 4px; border: 1px solid \">\n",
    "<h2> Комментарий ревьюера v_1: <a class=\"tocSkip\"></h2>\n",
    "    \n",
    "❌ В jupyter не принято писать всё в одной ячейке. Нужно будет разбить на отдельные по смыслу. Это замечание касается и раздела \"Исследовательский анализ данных\""
   ]
  },
  {
   "cell_type": "markdown",
   "id": "771a5f68",
   "metadata": {},
   "source": [
    "<div class=\"alert alert-block alert-danger\" style=\"border-radius: 15px; box-shadow: 4px 4px 4px; border: 1px solid \">\n",
    "<h2> Комментарий ревьюера v_2: <a class=\"tocSkip\"></h2>\n",
    "    \n",
    "❌ Цитирую из урока \"Рекомендации по выполнению проектов\": \"Ячейки помогают сделать алгоритм решения более понятным. Не пытайтесь уместить всё в одной, но и на каждый «чих» создавать ячейку тоже не нужно. Одна ячейка — один важный шаг. Полезно сопровождать каждую ячейку коротким пояснением её назначения\". Код нужно будет разбить. "
   ]
  },
  {
   "cell_type": "markdown",
   "id": "3673fd7a",
   "metadata": {},
   "source": [
    "<div class=\"alert alert-warning\" style=\"border-radius: 15px; box-shadow: 4px 4px 4px; border: 1px solid \">\n",
    "<h2> Комментарий ревьюера v_2: <a class=\"tocSkip\"> </h2>\n",
    "    \n",
    "⚠️ Не хватает подписи на оси X. Графики лучше подписывать на русском в проекте на русском языке."
   ]
  },
  {
   "cell_type": "markdown",
   "id": "1fb4cd44",
   "metadata": {},
   "source": [
    "<div class=\"alert alert-block alert-danger\" style=\"border-radius: 15px; box-shadow: 4px 4px 4px; border: 1px solid \">\n",
    "<h2> Комментарий ревьюера v_2: <a class=\"tocSkip\"></h2>\n",
    "    \n",
    "❌ Не хватает визуализации к пункту \"Частота встречаемости городов\". Здесь можно построить линейчатую диаграмму (столбчатую диаграмму с горизонтальными столбцами). Важно также сортировать значения и добавлять название графика и подписи осей (это замечание актуально для всех визуализаций).\n",
    "</div>"
   ]
  },
  {
   "cell_type": "markdown",
   "id": "507218e7",
   "metadata": {},
   "source": [
    "<div class=\"alert alert-block alert-danger\" style=\"border-radius: 15px; box-shadow: 4px 4px 4px; border: 1px solid \">\n",
    "<h2> Комментарий ревьюера v_2: <a class=\"tocSkip\"></h2>\n",
    "    \n",
    "❌ Также необходимо добавить визуализацию к пункту \"Соотношение пользователей с подпиской и без подписки\". Здесь лучше подойдет диаграмма, позволяющая показать отношение частей к целому. На диаграмме должны быть подписи с долями.\n",
    "</div>"
   ]
  },
  {
   "cell_type": "markdown",
   "id": "10948282",
   "metadata": {},
   "source": [
    "<div class=\"alert alert-success\" style=\"border-radius: 15px; box-shadow: 4px 4px 4px; border: 1px solid \">\n",
    "<h2> Комментарий ревьюера v_2: <a class=\"tocSkip\"> </h2>\n",
    "    \n",
    "✅ По возрасту, расстоянию и продолжительности графики подходящие, всё прокомментировано."
   ]
  },
  {
   "cell_type": "markdown",
   "id": "6cbf95ed",
   "metadata": {},
   "source": [
    "<div class=\"alert alert-block alert-danger\" style=\"border-radius: 15px; box-shadow: 4px 4px 4px; border: 1px solid \">\n",
    "<h2> Комментарий ревьюера v_2: <a class=\"tocSkip\"></h2>\n",
    "    \n",
    "❌ После объединения стоит проверить и написать, прошло ли оно корректно, не были ли потеряны данные или не появились ли лишние записи. Совпадает ли количество записей с одной из исходных таблиц? Имеются ли пропуски?"
   ]
  },
  {
   "cell_type": "markdown",
   "id": "b96dddad",
   "metadata": {},
   "source": [
    "<div class=\"alert alert-warning\" style=\"border-radius: 15px; box-shadow: 4px 4px 4px; border: 1px solid \">\n",
    "<h2> Комментарий ревьюера v_2: <a class=\"tocSkip\"> </h2>\n",
    "    \n",
    "⚠️ Я бы советовал для двух датайфреймов строить не отдельные графики, а совместить их в одной визуализации. В итоге, получится одна визуализация, показывающая распределение расстояния с разбивкой по пользователям с подпиской и без, и аналогичная визуализация, но показывающая распределение времени поездок. [Здесь](https://overcoder.net/q/42473/%D1%81%D0%BE%D1%81%D1%82%D0%B0%D0%B2%D1%8C%D1%82%D0%B5-%D0%B4%D0%B2%D0%B5-%D0%B3%D0%B8%D1%81%D1%82%D0%BE%D0%B3%D1%80%D0%B0%D0%BC%D0%BC%D1%8B-%D0%BE%D0%B4%D0%BD%D0%BE%D0%B2%D1%80%D0%B5%D0%BC%D0%B5%D0%BD%D0%BD%D0%BE-%D1%81-%D0%BF%D0%BE%D0%BC%D0%BE%D1%89%D1%8C%D1%8E-matplotlib) есть примеры.\n",
    "    \n",
    "Также рекомендуется использовать функцию `describe()` на этом шаге.\n",
    "</div>"
   ]
  },
  {
   "cell_type": "markdown",
   "id": "04addeaf",
   "metadata": {},
   "source": [
    "# 4. Объединение данных"
   ]
  },
  {
   "cell_type": "markdown",
   "id": "0b5d5eeb",
   "metadata": {},
   "source": [
    "## 4.1 Объедините данные о пользователях, поездках и подписках в один датафрейм"
   ]
  },
  {
   "cell_type": "code",
   "execution_count": 172,
   "id": "79be9a4e",
   "metadata": {},
   "outputs": [
    {
     "data": {
      "text/html": [
       "<div>\n",
       "<style scoped>\n",
       "    .dataframe tbody tr th:only-of-type {\n",
       "        vertical-align: middle;\n",
       "    }\n",
       "\n",
       "    .dataframe tbody tr th {\n",
       "        vertical-align: top;\n",
       "    }\n",
       "\n",
       "    .dataframe thead th {\n",
       "        text-align: right;\n",
       "    }\n",
       "</style>\n",
       "<table border=\"1\" class=\"dataframe\">\n",
       "  <thead>\n",
       "    <tr style=\"text-align: right;\">\n",
       "      <th></th>\n",
       "      <th>user_id</th>\n",
       "      <th>name</th>\n",
       "      <th>age</th>\n",
       "      <th>city</th>\n",
       "      <th>subscription_type</th>\n",
       "      <th>distance</th>\n",
       "      <th>duration</th>\n",
       "      <th>date</th>\n",
       "      <th>month</th>\n",
       "      <th>minute_price</th>\n",
       "      <th>start_ride_price</th>\n",
       "      <th>subscription_fee</th>\n",
       "    </tr>\n",
       "  </thead>\n",
       "  <tbody>\n",
       "    <tr>\n",
       "      <th>0</th>\n",
       "      <td>1</td>\n",
       "      <td>Кира</td>\n",
       "      <td>22</td>\n",
       "      <td>Тюмень</td>\n",
       "      <td>ultra</td>\n",
       "      <td>4409.919140</td>\n",
       "      <td>25.599769</td>\n",
       "      <td>2021-01-01</td>\n",
       "      <td>1</td>\n",
       "      <td>6</td>\n",
       "      <td>0</td>\n",
       "      <td>199</td>\n",
       "    </tr>\n",
       "    <tr>\n",
       "      <th>1</th>\n",
       "      <td>1</td>\n",
       "      <td>Кира</td>\n",
       "      <td>22</td>\n",
       "      <td>Тюмень</td>\n",
       "      <td>ultra</td>\n",
       "      <td>2617.592153</td>\n",
       "      <td>15.816871</td>\n",
       "      <td>2021-01-18</td>\n",
       "      <td>1</td>\n",
       "      <td>6</td>\n",
       "      <td>0</td>\n",
       "      <td>199</td>\n",
       "    </tr>\n",
       "    <tr>\n",
       "      <th>2</th>\n",
       "      <td>1</td>\n",
       "      <td>Кира</td>\n",
       "      <td>22</td>\n",
       "      <td>Тюмень</td>\n",
       "      <td>ultra</td>\n",
       "      <td>754.159807</td>\n",
       "      <td>6.232113</td>\n",
       "      <td>2021-04-20</td>\n",
       "      <td>4</td>\n",
       "      <td>6</td>\n",
       "      <td>0</td>\n",
       "      <td>199</td>\n",
       "    </tr>\n",
       "    <tr>\n",
       "      <th>3</th>\n",
       "      <td>1</td>\n",
       "      <td>Кира</td>\n",
       "      <td>22</td>\n",
       "      <td>Тюмень</td>\n",
       "      <td>ultra</td>\n",
       "      <td>2694.783254</td>\n",
       "      <td>18.511000</td>\n",
       "      <td>2021-08-11</td>\n",
       "      <td>8</td>\n",
       "      <td>6</td>\n",
       "      <td>0</td>\n",
       "      <td>199</td>\n",
       "    </tr>\n",
       "    <tr>\n",
       "      <th>4</th>\n",
       "      <td>1</td>\n",
       "      <td>Кира</td>\n",
       "      <td>22</td>\n",
       "      <td>Тюмень</td>\n",
       "      <td>ultra</td>\n",
       "      <td>4028.687306</td>\n",
       "      <td>26.265803</td>\n",
       "      <td>2021-08-28</td>\n",
       "      <td>8</td>\n",
       "      <td>6</td>\n",
       "      <td>0</td>\n",
       "      <td>199</td>\n",
       "    </tr>\n",
       "  </tbody>\n",
       "</table>\n",
       "</div>"
      ],
      "text/plain": [
       "   user_id  name  age    city subscription_type     distance   duration  \\\n",
       "0        1  Кира   22  Тюмень             ultra  4409.919140  25.599769   \n",
       "1        1  Кира   22  Тюмень             ultra  2617.592153  15.816871   \n",
       "2        1  Кира   22  Тюмень             ultra   754.159807   6.232113   \n",
       "3        1  Кира   22  Тюмень             ultra  2694.783254  18.511000   \n",
       "4        1  Кира   22  Тюмень             ultra  4028.687306  26.265803   \n",
       "\n",
       "        date  month  minute_price  start_ride_price  subscription_fee  \n",
       "0 2021-01-01      1             6                 0               199  \n",
       "1 2021-01-18      1             6                 0               199  \n",
       "2 2021-04-20      4             6                 0               199  \n",
       "3 2021-08-11      8             6                 0               199  \n",
       "4 2021-08-28      8             6                 0               199  "
      ]
     },
     "metadata": {},
     "output_type": "display_data"
    },
    {
     "name": "stdout",
     "output_type": "stream",
     "text": [
      "<class 'pandas.core.frame.DataFrame'>\n",
      "RangeIndex: 18068 entries, 0 to 18067\n",
      "Data columns (total 12 columns):\n",
      " #   Column             Non-Null Count  Dtype         \n",
      "---  ------             --------------  -----         \n",
      " 0   user_id            18068 non-null  int64         \n",
      " 1   name               18068 non-null  object        \n",
      " 2   age                18068 non-null  int64         \n",
      " 3   city               18068 non-null  object        \n",
      " 4   subscription_type  18068 non-null  object        \n",
      " 5   distance           18068 non-null  float64       \n",
      " 6   duration           18068 non-null  float64       \n",
      " 7   date               18068 non-null  datetime64[ns]\n",
      " 8   month              18068 non-null  int32         \n",
      " 9   minute_price       18068 non-null  int64         \n",
      " 10  start_ride_price   18068 non-null  int64         \n",
      " 11  subscription_fee   18068 non-null  int64         \n",
      "dtypes: datetime64[ns](1), float64(2), int32(1), int64(5), object(3)\n",
      "memory usage: 1.6+ MB\n",
      "Количество дубликатов для общей таблицы:  0\n"
     ]
    }
   ],
   "source": [
    "df_ur = df_users.merge(df_rides)\n",
    "df_all = df_ur.merge(df_subscription)\n",
    "display(df_all.head())\n",
    "df_all.info()\n",
    "print('Количество дубликатов для общей таблицы: ', df_all.duplicated().sum())"
   ]
  },
  {
   "cell_type": "markdown",
   "id": "4740a50f",
   "metadata": {},
   "source": [
    "Данные из трех источников объединены в один dataframe df_all, дубликатов и пропусков нет."
   ]
  },
  {
   "cell_type": "markdown",
   "id": "7710c272",
   "metadata": {},
   "source": [
    "## 4.2 Создайте ещё два датафрейма из df_all - c данными о пользователях с подпиской и без"
   ]
  },
  {
   "cell_type": "code",
   "execution_count": 173,
   "id": "1485094c",
   "metadata": {},
   "outputs": [
    {
     "data": {
      "text/html": [
       "<div>\n",
       "<style scoped>\n",
       "    .dataframe tbody tr th:only-of-type {\n",
       "        vertical-align: middle;\n",
       "    }\n",
       "\n",
       "    .dataframe tbody tr th {\n",
       "        vertical-align: top;\n",
       "    }\n",
       "\n",
       "    .dataframe thead th {\n",
       "        text-align: right;\n",
       "    }\n",
       "</style>\n",
       "<table border=\"1\" class=\"dataframe\">\n",
       "  <thead>\n",
       "    <tr style=\"text-align: right;\">\n",
       "      <th></th>\n",
       "      <th>user_id</th>\n",
       "      <th>name</th>\n",
       "      <th>age</th>\n",
       "      <th>city</th>\n",
       "      <th>subscription_type</th>\n",
       "      <th>distance</th>\n",
       "      <th>duration</th>\n",
       "      <th>date</th>\n",
       "      <th>month</th>\n",
       "      <th>minute_price</th>\n",
       "      <th>start_ride_price</th>\n",
       "      <th>subscription_fee</th>\n",
       "    </tr>\n",
       "  </thead>\n",
       "  <tbody>\n",
       "    <tr>\n",
       "      <th>0</th>\n",
       "      <td>1</td>\n",
       "      <td>Кира</td>\n",
       "      <td>22</td>\n",
       "      <td>Тюмень</td>\n",
       "      <td>ultra</td>\n",
       "      <td>4409.919140</td>\n",
       "      <td>25.599769</td>\n",
       "      <td>2021-01-01</td>\n",
       "      <td>1</td>\n",
       "      <td>6</td>\n",
       "      <td>0</td>\n",
       "      <td>199</td>\n",
       "    </tr>\n",
       "    <tr>\n",
       "      <th>1</th>\n",
       "      <td>1</td>\n",
       "      <td>Кира</td>\n",
       "      <td>22</td>\n",
       "      <td>Тюмень</td>\n",
       "      <td>ultra</td>\n",
       "      <td>2617.592153</td>\n",
       "      <td>15.816871</td>\n",
       "      <td>2021-01-18</td>\n",
       "      <td>1</td>\n",
       "      <td>6</td>\n",
       "      <td>0</td>\n",
       "      <td>199</td>\n",
       "    </tr>\n",
       "    <tr>\n",
       "      <th>2</th>\n",
       "      <td>1</td>\n",
       "      <td>Кира</td>\n",
       "      <td>22</td>\n",
       "      <td>Тюмень</td>\n",
       "      <td>ultra</td>\n",
       "      <td>754.159807</td>\n",
       "      <td>6.232113</td>\n",
       "      <td>2021-04-20</td>\n",
       "      <td>4</td>\n",
       "      <td>6</td>\n",
       "      <td>0</td>\n",
       "      <td>199</td>\n",
       "    </tr>\n",
       "    <tr>\n",
       "      <th>3</th>\n",
       "      <td>1</td>\n",
       "      <td>Кира</td>\n",
       "      <td>22</td>\n",
       "      <td>Тюмень</td>\n",
       "      <td>ultra</td>\n",
       "      <td>2694.783254</td>\n",
       "      <td>18.511000</td>\n",
       "      <td>2021-08-11</td>\n",
       "      <td>8</td>\n",
       "      <td>6</td>\n",
       "      <td>0</td>\n",
       "      <td>199</td>\n",
       "    </tr>\n",
       "    <tr>\n",
       "      <th>4</th>\n",
       "      <td>1</td>\n",
       "      <td>Кира</td>\n",
       "      <td>22</td>\n",
       "      <td>Тюмень</td>\n",
       "      <td>ultra</td>\n",
       "      <td>4028.687306</td>\n",
       "      <td>26.265803</td>\n",
       "      <td>2021-08-28</td>\n",
       "      <td>8</td>\n",
       "      <td>6</td>\n",
       "      <td>0</td>\n",
       "      <td>199</td>\n",
       "    </tr>\n",
       "  </tbody>\n",
       "</table>\n",
       "</div>"
      ],
      "text/plain": [
       "   user_id  name  age    city subscription_type     distance   duration  \\\n",
       "0        1  Кира   22  Тюмень             ultra  4409.919140  25.599769   \n",
       "1        1  Кира   22  Тюмень             ultra  2617.592153  15.816871   \n",
       "2        1  Кира   22  Тюмень             ultra   754.159807   6.232113   \n",
       "3        1  Кира   22  Тюмень             ultra  2694.783254  18.511000   \n",
       "4        1  Кира   22  Тюмень             ultra  4028.687306  26.265803   \n",
       "\n",
       "        date  month  minute_price  start_ride_price  subscription_fee  \n",
       "0 2021-01-01      1             6                 0               199  \n",
       "1 2021-01-18      1             6                 0               199  \n",
       "2 2021-04-20      4             6                 0               199  \n",
       "3 2021-08-11      8             6                 0               199  \n",
       "4 2021-08-28      8             6                 0               199  "
      ]
     },
     "metadata": {},
     "output_type": "display_data"
    },
    {
     "data": {
      "text/html": [
       "<div>\n",
       "<style scoped>\n",
       "    .dataframe tbody tr th:only-of-type {\n",
       "        vertical-align: middle;\n",
       "    }\n",
       "\n",
       "    .dataframe tbody tr th {\n",
       "        vertical-align: top;\n",
       "    }\n",
       "\n",
       "    .dataframe thead th {\n",
       "        text-align: right;\n",
       "    }\n",
       "</style>\n",
       "<table border=\"1\" class=\"dataframe\">\n",
       "  <thead>\n",
       "    <tr style=\"text-align: right;\">\n",
       "      <th></th>\n",
       "      <th>user_id</th>\n",
       "      <th>name</th>\n",
       "      <th>age</th>\n",
       "      <th>city</th>\n",
       "      <th>subscription_type</th>\n",
       "      <th>distance</th>\n",
       "      <th>duration</th>\n",
       "      <th>date</th>\n",
       "      <th>month</th>\n",
       "      <th>minute_price</th>\n",
       "      <th>start_ride_price</th>\n",
       "      <th>subscription_fee</th>\n",
       "    </tr>\n",
       "  </thead>\n",
       "  <tbody>\n",
       "    <tr>\n",
       "      <th>6500</th>\n",
       "      <td>700</td>\n",
       "      <td>Айдар</td>\n",
       "      <td>22</td>\n",
       "      <td>Омск</td>\n",
       "      <td>free</td>\n",
       "      <td>2515.690719</td>\n",
       "      <td>14.944286</td>\n",
       "      <td>2021-01-02</td>\n",
       "      <td>1</td>\n",
       "      <td>8</td>\n",
       "      <td>50</td>\n",
       "      <td>0</td>\n",
       "    </tr>\n",
       "    <tr>\n",
       "      <th>6501</th>\n",
       "      <td>700</td>\n",
       "      <td>Айдар</td>\n",
       "      <td>22</td>\n",
       "      <td>Омск</td>\n",
       "      <td>free</td>\n",
       "      <td>846.932642</td>\n",
       "      <td>16.234663</td>\n",
       "      <td>2021-02-01</td>\n",
       "      <td>2</td>\n",
       "      <td>8</td>\n",
       "      <td>50</td>\n",
       "      <td>0</td>\n",
       "    </tr>\n",
       "    <tr>\n",
       "      <th>6502</th>\n",
       "      <td>700</td>\n",
       "      <td>Айдар</td>\n",
       "      <td>22</td>\n",
       "      <td>Омск</td>\n",
       "      <td>free</td>\n",
       "      <td>4004.434142</td>\n",
       "      <td>20.016628</td>\n",
       "      <td>2021-02-04</td>\n",
       "      <td>2</td>\n",
       "      <td>8</td>\n",
       "      <td>50</td>\n",
       "      <td>0</td>\n",
       "    </tr>\n",
       "    <tr>\n",
       "      <th>6503</th>\n",
       "      <td>700</td>\n",
       "      <td>Айдар</td>\n",
       "      <td>22</td>\n",
       "      <td>Омск</td>\n",
       "      <td>free</td>\n",
       "      <td>1205.911290</td>\n",
       "      <td>9.782872</td>\n",
       "      <td>2021-02-10</td>\n",
       "      <td>2</td>\n",
       "      <td>8</td>\n",
       "      <td>50</td>\n",
       "      <td>0</td>\n",
       "    </tr>\n",
       "    <tr>\n",
       "      <th>6504</th>\n",
       "      <td>700</td>\n",
       "      <td>Айдар</td>\n",
       "      <td>22</td>\n",
       "      <td>Омск</td>\n",
       "      <td>free</td>\n",
       "      <td>3047.379435</td>\n",
       "      <td>17.427673</td>\n",
       "      <td>2021-02-14</td>\n",
       "      <td>2</td>\n",
       "      <td>8</td>\n",
       "      <td>50</td>\n",
       "      <td>0</td>\n",
       "    </tr>\n",
       "  </tbody>\n",
       "</table>\n",
       "</div>"
      ],
      "text/plain": [
       "      user_id   name  age  city subscription_type     distance   duration  \\\n",
       "6500      700  Айдар   22  Омск              free  2515.690719  14.944286   \n",
       "6501      700  Айдар   22  Омск              free   846.932642  16.234663   \n",
       "6502      700  Айдар   22  Омск              free  4004.434142  20.016628   \n",
       "6503      700  Айдар   22  Омск              free  1205.911290   9.782872   \n",
       "6504      700  Айдар   22  Омск              free  3047.379435  17.427673   \n",
       "\n",
       "           date  month  minute_price  start_ride_price  subscription_fee  \n",
       "6500 2021-01-02      1             8                50                 0  \n",
       "6501 2021-02-01      2             8                50                 0  \n",
       "6502 2021-02-04      2             8                50                 0  \n",
       "6503 2021-02-10      2             8                50                 0  \n",
       "6504 2021-02-14      2             8                50                 0  "
      ]
     },
     "metadata": {},
     "output_type": "display_data"
    }
   ],
   "source": [
    "df_all_with_subscription = df_all[df_all['subscription_type'] == 'ultra']\n",
    "df_all_without_subscription = df_all[df_all['subscription_type'] == 'free']\n",
    "display(df_all_with_subscription.head())\n",
    "display(df_all_without_subscription.head())"
   ]
  },
  {
   "cell_type": "markdown",
   "id": "6b55a5ca",
   "metadata": {},
   "source": [
    "Созданы dataframes **df_all_with_subscription** и **df_all_without_subscription**"
   ]
  },
  {
   "cell_type": "markdown",
   "id": "6a8c2a72",
   "metadata": {},
   "source": [
    "## 4.3 Визуализируйте информацию о расстоянии и времени поездок для пользователей обеих категорий"
   ]
  },
  {
   "cell_type": "code",
   "execution_count": 174,
   "id": "f81cb427",
   "metadata": {},
   "outputs": [
    {
     "data": {
      "image/png": "[encoded data removed]",
      "text/plain": [
       "<Figure size 800x800 with 2 Axes>"
      ]
     },
     "metadata": {},
     "output_type": "display_data"
    },
    {
     "data": {
      "image/png": "[encoded data removed]",
      "text/plain": [
       "<Figure size 800x800 with 2 Axes>"
      ]
     },
     "metadata": {},
     "output_type": "display_data"
    }
   ],
   "source": [
    "fig1, axes1 = plt.subplots(nrows=2, ncols=1,sharex=True, figsize=(8,8))\n",
    "fig2, axes2 = plt.subplots(nrows=2, ncols=1,sharex=True, figsize=(8,8))\n",
    "axes1[0].set_title('Пользователи без подписки - Расстояние')\n",
    "axes2[0].set_title('Пользователи без подписки - Длительность')\n",
    "axes1[1].set_title('Пользователи с подпиской - Расстояние')\n",
    "axes2[1].set_title('Пользователи с подпиской - Длительность')\n",
    "axes1[1].set_xlabel('Продолжительность, мин')\n",
    "axes1[1].set_ylabel('Частота')\n",
    "bins = 200\n",
    "df_all_without_subscription = df_all_without_subscription.loc[df_all_without_subscription['duration'] != 0.5]\n",
    "df_all_without_subscription['distance'].plot(kind='hist', bins = bins, grid=True, ax = axes1[0], ylabel='Частота')\n",
    "df_all_with_subscription['distance'].plot(kind='hist', bins = bins, grid=True, ax = axes1[1], xlabel='Расстояние, м', ylabel='Частота')\n",
    "df_all_without_subscription['duration'].plot(kind='hist', bins = bins, grid=True, ax = axes2[0], ylabel='Частота')\n",
    "df_all_with_subscription['duration'].plot(kind='hist', bins = bins, grid=True, ax = axes2[1], xlabel='Продолжительность, мин', ylabel='Частота');"
   ]
  },
  {
   "cell_type": "markdown",
   "id": "598a34e6",
   "metadata": {},
   "source": [
    "Из данной визуализации видно, что для пользователей без подписки значения продолжительности поездки менее чем 2 мин отсутствуют и присутствует ряд значений которые равны == 0.5 мин что приводит к появлению четкого выброса слева у гистограммы **All users without subscription - Duration**. Я это связываю с технической ошибкой и удаляю эти данные - их количество 95. После удаления выброс на гистограмме пропал. (Наличие выброса показано в 3.5)\n",
    "\n",
    "Общий вид диаграмм Duration близок к нормальному - есть максимум в районе 17 мин и этому значению примерно равны медиана и среднее.\n",
    "Что касается диаграмм Distance - то тут помимо основного максимума в районе 3000 м есть и вторичный максимум в районе 1000 м для пользователей с подпиской и 500 м для пользователей без подписки. Кроме того, для полльзователей без подписки диаграмма расстояния прижата к левой оси - то есть есть какое то количество поездок с очень малым расстоянием - но не равным 0 (то есть это не техническая ошибка)."
   ]
  },
  {
   "cell_type": "markdown",
   "id": "7d4ae054",
   "metadata": {},
   "source": [
    "# 5 Подсчёт выручки"
   ]
  },
  {
   "cell_type": "markdown",
   "id": "ad25b059",
   "metadata": {},
   "source": [
    "## 5.1 Создайте датафрейм с агрегированными данными о поездках на основе датафрейма с объединёнными данными и добавьте туда столбец с помесячной выручкой, которую принёс каждый пользователь"
   ]
  },
  {
   "cell_type": "code",
   "execution_count": 175,
   "id": "1d1e6cee",
   "metadata": {
    "scrolled": true
   },
   "outputs": [
    {
     "data": {
      "text/html": [
       "<div>\n",
       "<style scoped>\n",
       "    .dataframe tbody tr th:only-of-type {\n",
       "        vertical-align: middle;\n",
       "    }\n",
       "\n",
       "    .dataframe tbody tr th {\n",
       "        vertical-align: top;\n",
       "    }\n",
       "\n",
       "    .dataframe thead th {\n",
       "        text-align: right;\n",
       "    }\n",
       "</style>\n",
       "<table border=\"1\" class=\"dataframe\">\n",
       "  <thead>\n",
       "    <tr style=\"text-align: right;\">\n",
       "      <th></th>\n",
       "      <th></th>\n",
       "      <th>distance</th>\n",
       "      <th>count</th>\n",
       "      <th>duration</th>\n",
       "      <th>name</th>\n",
       "      <th>revenue</th>\n",
       "      <th>subscription_fee</th>\n",
       "    </tr>\n",
       "    <tr>\n",
       "      <th>user_id</th>\n",
       "      <th>month</th>\n",
       "      <th></th>\n",
       "      <th></th>\n",
       "      <th></th>\n",
       "      <th></th>\n",
       "      <th></th>\n",
       "      <th></th>\n",
       "    </tr>\n",
       "  </thead>\n",
       "  <tbody>\n",
       "    <tr>\n",
       "      <th rowspan=\"5\" valign=\"top\">1</th>\n",
       "      <th>1</th>\n",
       "      <td>7027.511294</td>\n",
       "      <td>2</td>\n",
       "      <td>41.416640</td>\n",
       "      <td>Кира</td>\n",
       "      <td>451.0</td>\n",
       "      <td>199</td>\n",
       "    </tr>\n",
       "    <tr>\n",
       "      <th>4</th>\n",
       "      <td>754.159807</td>\n",
       "      <td>1</td>\n",
       "      <td>6.232113</td>\n",
       "      <td>Кира</td>\n",
       "      <td>241.0</td>\n",
       "      <td>199</td>\n",
       "    </tr>\n",
       "    <tr>\n",
       "      <th>8</th>\n",
       "      <td>6723.470560</td>\n",
       "      <td>2</td>\n",
       "      <td>44.776802</td>\n",
       "      <td>Кира</td>\n",
       "      <td>475.0</td>\n",
       "      <td>199</td>\n",
       "    </tr>\n",
       "    <tr>\n",
       "      <th>10</th>\n",
       "      <td>5809.911100</td>\n",
       "      <td>2</td>\n",
       "      <td>31.578017</td>\n",
       "      <td>Кира</td>\n",
       "      <td>391.0</td>\n",
       "      <td>199</td>\n",
       "    </tr>\n",
       "    <tr>\n",
       "      <th>11</th>\n",
       "      <td>7003.499363</td>\n",
       "      <td>3</td>\n",
       "      <td>53.397424</td>\n",
       "      <td>Кира</td>\n",
       "      <td>535.0</td>\n",
       "      <td>199</td>\n",
       "    </tr>\n",
       "  </tbody>\n",
       "</table>\n",
       "</div>"
      ],
      "text/plain": [
       "                  distance  count   duration  name  revenue  subscription_fee\n",
       "user_id month                                                                \n",
       "1       1      7027.511294      2  41.416640  Кира    451.0               199\n",
       "        4       754.159807      1   6.232113  Кира    241.0               199\n",
       "        8      6723.470560      2  44.776802  Кира    475.0               199\n",
       "        10     5809.911100      2  31.578017  Кира    391.0               199\n",
       "        11     7003.499363      3  53.397424  Кира    535.0               199"
      ]
     },
     "metadata": {},
     "output_type": "display_data"
    }
   ],
   "source": [
    "df_all['revenue'] = df_all.apply(lambda row: row.loc['start_ride_price'] + row.loc['minute_price'] * np.ceil(row.loc['duration']), axis = 1)\n",
    "df_all_grouped = pd.pivot_table(df_all,\n",
    "               index=[\"user_id\", \"month\"],\n",
    "               values=[\"distance\", \"duration\", \"revenue\", \"name\", \"subscription_fee\"],\n",
    "               aggfunc={\"distance\": \"sum\", \"duration\": [\"sum\", len], \"name\" : \"first\", \"subscription_fee\" : \"first\", \"revenue\" : \"sum\"})\n",
    "df_all_grouped.columns = [\"distance\", \"count\", \"duration\", \"name\", \"revenue\", \"subscription_fee\"]\n",
    "df_all_grouped[\"revenue\"] = df_all_grouped[\"revenue\"] + df_all_grouped[\"subscription_fee\"]\n",
    "display(df_all_grouped.head())"
   ]
  },
  {
   "cell_type": "markdown",
   "id": "566e0ab2",
   "metadata": {},
   "source": [
    "Создан датафрейм df_all_grouped с агрегированными данными о поездках на основе датафрейма с объединёнными данными df_all. Группировка по паре: user_id, month. Добавлены колонки:\n",
    "\n",
    "distance - аггрегированное расстояние в метрах\n",
    "count - количество поездок\n",
    "duration - аггрегированное время в минутах\n",
    "name - имя текущего пользователя\n",
    "revenue - суммарная выручка для данного пользователя в месяц с учетом наличия или отсутствия подлписки\n",
    "subscription_fee - стоимость ежемесячного платежа"
   ]
  },
  {
   "cell_type": "markdown",
   "id": "462af57e",
   "metadata": {},
   "source": [
    "<div class=\"alert alert-success\" style=\"border-radius: 15px; box-shadow: 4px 4px 4px; border: 1px solid \">\n",
    "<h2> Комментарий ревьюера v_2: <a class=\"tocSkip\"> </h2>\n",
    "    \n",
    "✅ Всё верно. Выручка рассчитана корректно👍"
   ]
  },
  {
   "cell_type": "markdown",
   "id": "c5f7a5ce",
   "metadata": {},
   "source": [
    "# 6. Проверка гипотез"
   ]
  },
  {
   "cell_type": "markdown",
   "id": "b69d9090",
   "metadata": {},
   "source": [
    "## 6.1 Выгодны ли пользователи с подпиской для компании?"
   ]
  },
  {
   "cell_type": "code",
   "execution_count": 176,
   "id": "ca33a4e1",
   "metadata": {},
   "outputs": [
    {
     "name": "stdout",
     "output_type": "stream",
     "text": [
      "p-значение: 4.704468074453899e-28\n",
      "Отвергаем нулевую гипотезу\n"
     ]
    }
   ],
   "source": [
    "alpha = 0.05 # уровень статистической значимости\n",
    "# если p-value окажется меньше него, отвергнем гипотезу\n",
    "\n",
    "sample_1 = df_all_without_subscription['duration']\n",
    "sample_2 = df_all_with_subscription['duration']\n",
    "results = st.ttest_ind(sample_2, sample_1, alternative=\"greater\")\n",
    "print('p-значение:', results.pvalue)\n",
    "\n",
    "if results.pvalue < alpha:\n",
    "    print('Отвергаем нулевую гипотезу')\n",
    "else:\n",
    "    print('Не получилось отвергнуть нулевую гипотезу') "
   ]
  },
  {
   "cell_type": "markdown",
   "id": "9603e02c",
   "metadata": {},
   "source": [
    "<div class=\"alert alert-block alert-danger\" style=\"border-radius: 15px; box-shadow: 4px 4px 4px; border: 1px solid \">\n",
    "<h2> Комментарий ревьюера v_2: <a class=\"tocSkip\"></h2>\n",
    "    \n",
    "❌ Порядок выборок неверный. Сначала с подпиской, потом без подписки в статметоде."
   ]
  },
  {
   "cell_type": "markdown",
   "id": "2fdddbc2",
   "metadata": {},
   "source": [
    "- Нулевая гипотеза - пользователи с подпиской в среднем тратят на одну поездку то же время, что и пользователи без подписки\n",
    "- Альтернативная гипотеза - пользователи с подпиской в среднем тратят на одну поездку больше времени чем пользователи без подписки\n",
    "\n",
    "Принимаем уровень статистической значимости alpha = 0.05\n",
    "### Результат\n",
    "Рассчитаное значение p-value для данных выбророк = 4.704468074453899e-28 и меньше, чем принятый уровень статистической значимости - то есть нулевая гипотеза отвергнута. Таким образом, пользователи с подпиской в среднем тратят больше времени на поездки чем пользователи без подписки. Ответить на вопрос выгодны ли компании пользователи с подпиской можно будет только проведя исследование в п 6.3"
   ]
  },
  {
   "cell_type": "markdown",
   "id": "0e60616b",
   "metadata": {},
   "source": [
    "<div class=\"alert alert-block alert-danger\" style=\"border-radius: 15px; box-shadow: 4px 4px 4px; border: 1px solid \">\n",
    "<h2> Комментарий ревьюера v_2: <a class=\"tocSkip\"></h2>\n",
    "    \n",
    "❌ О том, как формулируются гипотезы, есть в уроке \"Формулирование гипотез\" в теме \"Проверка гипотез\" раздела \"Статистический анализ данных\". Гипотезы нужно будет скорректировать.  "
   ]
  },
  {
   "cell_type": "markdown",
   "id": "42055adb",
   "metadata": {},
   "source": [
    "## 6.2 Можно ли сказать, что среднее расстояние, которое проезжают пользователи с подпиской за одну поездку, не превышает 3130 метров? "
   ]
  },
  {
   "cell_type": "code",
   "execution_count": 177,
   "id": "48e45d90",
   "metadata": {},
   "outputs": [
    {
     "name": "stdout",
     "output_type": "stream",
     "text": [
      "p-значение: 0.9195368847849785\n",
      "Не отвергаем нулевую гипотезу\n"
     ]
    }
   ],
   "source": [
    "optimal_distance = 3130\n",
    "\n",
    "sample = df_all_with_subscription['distance']\n",
    "\n",
    "alpha = 0.05 # уровень статистической значимости\n",
    "\n",
    "results = st.ttest_1samp(\n",
    "    sample, \n",
    "    optimal_distance,\n",
    "      alternative='greater')\n",
    "\n",
    "print('p-значение:', results.pvalue)\n",
    "\n",
    "if (results.pvalue < alpha):\n",
    "    print('Отвергаем нулевую гипотезу')\n",
    "else:\n",
    "    print('Не отвергаем нулевую гипотезу') "
   ]
  },
  {
   "cell_type": "markdown",
   "id": "7cb7fa60",
   "metadata": {},
   "source": [
    "- Нулевая гипотеза - среднее расстояние, которое проезжают пользователи с подпиской за одну поездку в среднем равно 3130 метров\n",
    "- Альтернативная гипотеза - среднее расстояние, которое проезжают пользователи с подпиской за одну поездку, больше 3130 метров\n",
    "\n",
    "Принимаем уровень статистической значимости alpha = 0.05\n",
    "### Результат\n",
    "Рассчитаное значение p-value для данных выбророк = 0.92 и больше чем принятый уровень статистической значимости - то есть не получилось отвергнуть нулевую гипотезу. Таким образом, среднее расстояние, которое проезжают пользователи с подпиской за одну поездку, не превышает 3130 метров и является оптимальным с точки зрения износа самоката - то есть износ самоката будет минимален для пользователей с подпиской."
   ]
  },
  {
   "cell_type": "markdown",
   "id": "db9af720",
   "metadata": {},
   "source": [
    "<div class=\"alert alert-block alert-danger\" style=\"border-radius: 15px; box-shadow: 4px 4px 4px; border: 1px solid \">\n",
    "<h2> Комментарий ревьюера v_2: <a class=\"tocSkip\"></h2>\n",
    "    \n",
    "❌ Гипотеза была сформулирована, как \"больше\", а в тесте указано \"less\". Необходимо изменить аргумент в параметре alternative."
   ]
  },
  {
   "cell_type": "markdown",
   "id": "e7ad58fa",
   "metadata": {},
   "source": [
    "<div class=\"alert alert-warning\" style=\"border-radius: 15px; box-shadow: 4px 4px 4px; border: 1px solid \">\n",
    "<h2> Комментарий ревьюера v_2: <a class=\"tocSkip\"> </h2>\n",
    "    \n",
    "⚠️ Стоит прокомментировать после внесения изменений выше, является ли расстояние поездок оптимальным с точки зрения износа самоката. "
   ]
  },
  {
   "cell_type": "markdown",
   "id": "4d4df08b",
   "metadata": {},
   "source": [
    "## 6.3 Будет ли помесячная выручка от пользователей с подпиской по месяцам выше, чем выручка от пользователей без подписки?"
   ]
  },
  {
   "cell_type": "code",
   "execution_count": 178,
   "id": "59fe307c",
   "metadata": {
    "scrolled": true
   },
   "outputs": [
    {
     "name": "stdout",
     "output_type": "stream",
     "text": [
      "p-значение: 1.8850394384715216e-31\n",
      "Отвергаем нулевую гипотезу\n"
     ]
    }
   ],
   "source": [
    "alpha = 0.05 # уровень статистической значимости\n",
    "# если p-value окажется меньше него, отвергнем гипотезу\n",
    "sample_1 = df_all_grouped[df_all_grouped['subscription_fee'] == 0]['revenue']\n",
    "sample_2 = df_all_grouped[df_all_grouped['subscription_fee'] != 0]['revenue']\n",
    "\n",
    "results = st.ttest_ind(sample_2, sample_1, alternative=\"greater\")\n",
    "print('p-значение:', results.pvalue)\n",
    "\n",
    "if results.pvalue < alpha:\n",
    "    print('Отвергаем нулевую гипотезу')\n",
    "else:\n",
    "    print('Не получилось отвергнуть нулевую гипотезу') "
   ]
  },
  {
   "cell_type": "markdown",
   "id": "29d8fa78",
   "metadata": {},
   "source": [
    "<div class=\"alert alert-block alert-danger\" style=\"border-radius: 15px; box-shadow: 4px 4px 4px; border: 1px solid \">\n",
    "<h2> Комментарий ревьюера v_2: <a class=\"tocSkip\"></h2>\n",
    "    \n",
    "❌ Нужно поменять местами выборки пользователей с подпиской и без подписки."
   ]
  },
  {
   "cell_type": "markdown",
   "id": "f538d5b0",
   "metadata": {},
   "source": [
    "- Нулевая гипотеза - средняя помесячная выручка от пользователей с подпиской по месяцам равна средней помесячной выручке от пользователей без подписки.\n",
    "- Альтернативная гипотеза - средняя помесячная выручка от пользователей с подпиской по месяцам выше, чем средняя помесячная выручка от пользователей без подписки\n",
    "\n",
    "Принимаем уровень статистической значимости alpha = 0.05\n",
    "### Результат\n",
    "Рассчитаное значение p-value для данных выбророк = 1.8850394384715216e-31 и меньше чем принятый уровень статистической значимости - то есть мы отвергли нулевую гипотезу. Таким образом, средняя помесячная выручка от пользователей с подпиской по месяцам выше, чем средняя помесячная выручка от пользователей без подписки - таким образом пользователи с подпиской действительно более выгодны компании чем пользователи без подписки."
   ]
  },
  {
   "cell_type": "markdown",
   "id": "0192ce56",
   "metadata": {},
   "source": [
    "<div class=\"alert alert-block alert-danger\" style=\"border-radius: 15px; box-shadow: 4px 4px 4px; border: 1px solid \">\n",
    "<h2> Комментарий ревьюера v_2: <a class=\"tocSkip\"></h2>\n",
    "    \n",
    "❌ Гипотезы также нужно доработать. Нулевая - это альтернативная на самом деле, а нулевую нужно будет изменить. "
   ]
  },
  {
   "cell_type": "markdown",
   "id": "d38b3f9f",
   "metadata": {},
   "source": [
    "## 6.4 Будет ли количество обращений в техподдержку от пользователей ниже после обновления серверов, с которыми взаимодействует мобильное приложение?\n",
    "\n",
    "- Нулевая гипотеза - среднее количество обращений в техподдержку от пользователей после обновления серверов в среднем равно среднему количеству обращений до обновления серверов\n",
    "- Альтернативная гипотеза - среднее количество обращений в техподдержку от пользователей после обновления серверов в среднем ниже среднего количества обращений до обновления серверов"
   ]
  },
  {
   "cell_type": "markdown",
   "id": "c7082598",
   "metadata": {},
   "source": [
    "# Выводы\n",
    "\n",
    "- пользователи с подпиской в среднем тратят времени на одну поездку больше чем пользователи без подписки\n",
    "- учитывая, что наиболее оптимальное для износа самоката расстояние для одной поездки = 3130 м и среднее расстояние, которое проезжают пользователи с подпиской за одну поездку, не превышает 3130 метров можно сказать, что для пользователей с подпиской износ самокатов будет минимален\n",
    "- средняя помесячная выручка от пользователей с подпиской по месяцам выше, чем средняя помесячная выручка от пользователей без подписки\n",
    "\n",
    "### Общий вывод\n",
    "Пользователи с подпиской в целом более выгодны для компании чем пользователи без подписки. Сейчас доля клиентов с подпиской меньше половины. Вывод - надо стараться увеличить их процентное отношение.\n",
    "И еще вызывает вопрос почему по частоте использования Москва занимает среди городов самое последнее место - это город с большим населением и с большим числом потенциальных клиентов. Необходимо увеличивать количество клиентов с подпиской в Москве."
   ]
  },
  {
   "cell_type": "markdown",
   "id": "e90d06f4",
   "metadata": {},
   "source": [
    "<div class=\"alert alert-block alert-danger\" style=\"border-radius: 15px; box-shadow: 4px 4px 4px; border: 1px solid \">\n",
    "<h2> Комментарий ревьюера v_2: <a class=\"tocSkip\"></h2>\n",
    "    \n",
    "❌ Речь идет о наборе данных до и после изменений, какой статтест стоит выбрать? Об этом есть в уроке \"Гипотеза о равенстве средних для зависимых (парных) выборок\".\n",
    "    \n",
    "Гипотезы не совсем верно сформулированы. В уроке, который я упомянул выше, есть о том, какой должна быть нулевая и альтернативная гипотезы."
   ]
  },
  {
   "cell_type": "markdown",
   "id": "7ba59f99",
   "metadata": {},
   "source": [
    "<div class=\"alert alert-warning\" style=\"border-radius: 15px; box-shadow: 4px 4px 4px; border: 1px solid \">\n",
    "<h2> Комментарий ревьюера v_2: <a class=\"tocSkip\"> </h2>\n",
    "    \n",
    "⚠️ \"Она надеется, что из-за этого количество обращений в техподдержку значимо снизилось\". Это альтернативная гипотеза. Какая должна быть гипотеза, односторонняя или двухсторонняя?"
   ]
  },
  {
   "cell_type": "markdown",
   "id": "2cd4cde8",
   "metadata": {},
   "source": [
    "<div class=\"alert alert-block alert-danger\" style=\"border-radius: 15px; box-shadow: 4px 4px 4px; border: 1px solid \">\n",
    "<h2> Комментарий ревьюера v_1: <a class=\"tocSkip\"></h2>\n",
    "    \n",
    "❌ В итоговом выводе необходимо написать, какие данные были рассмотрены, выявлены ли пропуски и дубликаты, какие результаты получены в шагах 3, 4 и 6. Также стоит резюмировать, являются ли пользователи с подиской более выгодными для сервиса аренды самокатов."
   ]
  },
  {
   "cell_type": "markdown",
   "id": "c5a63181",
   "metadata": {},
   "source": [
    "<div style=\"border:solid lightblue 3px; background:#f7faf8; padding: 20px\">\n",
    "<span style=\"color:darkblue\">Общий вывод по проекту v_1:</span>\n",
    "    \n",
    "Проект не подготовлен для проверки. Сейчас он выглядит, как черновик. Много кода в одной ячейке, что не принято делать в jupyter. Не структурирована работа, в частности, выводы написаны не в том же разделе, где был написан код. Есть раздел \"Подсчёт выручки\", но он пустой, а выручка была рассчитана до этого (также и в других разделах). Необходимо подготовить проект в соответствии со структурой, разбить код по смыслу. Жду твой проект на повторное ревью!)"
   ]
  },
  {
   "cell_type": "markdown",
   "id": "d27f7d5a",
   "metadata": {},
   "source": [
    "Владимир я не согласен с таким выводом что я меня выводы не написаны в том же разделе где был написан код. При формировании ноутбука я придерживался следующей системы  - а именно: то, что в описании проекта описано как Шаг1, Шаг2, и тд - у меня в маркдауне это заголовки 1го уровня и у меня под каждой секцией кода соответствующего определенному шагу расположена секция Markdown которая начигается с соответствущего заголовка 1го уровняю. Далее в этой секции расположены заголовки 2го уровня - 1.1, 1.2 и тд и в каждом указаны выводы по данной секции. Если нужно написать общий вывод я напишу но на мою работу может быть рнадо сначала посмотреть ?\n",
    "Спасибо"
   ]
  },
  {
   "cell_type": "markdown",
   "id": "890a836a",
   "metadata": {},
   "source": [
    "<div style=\"border:solid lightblue 3px; background:#f7faf8; padding: 20px\">\n",
    "<span style=\"color:darkblue\">Общий вывод по проекту v_2:</span>\n",
    "  \n",
    "Cтруктуру я бы советовал доработать. Прежде всего, это нужно не для нас, а для тебя, чтобы твою работу могли прочитать, чтобы было проще взаимодействовать с заказчиком. Т.е., сначала заголовок шага, затем код и комментарии к нему. Это привычный для многих формат. Что касается кода, его обязательно нужно будет разбить. Без этого проект не будет принят. Жду проект)"
   ]
  },
  {
   "cell_type": "markdown",
   "id": "08a9a6d1",
   "metadata": {},
   "source": [
    "Хорошо я все таки для себя определю стандарт оформления ноутбука:\n",
    "\n",
    "-  Введение\n",
    "-  Шаги проекта оформленные как markdown header 1го уровня - например **2.Предобработка данных**\n",
    "-  Внутри каждого шага промежуточные задачи как заголовки 2го уровня (если они есть)- например \n",
    "   - **2.1 Приведите столбец date к типу даты pandas**\n",
    "   - **2.2 Создайте новый столбец с номером месяца на основе столбца date**\n",
    "   - **2.3 Проверьте наличие пропущенных значений и дубликатов в датафреймах.** \n",
    "- Сначала идет заголовок 1го уровня в ячейке Markdown, потом - если есть - заголовок второго уровня в ячейке Markdown, потом код на Python, потом описание этого шага в ячейке Markdown\n",
    "- Выводы\n",
    "- Импорты вверху в отдельной ячейке\n",
    "- Ну и чтобы минимизировать код я уберу всякие дополнительные выдачи типа df.info и df.describe которые я делал для себя\n",
    "\n",
    "Если есть какие то дополнения - просьба написать - пока буду его придерживаться.\n",
    "\n",
    "По статметодам все исправил - там были неправильные формулировки и вызовы методов - недоучил"
   ]
  }
 ],
 "metadata": {
  "ExecuteTimeLog": [
   {
    "duration": 1451,
    "start_time": "2023-11-12T12:33:58.475Z"
   },
   {
    "duration": 23,
    "start_time": "2023-11-12T12:33:59.928Z"
   },
   {
    "duration": 4,
    "start_time": "2023-11-12T12:33:59.955Z"
   },
   {
    "duration": 1771,
    "start_time": "2023-11-12T12:33:59.960Z"
   },
   {
    "duration": 1686,
    "start_time": "2023-11-12T12:34:01.733Z"
   },
   {
    "duration": 670,
    "start_time": "2023-11-12T12:34:03.421Z"
   },
   {
    "duration": 21,
    "start_time": "2023-11-12T12:34:04.093Z"
   },
   {
    "duration": 124,
    "start_time": "2023-11-12T12:34:04.116Z"
   },
   {
    "duration": 18,
    "start_time": "2023-11-12T12:34:04.243Z"
   },
   {
    "duration": 12,
    "start_time": "2023-11-12T12:34:04.263Z"
   },
   {
    "duration": 6,
    "start_time": "2023-11-12T12:34:04.277Z"
   },
   {
    "duration": 8,
    "start_time": "2023-11-12T12:34:04.285Z"
   },
   {
    "duration": 6,
    "start_time": "2023-11-12T12:34:04.330Z"
   },
   {
    "duration": 14,
    "start_time": "2023-11-12T12:34:04.337Z"
   },
   {
    "duration": 8,
    "start_time": "2023-11-12T12:34:04.353Z"
   },
   {
    "duration": 1251,
    "start_time": "2023-11-12T12:55:13.815Z"
   },
   {
    "duration": 19,
    "start_time": "2023-11-12T12:55:15.067Z"
   },
   {
    "duration": 11,
    "start_time": "2023-11-12T12:55:15.090Z"
   },
   {
    "duration": 1521,
    "start_time": "2023-11-12T12:55:15.103Z"
   },
   {
    "duration": 1571,
    "start_time": "2023-11-12T12:55:16.631Z"
   },
   {
    "duration": 579,
    "start_time": "2023-11-12T12:55:18.203Z"
   },
   {
    "duration": 19,
    "start_time": "2023-11-12T12:55:18.784Z"
   },
   {
    "duration": 117,
    "start_time": "2023-11-12T12:55:18.804Z"
   },
   {
    "duration": 21,
    "start_time": "2023-11-12T12:55:18.923Z"
   },
   {
    "duration": 12,
    "start_time": "2023-11-12T12:55:18.946Z"
   },
   {
    "duration": 6,
    "start_time": "2023-11-12T12:55:18.960Z"
   },
   {
    "duration": 7,
    "start_time": "2023-11-12T12:55:18.968Z"
   },
   {
    "duration": 7,
    "start_time": "2023-11-12T12:55:18.977Z"
   },
   {
    "duration": 47,
    "start_time": "2023-11-12T12:55:18.985Z"
   },
   {
    "duration": 8,
    "start_time": "2023-11-12T12:55:19.033Z"
   },
   {
    "duration": 49,
    "start_time": "2023-11-12T23:34:02.556Z"
   },
   {
    "duration": 1445,
    "start_time": "2023-11-12T23:34:09.640Z"
   },
   {
    "duration": 19,
    "start_time": "2023-11-12T23:34:11.087Z"
   },
   {
    "duration": 24,
    "start_time": "2023-11-12T23:34:11.108Z"
   },
   {
    "duration": 1658,
    "start_time": "2023-11-12T23:34:11.134Z"
   },
   {
    "duration": 1650,
    "start_time": "2023-11-12T23:34:12.799Z"
   },
   {
    "duration": 6,
    "start_time": "2023-11-12T23:34:14.450Z"
   },
   {
    "duration": 670,
    "start_time": "2023-11-12T23:34:14.458Z"
   },
   {
    "duration": 19,
    "start_time": "2023-11-12T23:34:15.130Z"
   },
   {
    "duration": 129,
    "start_time": "2023-11-12T23:34:15.150Z"
   },
   {
    "duration": 25,
    "start_time": "2023-11-12T23:34:15.281Z"
   },
   {
    "duration": 12,
    "start_time": "2023-11-12T23:34:15.308Z"
   },
   {
    "duration": 6,
    "start_time": "2023-11-12T23:34:15.321Z"
   },
   {
    "duration": 15,
    "start_time": "2023-11-12T23:34:15.329Z"
   },
   {
    "duration": 6,
    "start_time": "2023-11-12T23:34:15.346Z"
   },
   {
    "duration": 47,
    "start_time": "2023-11-12T23:34:15.354Z"
   },
   {
    "duration": 9,
    "start_time": "2023-11-12T23:34:15.402Z"
   },
   {
    "duration": 98,
    "start_time": "2023-11-12T23:54:31.560Z"
   },
   {
    "duration": 8,
    "start_time": "2023-11-12T23:54:53.103Z"
   },
   {
    "duration": 9,
    "start_time": "2023-11-12T23:55:07.994Z"
   },
   {
    "duration": 11,
    "start_time": "2023-11-12T23:58:09.880Z"
   },
   {
    "duration": 6,
    "start_time": "2023-11-12T23:58:21.431Z"
   },
   {
    "duration": 6,
    "start_time": "2023-11-13T00:02:04.827Z"
   },
   {
    "duration": 8,
    "start_time": "2023-11-13T00:08:11.106Z"
   }
  ],
  "kernelspec": {
   "display_name": "Python 3 (ipykernel)",
   "language": "python",
   "name": "python3"
  },
  "language_info": {
   "codemirror_mode": {
    "name": "ipython",
    "version": 3
   },
   "file_extension": ".py",
   "mimetype": "text/x-python",
   "name": "python",
   "nbconvert_exporter": "python",
   "pygments_lexer": "ipython3",
   "version": "3.11.5"
  },
  "toc": {
   "base_numbering": 1,
   "nav_menu": {},
   "number_sections": true,
   "sideBar": true,
   "skip_h1_title": true,
   "title_cell": "Table of Contents",
   "title_sidebar": "Contents",
   "toc_cell": false,
   "toc_position": {},
   "toc_section_display": true,
   "toc_window_display": false
  },
  "toc-autonumbering": true,
  "toc-showcode": false,
  "toc-showmarkdowntxt": false,
  "toc-showtags": false
 },
 "nbformat": 4,
 "nbformat_minor": 5
}
