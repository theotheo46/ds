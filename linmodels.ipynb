{
 "cells": [
  {
   "cell_type": "markdown",
   "id": "72bee3c6-5794-454a-ba97-599e626a1100",
   "metadata": {},
   "source": [
    "# Проект: Линейные модели в машинном обучении"
   ]
  },
  {
   "cell_type": "markdown",
   "id": "6a0e3979-5693-4a43-a14d-2fb43bf094a3",
   "metadata": {},
   "source": [
    "## 1. Введение"
   ]
  },
  {
   "cell_type": "markdown",
   "id": "60825fd1-d2d9-4a0b-91ef-4d9006c7d63c",
   "metadata": {},
   "source": [
    "   Вы работаете в IT-компании, которая выполняет на заказ проекты по машинному обучению. К вам обратился фермер, владелец молочного хозяйства «Вольный луг». Он хочет купить бурёнок, чтобы расширить поголовье стада коров. Для этого он заключил выгодный контракт с ассоциацией пастбищ «ЭкоФерма».\n",
    "\n",
    "   Условия позволяют фермеру очень тщательно отобрать коров. Он определяет качество молока по строгой методике, и при этом ему нужно выполнять свой план развития молочного хозяйства. Фермер хочет, чтобы каждая бурёнка давала не менее 6000 килограммов молока в год, а её надой был вкусным — строго по его критериям, ничуть не хуже. А продавцы и технологи так и норовят приукрасить своих коровок!\n",
    "Поэтому он просит вас разработать модель машинного обучения, которая поможет ему управлять рисками и принимать объективное решение о покупке. \n",
    "\n",
    "Необходимо создать две прогнозные модели для отбора бурёнок в поголовье:\n",
    "\n",
    "- Первая будет прогнозировать возможный удой коровы (целевой признак **Удой**);\n",
    "- Вторая — рассчитывать вероятность получить вкусное молоко от коровы (целевой признак **Вкус молока**).\n",
    "\n",
    "С помощью модели нужно отобрать коров по двум критериям:\n",
    "- средний удой за год — не менее 6000 килограммов;\n",
    "- молоко должно быть вкусным;"
   ]
  },
  {
   "cell_type": "markdown",
   "id": "43d4634c-acaa-4630-a11b-53cdf2a10137",
   "metadata": {},
   "source": [
    "## 2. Загрузка и изучение данных"
   ]
  },
  {
   "cell_type": "code",
   "execution_count": 54,
   "id": "4e91fc85-cfc5-4a17-9d0f-2877b8f6f6f6",
   "metadata": {},
   "outputs": [],
   "source": [
    "import pandas as pd\n",
    "import seaborn as sns\n",
    "import matplotlib.pyplot as plt\n",
    "import matplotlib.ticker as ticker\n",
    "import numpy as np\n",
    "\n",
    "from sklearn.linear_model import LinearRegression\n",
    "from sklearn.model_selection import train_test_split\n",
    "from sklearn.metrics import mean_absolute_error\n",
    "from sklearn.metrics import r2_score\n",
    "from sklearn.preprocessing import StandardScaler\n",
    "from sklearn.preprocessing import MinMaxScaler\n",
    "from sklearn.preprocessing import OneHotEncoder\n",
    "from sklearn.linear_model import LogisticRegression\n",
    "from sklearn.multiclass import OneVsRestClassifier\n",
    "from sklearn.metrics import recall_score, precision_score\n",
    "from sklearn.metrics import confusion_matrix\n",
    "\n",
    "\n",
    "RANDOM_STATE = 42\n",
    "sns.set()\n"
   ]
  },
  {
   "cell_type": "markdown",
   "id": "4117a405-584a-4f11-9b34-816a24627db6",
   "metadata": {},
   "source": [
    "### 2.1 Загрузка данных"
   ]
  },
  {
   "cell_type": "code",
   "execution_count": 55,
   "id": "36012031-17dc-4183-b70b-9ab6bbaabfc2",
   "metadata": {},
   "outputs": [],
   "source": [
    "df_main = pd.read_csv('https://code.s3.yandex.net/datasets/ferma_main.csv', ';')\n",
    "df_dad = pd.read_csv('https://code.s3.yandex.net/datasets/ferma_dad.csv', ';')\n",
    "df_buy = pd.read_csv('https://code.s3.yandex.net/datasets/cow_buy.csv', ';')"
   ]
  },
  {
   "cell_type": "markdown",
   "id": "deb45620-f4d6-465f-b361-f6e3be593891",
   "metadata": {},
   "source": [
    "Загрузил данные в датасеты df_main, df_dad, df_buy для файлов ferma_main.csv, ferma_dad.csv, cow_buy.csv"
   ]
  },
  {
   "cell_type": "markdown",
   "id": "472194a9-f8ba-4564-96f8-72ea82999d9e",
   "metadata": {},
   "source": [
    "### 2.2 Изучение данных"
   ]
  },
  {
   "cell_type": "code",
   "execution_count": 56,
   "id": "9ccc0b7d-a082-4370-a585-05768934d785",
   "metadata": {},
   "outputs": [
    {
     "data": {
      "text/html": [
       "<div>\n",
       "<style scoped>\n",
       "    .dataframe tbody tr th:only-of-type {\n",
       "        vertical-align: middle;\n",
       "    }\n",
       "\n",
       "    .dataframe tbody tr th {\n",
       "        vertical-align: top;\n",
       "    }\n",
       "\n",
       "    .dataframe thead th {\n",
       "        text-align: right;\n",
       "    }\n",
       "</style>\n",
       "<table border=\"1\" class=\"dataframe\">\n",
       "  <thead>\n",
       "    <tr style=\"text-align: right;\">\n",
       "      <th></th>\n",
       "      <th>id</th>\n",
       "      <th>удой</th>\n",
       "      <th>эке</th>\n",
       "      <th>сырой_протеин</th>\n",
       "      <th>спо</th>\n",
       "      <th>порода</th>\n",
       "      <th>тип_пастбища</th>\n",
       "      <th>порода_папы_быка</th>\n",
       "      <th>жирность</th>\n",
       "      <th>белок</th>\n",
       "      <th>вкус_молока</th>\n",
       "      <th>возраст</th>\n",
       "    </tr>\n",
       "  </thead>\n",
       "  <tbody>\n",
       "    <tr>\n",
       "      <th>0</th>\n",
       "      <td>1</td>\n",
       "      <td>5863</td>\n",
       "      <td>14,2</td>\n",
       "      <td>1743</td>\n",
       "      <td>0,89</td>\n",
       "      <td>Вис Бик Айдиал</td>\n",
       "      <td>Равнинное</td>\n",
       "      <td>Айдиал</td>\n",
       "      <td>3,58</td>\n",
       "      <td>3,076</td>\n",
       "      <td>вкусно</td>\n",
       "      <td>более_2_лет</td>\n",
       "    </tr>\n",
       "    <tr>\n",
       "      <th>1</th>\n",
       "      <td>2</td>\n",
       "      <td>5529</td>\n",
       "      <td>12,8</td>\n",
       "      <td>2138</td>\n",
       "      <td>0,89</td>\n",
       "      <td>Вис Бик Айдиал</td>\n",
       "      <td>Равнинные</td>\n",
       "      <td>Соверин</td>\n",
       "      <td>3,54</td>\n",
       "      <td>3,079</td>\n",
       "      <td>вкусно</td>\n",
       "      <td>менее_2_лет</td>\n",
       "    </tr>\n",
       "    <tr>\n",
       "      <th>2</th>\n",
       "      <td>3</td>\n",
       "      <td>5810</td>\n",
       "      <td>14</td>\n",
       "      <td>1854</td>\n",
       "      <td>0,885</td>\n",
       "      <td>РефлешнСоверинг</td>\n",
       "      <td>Холмистое</td>\n",
       "      <td>Соверин</td>\n",
       "      <td>3,59</td>\n",
       "      <td>3,074</td>\n",
       "      <td>не вкусно</td>\n",
       "      <td>более_2_лет</td>\n",
       "    </tr>\n",
       "    <tr>\n",
       "      <th>3</th>\n",
       "      <td>4</td>\n",
       "      <td>5895</td>\n",
       "      <td>12,4</td>\n",
       "      <td>2012</td>\n",
       "      <td>0,885</td>\n",
       "      <td>РефлешнСоверинг</td>\n",
       "      <td>Холмистое</td>\n",
       "      <td>Айдиал</td>\n",
       "      <td>3,4</td>\n",
       "      <td>3,075</td>\n",
       "      <td>не вкусно</td>\n",
       "      <td>более_2_лет</td>\n",
       "    </tr>\n",
       "    <tr>\n",
       "      <th>4</th>\n",
       "      <td>5</td>\n",
       "      <td>5302</td>\n",
       "      <td>12,8</td>\n",
       "      <td>1675</td>\n",
       "      <td>0,885</td>\n",
       "      <td>Вис Бик Айдиал</td>\n",
       "      <td>Равнинные</td>\n",
       "      <td>Соверин</td>\n",
       "      <td>3,73</td>\n",
       "      <td>3,073</td>\n",
       "      <td>вкусно</td>\n",
       "      <td>менее_2_лет</td>\n",
       "    </tr>\n",
       "  </tbody>\n",
       "</table>\n",
       "</div>"
      ],
      "text/plain": [
       "   id  удой   эке  сырой_протеин    спо           порода тип_пастбища  \\\n",
       "0   1  5863  14,2           1743   0,89   Вис Бик Айдиал    Равнинное   \n",
       "1   2  5529  12,8           2138   0,89   Вис Бик Айдиал    Равнинные   \n",
       "2   3  5810    14           1854  0,885  РефлешнСоверинг    Холмистое   \n",
       "3   4  5895  12,4           2012  0,885  РефлешнСоверинг    Холмистое   \n",
       "4   5  5302  12,8           1675  0,885   Вис Бик Айдиал    Равнинные   \n",
       "\n",
       "  порода_папы_быка жирность  белок вкус_молока      возраст  \n",
       "0           Айдиал     3,58  3,076      вкусно  более_2_лет  \n",
       "1          Соверин     3,54  3,079      вкусно  менее_2_лет  \n",
       "2          Соверин     3,59  3,074   не вкусно  более_2_лет  \n",
       "3           Айдиал      3,4  3,075   не вкусно  более_2_лет  \n",
       "4          Соверин     3,73  3,073      вкусно  менее_2_лет  "
      ]
     },
     "metadata": {},
     "output_type": "display_data"
    },
    {
     "data": {
      "text/html": [
       "<div>\n",
       "<style scoped>\n",
       "    .dataframe tbody tr th:only-of-type {\n",
       "        vertical-align: middle;\n",
       "    }\n",
       "\n",
       "    .dataframe tbody tr th {\n",
       "        vertical-align: top;\n",
       "    }\n",
       "\n",
       "    .dataframe thead th {\n",
       "        text-align: right;\n",
       "    }\n",
       "</style>\n",
       "<table border=\"1\" class=\"dataframe\">\n",
       "  <thead>\n",
       "    <tr style=\"text-align: right;\">\n",
       "      <th></th>\n",
       "      <th>id</th>\n",
       "      <th>имя_папы</th>\n",
       "    </tr>\n",
       "  </thead>\n",
       "  <tbody>\n",
       "    <tr>\n",
       "      <th>0</th>\n",
       "      <td>1</td>\n",
       "      <td>Буйный</td>\n",
       "    </tr>\n",
       "    <tr>\n",
       "      <th>1</th>\n",
       "      <td>2</td>\n",
       "      <td>Соловчик</td>\n",
       "    </tr>\n",
       "    <tr>\n",
       "      <th>2</th>\n",
       "      <td>3</td>\n",
       "      <td>Барин</td>\n",
       "    </tr>\n",
       "    <tr>\n",
       "      <th>3</th>\n",
       "      <td>4</td>\n",
       "      <td>Буйный</td>\n",
       "    </tr>\n",
       "    <tr>\n",
       "      <th>4</th>\n",
       "      <td>5</td>\n",
       "      <td>Барин</td>\n",
       "    </tr>\n",
       "  </tbody>\n",
       "</table>\n",
       "</div>"
      ],
      "text/plain": [
       "   id  имя_папы\n",
       "0   1    Буйный\n",
       "1   2  Соловчик\n",
       "2   3     Барин\n",
       "3   4    Буйный\n",
       "4   5     Барин"
      ]
     },
     "metadata": {},
     "output_type": "display_data"
    },
    {
     "data": {
      "text/html": [
       "<div>\n",
       "<style scoped>\n",
       "    .dataframe tbody tr th:only-of-type {\n",
       "        vertical-align: middle;\n",
       "    }\n",
       "\n",
       "    .dataframe tbody tr th {\n",
       "        vertical-align: top;\n",
       "    }\n",
       "\n",
       "    .dataframe thead th {\n",
       "        text-align: right;\n",
       "    }\n",
       "</style>\n",
       "<table border=\"1\" class=\"dataframe\">\n",
       "  <thead>\n",
       "    <tr style=\"text-align: right;\">\n",
       "      <th></th>\n",
       "      <th>порода</th>\n",
       "      <th>тип_пастбища</th>\n",
       "      <th>порода_папы_быка</th>\n",
       "      <th>имя_папы</th>\n",
       "      <th>жирность</th>\n",
       "      <th>белок</th>\n",
       "      <th>возраст</th>\n",
       "    </tr>\n",
       "  </thead>\n",
       "  <tbody>\n",
       "    <tr>\n",
       "      <th>0</th>\n",
       "      <td>Вис Бик Айдиал</td>\n",
       "      <td>холмистое</td>\n",
       "      <td>Айдиал</td>\n",
       "      <td>Геркулес</td>\n",
       "      <td>3,58</td>\n",
       "      <td>3,076</td>\n",
       "      <td>более_2_лет</td>\n",
       "    </tr>\n",
       "    <tr>\n",
       "      <th>1</th>\n",
       "      <td>Вис Бик Айдиал</td>\n",
       "      <td>равнинное</td>\n",
       "      <td>Соверин</td>\n",
       "      <td>Буйный</td>\n",
       "      <td>3,54</td>\n",
       "      <td>3,081</td>\n",
       "      <td>менее_2_лет</td>\n",
       "    </tr>\n",
       "    <tr>\n",
       "      <th>2</th>\n",
       "      <td>РефлешнСоверинг</td>\n",
       "      <td>равнинное</td>\n",
       "      <td>Соверин</td>\n",
       "      <td>Барин</td>\n",
       "      <td>3,59</td>\n",
       "      <td>3,074</td>\n",
       "      <td>более_2_лет</td>\n",
       "    </tr>\n",
       "    <tr>\n",
       "      <th>3</th>\n",
       "      <td>РефлешнСоверинг</td>\n",
       "      <td>холмистое</td>\n",
       "      <td>Айдиал</td>\n",
       "      <td>Буйный</td>\n",
       "      <td>3,4</td>\n",
       "      <td>3,061</td>\n",
       "      <td>более_2_лет</td>\n",
       "    </tr>\n",
       "    <tr>\n",
       "      <th>4</th>\n",
       "      <td>РефлешнСоверинг</td>\n",
       "      <td>равнинное</td>\n",
       "      <td>Айдиал</td>\n",
       "      <td>Буйный</td>\n",
       "      <td>3,64</td>\n",
       "      <td>3,074</td>\n",
       "      <td>более_2_лет</td>\n",
       "    </tr>\n",
       "  </tbody>\n",
       "</table>\n",
       "</div>"
      ],
      "text/plain": [
       "            порода тип_пастбища порода_папы_быка  имя_папы жирность  белок  \\\n",
       "0   Вис Бик Айдиал    холмистое           Айдиал  Геркулес     3,58  3,076   \n",
       "1   Вис Бик Айдиал    равнинное          Соверин    Буйный     3,54  3,081   \n",
       "2  РефлешнСоверинг    равнинное          Соверин     Барин     3,59  3,074   \n",
       "3  РефлешнСоверинг    холмистое           Айдиал    Буйный      3,4  3,061   \n",
       "4  РефлешнСоверинг    равнинное           Айдиал    Буйный     3,64  3,074   \n",
       "\n",
       "       возраст  \n",
       "0  более_2_лет  \n",
       "1  менее_2_лет  \n",
       "2  более_2_лет  \n",
       "3  более_2_лет  \n",
       "4  более_2_лет  "
      ]
     },
     "metadata": {},
     "output_type": "display_data"
    }
   ],
   "source": [
    "df_main.columns = ['id',\n",
    " 'удой',\n",
    " 'эке',\n",
    " 'сырой_протеин',\n",
    " 'спо',\n",
    " 'порода',\n",
    " 'тип_пастбища',\n",
    " 'порода_папы_быка',\n",
    " 'жирность',\n",
    " 'белок',\n",
    " 'вкус_молока',\n",
    " 'возраст']\n",
    "df_dad.columns = ['id', 'имя_папы']\n",
    "df_buy.columns = ['порода',\n",
    " 'тип_пастбища',\n",
    " 'порода_папы_быка',\n",
    " 'имя_папы',\n",
    " 'жирность',\n",
    " 'белок',\n",
    " 'возраст']\n",
    "display(df_main.head(5))\n",
    "display(df_dad.head(5))\n",
    "display(df_buy.head(5))"
   ]
  },
  {
   "cell_type": "markdown",
   "id": "88c72ec2-c372-4ec2-9984-74246b59e46e",
   "metadata": {},
   "source": [
    "Переименовал колонки для всех трех датасетов по следующим правилам:\n",
    "- приведение к нижнему регистру\n",
    "- удаление упоминания по единицах измерения в конце имени колонки\n",
    "- пробел заменется на подчеркивание\n",
    "- имена колонок **текущая_жирность** и **текущий_уровень_белка** приведены к более общей форме **жирность** и **белок**\n",
    "\n",
    "  Сейчас имена колонок приведены к единому стандарту.\n",
    "  На первый взгляд содержимое колонок соответствует их наименованию."
   ]
  },
  {
   "cell_type": "markdown",
   "id": "089195ab-677e-4b52-bb66-242c4fc06d03",
   "metadata": {},
   "source": [
    "## 3. Предобработка данных"
   ]
  },
  {
   "cell_type": "code",
   "execution_count": 57,
   "id": "318b4b06-db15-4bf4-a9b1-0aaa3b64f043",
   "metadata": {},
   "outputs": [
    {
     "name": "stdout",
     "output_type": "stream",
     "text": [
      "<class 'pandas.core.frame.DataFrame'>\n",
      "RangeIndex: 634 entries, 0 to 633\n",
      "Data columns (total 12 columns):\n",
      " #   Column            Non-Null Count  Dtype \n",
      "---  ------            --------------  ----- \n",
      " 0   id                634 non-null    int64 \n",
      " 1   удой              634 non-null    int64 \n",
      " 2   эке               634 non-null    object\n",
      " 3   сырой_протеин     634 non-null    int64 \n",
      " 4   спо               634 non-null    object\n",
      " 5   порода            634 non-null    object\n",
      " 6   тип_пастбища      634 non-null    object\n",
      " 7   порода_папы_быка  634 non-null    object\n",
      " 8   жирность          634 non-null    object\n",
      " 9   белок             634 non-null    object\n",
      " 10  вкус_молока       634 non-null    object\n",
      " 11  возраст           634 non-null    object\n",
      "dtypes: int64(3), object(9)\n",
      "memory usage: 59.6+ KB\n",
      "<class 'pandas.core.frame.DataFrame'>\n",
      "RangeIndex: 629 entries, 0 to 628\n",
      "Data columns (total 2 columns):\n",
      " #   Column    Non-Null Count  Dtype \n",
      "---  ------    --------------  ----- \n",
      " 0   id        629 non-null    int64 \n",
      " 1   имя_папы  629 non-null    object\n",
      "dtypes: int64(1), object(1)\n",
      "memory usage: 10.0+ KB\n",
      "<class 'pandas.core.frame.DataFrame'>\n",
      "RangeIndex: 20 entries, 0 to 19\n",
      "Data columns (total 7 columns):\n",
      " #   Column            Non-Null Count  Dtype \n",
      "---  ------            --------------  ----- \n",
      " 0   порода            20 non-null     object\n",
      " 1   тип_пастбища      20 non-null     object\n",
      " 2   порода_папы_быка  20 non-null     object\n",
      " 3   имя_папы          20 non-null     object\n",
      " 4   жирность          20 non-null     object\n",
      " 5   белок             20 non-null     object\n",
      " 6   возраст           20 non-null     object\n",
      "dtypes: object(7)\n",
      "memory usage: 1.2+ KB\n",
      "['равнинное', 'холмистое']\n",
      "Categories (2, object): ['равнинное', 'холмистое']\n",
      "['холмистое' 'равнинное']\n"
     ]
    },
    {
     "data": {
      "text/html": [
       "<div>\n",
       "<style scoped>\n",
       "    .dataframe tbody tr th:only-of-type {\n",
       "        vertical-align: middle;\n",
       "    }\n",
       "\n",
       "    .dataframe tbody tr th {\n",
       "        vertical-align: top;\n",
       "    }\n",
       "\n",
       "    .dataframe thead th {\n",
       "        text-align: right;\n",
       "    }\n",
       "</style>\n",
       "<table border=\"1\" class=\"dataframe\">\n",
       "  <thead>\n",
       "    <tr style=\"text-align: right;\">\n",
       "      <th></th>\n",
       "      <th>id</th>\n",
       "      <th>удой</th>\n",
       "      <th>эке</th>\n",
       "      <th>сырой_протеин</th>\n",
       "      <th>спо</th>\n",
       "      <th>порода</th>\n",
       "      <th>тип_пастбища</th>\n",
       "      <th>порода_папы_быка</th>\n",
       "      <th>жирность</th>\n",
       "      <th>белок</th>\n",
       "      <th>вкус_молока</th>\n",
       "      <th>возраст</th>\n",
       "    </tr>\n",
       "  </thead>\n",
       "  <tbody>\n",
       "    <tr>\n",
       "      <th>0</th>\n",
       "      <td>1</td>\n",
       "      <td>5863</td>\n",
       "      <td>14.2</td>\n",
       "      <td>1743</td>\n",
       "      <td>0.890</td>\n",
       "      <td>Вис Бик Айдиал</td>\n",
       "      <td>равнинное</td>\n",
       "      <td>Айдиал</td>\n",
       "      <td>3.58</td>\n",
       "      <td>3.076</td>\n",
       "      <td>вкусно</td>\n",
       "      <td>более_2_лет</td>\n",
       "    </tr>\n",
       "    <tr>\n",
       "      <th>1</th>\n",
       "      <td>2</td>\n",
       "      <td>5529</td>\n",
       "      <td>12.8</td>\n",
       "      <td>2138</td>\n",
       "      <td>0.890</td>\n",
       "      <td>Вис Бик Айдиал</td>\n",
       "      <td>равнинное</td>\n",
       "      <td>Соверин</td>\n",
       "      <td>3.54</td>\n",
       "      <td>3.079</td>\n",
       "      <td>вкусно</td>\n",
       "      <td>менее_2_лет</td>\n",
       "    </tr>\n",
       "    <tr>\n",
       "      <th>2</th>\n",
       "      <td>3</td>\n",
       "      <td>5810</td>\n",
       "      <td>14.0</td>\n",
       "      <td>1854</td>\n",
       "      <td>0.885</td>\n",
       "      <td>РефлешнСоверинг</td>\n",
       "      <td>холмистое</td>\n",
       "      <td>Соверин</td>\n",
       "      <td>3.59</td>\n",
       "      <td>3.074</td>\n",
       "      <td>не вкусно</td>\n",
       "      <td>более_2_лет</td>\n",
       "    </tr>\n",
       "    <tr>\n",
       "      <th>3</th>\n",
       "      <td>4</td>\n",
       "      <td>5895</td>\n",
       "      <td>12.4</td>\n",
       "      <td>2012</td>\n",
       "      <td>0.885</td>\n",
       "      <td>РефлешнСоверинг</td>\n",
       "      <td>холмистое</td>\n",
       "      <td>Айдиал</td>\n",
       "      <td>3.40</td>\n",
       "      <td>3.075</td>\n",
       "      <td>не вкусно</td>\n",
       "      <td>более_2_лет</td>\n",
       "    </tr>\n",
       "    <tr>\n",
       "      <th>4</th>\n",
       "      <td>5</td>\n",
       "      <td>5302</td>\n",
       "      <td>12.8</td>\n",
       "      <td>1675</td>\n",
       "      <td>0.885</td>\n",
       "      <td>Вис Бик Айдиал</td>\n",
       "      <td>равнинное</td>\n",
       "      <td>Соверин</td>\n",
       "      <td>3.73</td>\n",
       "      <td>3.073</td>\n",
       "      <td>вкусно</td>\n",
       "      <td>менее_2_лет</td>\n",
       "    </tr>\n",
       "  </tbody>\n",
       "</table>\n",
       "</div>"
      ],
      "text/plain": [
       "   id  удой   эке  сырой_протеин    спо           порода тип_пастбища  \\\n",
       "0   1  5863  14.2           1743  0.890   Вис Бик Айдиал    равнинное   \n",
       "1   2  5529  12.8           2138  0.890   Вис Бик Айдиал    равнинное   \n",
       "2   3  5810  14.0           1854  0.885  РефлешнСоверинг    холмистое   \n",
       "3   4  5895  12.4           2012  0.885  РефлешнСоверинг    холмистое   \n",
       "4   5  5302  12.8           1675  0.885   Вис Бик Айдиал    равнинное   \n",
       "\n",
       "  порода_папы_быка  жирность  белок вкус_молока      возраст  \n",
       "0           Айдиал      3.58  3.076      вкусно  более_2_лет  \n",
       "1          Соверин      3.54  3.079      вкусно  менее_2_лет  \n",
       "2          Соверин      3.59  3.074   не вкусно  более_2_лет  \n",
       "3           Айдиал      3.40  3.075   не вкусно  более_2_лет  \n",
       "4          Соверин      3.73  3.073      вкусно  менее_2_лет  "
      ]
     },
     "metadata": {},
     "output_type": "display_data"
    },
    {
     "data": {
      "text/html": [
       "<div>\n",
       "<style scoped>\n",
       "    .dataframe tbody tr th:only-of-type {\n",
       "        vertical-align: middle;\n",
       "    }\n",
       "\n",
       "    .dataframe tbody tr th {\n",
       "        vertical-align: top;\n",
       "    }\n",
       "\n",
       "    .dataframe thead th {\n",
       "        text-align: right;\n",
       "    }\n",
       "</style>\n",
       "<table border=\"1\" class=\"dataframe\">\n",
       "  <thead>\n",
       "    <tr style=\"text-align: right;\">\n",
       "      <th></th>\n",
       "      <th>id</th>\n",
       "      <th>имя_папы</th>\n",
       "    </tr>\n",
       "  </thead>\n",
       "  <tbody>\n",
       "    <tr>\n",
       "      <th>0</th>\n",
       "      <td>1</td>\n",
       "      <td>Буйный</td>\n",
       "    </tr>\n",
       "    <tr>\n",
       "      <th>1</th>\n",
       "      <td>2</td>\n",
       "      <td>Соловчик</td>\n",
       "    </tr>\n",
       "    <tr>\n",
       "      <th>2</th>\n",
       "      <td>3</td>\n",
       "      <td>Барин</td>\n",
       "    </tr>\n",
       "    <tr>\n",
       "      <th>3</th>\n",
       "      <td>4</td>\n",
       "      <td>Буйный</td>\n",
       "    </tr>\n",
       "    <tr>\n",
       "      <th>4</th>\n",
       "      <td>5</td>\n",
       "      <td>Барин</td>\n",
       "    </tr>\n",
       "  </tbody>\n",
       "</table>\n",
       "</div>"
      ],
      "text/plain": [
       "   id  имя_папы\n",
       "0   1    Буйный\n",
       "1   2  Соловчик\n",
       "2   3     Барин\n",
       "3   4    Буйный\n",
       "4   5     Барин"
      ]
     },
     "metadata": {},
     "output_type": "display_data"
    },
    {
     "data": {
      "text/html": [
       "<div>\n",
       "<style scoped>\n",
       "    .dataframe tbody tr th:only-of-type {\n",
       "        vertical-align: middle;\n",
       "    }\n",
       "\n",
       "    .dataframe tbody tr th {\n",
       "        vertical-align: top;\n",
       "    }\n",
       "\n",
       "    .dataframe thead th {\n",
       "        text-align: right;\n",
       "    }\n",
       "</style>\n",
       "<table border=\"1\" class=\"dataframe\">\n",
       "  <thead>\n",
       "    <tr style=\"text-align: right;\">\n",
       "      <th></th>\n",
       "      <th>порода</th>\n",
       "      <th>тип_пастбища</th>\n",
       "      <th>порода_папы_быка</th>\n",
       "      <th>имя_папы</th>\n",
       "      <th>жирность</th>\n",
       "      <th>белок</th>\n",
       "      <th>возраст</th>\n",
       "    </tr>\n",
       "  </thead>\n",
       "  <tbody>\n",
       "    <tr>\n",
       "      <th>0</th>\n",
       "      <td>Вис Бик Айдиал</td>\n",
       "      <td>холмистое</td>\n",
       "      <td>Айдиал</td>\n",
       "      <td>Геркулес</td>\n",
       "      <td>3.58</td>\n",
       "      <td>3.076</td>\n",
       "      <td>более_2_лет</td>\n",
       "    </tr>\n",
       "    <tr>\n",
       "      <th>1</th>\n",
       "      <td>Вис Бик Айдиал</td>\n",
       "      <td>равнинное</td>\n",
       "      <td>Соверин</td>\n",
       "      <td>Буйный</td>\n",
       "      <td>3.54</td>\n",
       "      <td>3.081</td>\n",
       "      <td>менее_2_лет</td>\n",
       "    </tr>\n",
       "    <tr>\n",
       "      <th>2</th>\n",
       "      <td>РефлешнСоверинг</td>\n",
       "      <td>равнинное</td>\n",
       "      <td>Соверин</td>\n",
       "      <td>Барин</td>\n",
       "      <td>3.59</td>\n",
       "      <td>3.074</td>\n",
       "      <td>более_2_лет</td>\n",
       "    </tr>\n",
       "    <tr>\n",
       "      <th>3</th>\n",
       "      <td>РефлешнСоверинг</td>\n",
       "      <td>холмистое</td>\n",
       "      <td>Айдиал</td>\n",
       "      <td>Буйный</td>\n",
       "      <td>3.40</td>\n",
       "      <td>3.061</td>\n",
       "      <td>более_2_лет</td>\n",
       "    </tr>\n",
       "    <tr>\n",
       "      <th>4</th>\n",
       "      <td>РефлешнСоверинг</td>\n",
       "      <td>равнинное</td>\n",
       "      <td>Айдиал</td>\n",
       "      <td>Буйный</td>\n",
       "      <td>3.64</td>\n",
       "      <td>3.074</td>\n",
       "      <td>более_2_лет</td>\n",
       "    </tr>\n",
       "  </tbody>\n",
       "</table>\n",
       "</div>"
      ],
      "text/plain": [
       "            порода тип_пастбища порода_папы_быка  имя_папы  жирность  белок  \\\n",
       "0   Вис Бик Айдиал    холмистое           Айдиал  Геркулес      3.58  3.076   \n",
       "1   Вис Бик Айдиал    равнинное          Соверин    Буйный      3.54  3.081   \n",
       "2  РефлешнСоверинг    равнинное          Соверин     Барин      3.59  3.074   \n",
       "3  РефлешнСоверинг    холмистое           Айдиал    Буйный      3.40  3.061   \n",
       "4  РефлешнСоверинг    равнинное           Айдиал    Буйный      3.64  3.074   \n",
       "\n",
       "       возраст  \n",
       "0  более_2_лет  \n",
       "1  менее_2_лет  \n",
       "2  более_2_лет  \n",
       "3  более_2_лет  \n",
       "4  более_2_лет  "
      ]
     },
     "metadata": {},
     "output_type": "display_data"
    },
    {
     "name": "stdout",
     "output_type": "stream",
     "text": [
      "<class 'pandas.core.frame.DataFrame'>\n",
      "Int64Index: 633 entries, 0 to 633\n",
      "Data columns (total 12 columns):\n",
      " #   Column            Non-Null Count  Dtype   \n",
      "---  ------            --------------  -----   \n",
      " 0   id                633 non-null    int64   \n",
      " 1   удой              633 non-null    int64   \n",
      " 2   эке               633 non-null    float64 \n",
      " 3   сырой_протеин     633 non-null    int64   \n",
      " 4   спо               633 non-null    float64 \n",
      " 5   порода            633 non-null    string  \n",
      " 6   тип_пастбища      633 non-null    category\n",
      " 7   порода_папы_быка  633 non-null    string  \n",
      " 8   жирность          633 non-null    float64 \n",
      " 9   белок             633 non-null    float64 \n",
      " 10  вкус_молока       633 non-null    category\n",
      " 11  возраст           633 non-null    category\n",
      "dtypes: category(3), float64(4), int64(3), string(2)\n",
      "memory usage: 51.7 KB\n",
      "<class 'pandas.core.frame.DataFrame'>\n",
      "RangeIndex: 629 entries, 0 to 628\n",
      "Data columns (total 2 columns):\n",
      " #   Column    Non-Null Count  Dtype \n",
      "---  ------    --------------  ----- \n",
      " 0   id        629 non-null    int64 \n",
      " 1   имя_папы  629 non-null    string\n",
      "dtypes: int64(1), string(1)\n",
      "memory usage: 10.0 KB\n",
      "<class 'pandas.core.frame.DataFrame'>\n",
      "RangeIndex: 20 entries, 0 to 19\n",
      "Data columns (total 7 columns):\n",
      " #   Column            Non-Null Count  Dtype   \n",
      "---  ------            --------------  -----   \n",
      " 0   порода            20 non-null     string  \n",
      " 1   тип_пастбища      20 non-null     category\n",
      " 2   порода_папы_быка  20 non-null     string  \n",
      " 3   имя_папы          20 non-null     string  \n",
      " 4   жирность          20 non-null     float64 \n",
      " 5   белок             20 non-null     float64 \n",
      " 6   возраст           20 non-null     category\n",
      "dtypes: category(2), float64(2), string(3)\n",
      "memory usage: 1.2 KB\n"
     ]
    }
   ],
   "source": [
    "df_main.info()\n",
    "df_dad.info()\n",
    "df_buy.info()\n",
    "df_main_float_col_list = ['эке', 'спо', 'жирность', 'белок']\n",
    "df_main_cat_col_list = ['вкус_молока', 'возраст', 'тип_пастбища']\n",
    "df_main_str_col_list = ['порода', 'порода_папы_быка']\n",
    "df_main['тип_пастбища'] = df_main['тип_пастбища'].str.lower()\n",
    "df_main['тип_пастбища'] = df_main['тип_пастбища'].replace('равнинные', 'равнинное')\n",
    "df_main['порода_папы_быка'] = df_main['порода_папы_быка'].replace('Айдиалл', 'Айдиал')\n",
    "df_main.drop(df_main.loc[df_main['удой']==45616].index, inplace=True)\n",
    "df_main[df_main_float_col_list]  = df_main[df_main_float_col_list].replace(',', '.', regex=True).astype('float')\n",
    "df_main[df_main_cat_col_list]  = df_main[df_main_cat_col_list].astype('category')\n",
    "df_main[df_main_str_col_list]  = df_main[df_main_str_col_list].astype('string')\n",
    "print(df_main['тип_пастбища'].unique())\n",
    "print(df_buy['тип_пастбища'].unique())\n",
    "df_dad['имя_папы'] = df_dad['имя_папы'].astype('string')\n",
    "df_buy_float_col_list = ['жирность', 'белок']\n",
    "df_buy_cat_col_list = ['возраст', 'тип_пастбища']\n",
    "df_buy_str_col_list = ['порода', 'порода_папы_быка', 'имя_папы']\n",
    "df_buy[df_buy_float_col_list]  = df_buy[df_buy_float_col_list].replace(',', '.', regex=True).astype('float')\n",
    "df_buy[df_buy_cat_col_list]    = df_buy[df_buy_cat_col_list].astype('category')\n",
    "df_buy[df_buy_str_col_list]    = df_buy[df_buy_str_col_list].astype('string')\n",
    "display(df_main.head(5))\n",
    "display(df_dad.head(5))\n",
    "display(df_buy.head(5))\n",
    "df_main.info()\n",
    "df_dad.info()\n",
    "df_buy.info()"
   ]
  },
  {
   "cell_type": "markdown",
   "id": "6b29ea6f-205d-465d-8f9e-060a52feca69",
   "metadata": {},
   "source": [
    "Первичный анализ датасетов с помощью метода **info** показал, что почти все поля (кроме индексного и нескольких других)  имеют тип **object**, хотя их реальные типы float, category, string. Были выполнены приведения типов этих полей к трем вышеуказанным, при этом были еще проведены ряд преобразований:\n",
    "- во всех колонках, содержащих числа с плавающей точкой, была заменена , на . как символ разделителя целой и дробной части\n",
    "- содержимое колонки **тип_пастбища** в df_main было приведено к нижнему регистру, чтобы соотвествовать формату данных в этой же колонке в датасете df_buy\n",
    "- в колонке **тип_пастбища** в df_main была произведена замена значений **равнинные** на **равнинное**, чтобы соответствовать набору из двух значений в этой категории:\n",
    "    - равнинное\n",
    "    - холмистое\n",
    "- в колонке **порода_папы_быка** в df_main была произведена замена значений **Айдиалл** на **Айдиал**, чтобы соответствовать набору из двух значений в этой категории:\n",
    "    - Айдиал\n",
    "    - Соверин\n",
    "\n",
    "Окончательный анализ на этой стадии показал, что датасеты не имеют пропусков, и колонки в них имеют тип, соответствующий их содержанию."
   ]
  },
  {
   "cell_type": "markdown",
   "id": "fc3c6cf9-734f-4ac5-915f-94e3be3378b6",
   "metadata": {},
   "source": [
    "## 4. Исследовательский анализ данных"
   ]
  },
  {
   "cell_type": "markdown",
   "id": "7ef9b1e7-94fd-408a-8c6c-52544455fb6e",
   "metadata": {},
   "source": [
    "### 4.1 Cтатистический анализ всех признаков"
   ]
  },
  {
   "cell_type": "code",
   "execution_count": 58,
   "id": "93a98984-380d-45cb-aaa3-41d03b89a114",
   "metadata": {},
   "outputs": [
    {
     "name": "stdout",
     "output_type": "stream",
     "text": [
      "Статистика количественных параметров для df_main\n"
     ]
    },
    {
     "data": {
      "text/html": [
       "<div>\n",
       "<style scoped>\n",
       "    .dataframe tbody tr th:only-of-type {\n",
       "        vertical-align: middle;\n",
       "    }\n",
       "\n",
       "    .dataframe tbody tr th {\n",
       "        vertical-align: top;\n",
       "    }\n",
       "\n",
       "    .dataframe thead th {\n",
       "        text-align: right;\n",
       "    }\n",
       "</style>\n",
       "<table border=\"1\" class=\"dataframe\">\n",
       "  <thead>\n",
       "    <tr style=\"text-align: right;\">\n",
       "      <th></th>\n",
       "      <th>count</th>\n",
       "      <th>mean</th>\n",
       "      <th>std</th>\n",
       "      <th>min</th>\n",
       "      <th>25%</th>\n",
       "      <th>50%</th>\n",
       "      <th>75%</th>\n",
       "      <th>max</th>\n",
       "    </tr>\n",
       "  </thead>\n",
       "  <tbody>\n",
       "    <tr>\n",
       "      <th>белок</th>\n",
       "      <td>633.0</td>\n",
       "      <td>3.075665</td>\n",
       "      <td>0.002542</td>\n",
       "      <td>3.069</td>\n",
       "      <td>3.074</td>\n",
       "      <td>3.076</td>\n",
       "      <td>3.077</td>\n",
       "      <td>3.085</td>\n",
       "    </tr>\n",
       "    <tr>\n",
       "      <th>жирность</th>\n",
       "      <td>633.0</td>\n",
       "      <td>3.604550</td>\n",
       "      <td>0.167456</td>\n",
       "      <td>2.990</td>\n",
       "      <td>3.590</td>\n",
       "      <td>3.650</td>\n",
       "      <td>3.720</td>\n",
       "      <td>3.750</td>\n",
       "    </tr>\n",
       "    <tr>\n",
       "      <th>спо</th>\n",
       "      <td>633.0</td>\n",
       "      <td>0.912828</td>\n",
       "      <td>0.032227</td>\n",
       "      <td>0.840</td>\n",
       "      <td>0.890</td>\n",
       "      <td>0.930</td>\n",
       "      <td>0.940</td>\n",
       "      <td>0.960</td>\n",
       "    </tr>\n",
       "    <tr>\n",
       "      <th>сырой_протеин</th>\n",
       "      <td>633.0</td>\n",
       "      <td>1923.074250</td>\n",
       "      <td>182.270289</td>\n",
       "      <td>1660.000</td>\n",
       "      <td>1773.000</td>\n",
       "      <td>1881.000</td>\n",
       "      <td>2059.000</td>\n",
       "      <td>2349.000</td>\n",
       "    </tr>\n",
       "    <tr>\n",
       "      <th>удой</th>\n",
       "      <td>633.0</td>\n",
       "      <td>6124.736177</td>\n",
       "      <td>474.172345</td>\n",
       "      <td>5204.000</td>\n",
       "      <td>5751.000</td>\n",
       "      <td>6130.000</td>\n",
       "      <td>6501.000</td>\n",
       "      <td>7222.000</td>\n",
       "    </tr>\n",
       "    <tr>\n",
       "      <th>эке</th>\n",
       "      <td>633.0</td>\n",
       "      <td>14.547551</td>\n",
       "      <td>1.296684</td>\n",
       "      <td>10.900</td>\n",
       "      <td>13.500</td>\n",
       "      <td>14.700</td>\n",
       "      <td>15.600</td>\n",
       "      <td>16.800</td>\n",
       "    </tr>\n",
       "  </tbody>\n",
       "</table>\n",
       "</div>"
      ],
      "text/plain": [
       "               count         mean         std       min       25%       50%  \\\n",
       "белок          633.0     3.075665    0.002542     3.069     3.074     3.076   \n",
       "жирность       633.0     3.604550    0.167456     2.990     3.590     3.650   \n",
       "спо            633.0     0.912828    0.032227     0.840     0.890     0.930   \n",
       "сырой_протеин  633.0  1923.074250  182.270289  1660.000  1773.000  1881.000   \n",
       "удой           633.0  6124.736177  474.172345  5204.000  5751.000  6130.000   \n",
       "эке            633.0    14.547551    1.296684    10.900    13.500    14.700   \n",
       "\n",
       "                    75%       max  \n",
       "белок             3.077     3.085  \n",
       "жирность          3.720     3.750  \n",
       "спо               0.940     0.960  \n",
       "сырой_протеин  2059.000  2349.000  \n",
       "удой           6501.000  7222.000  \n",
       "эке              15.600    16.800  "
      ]
     },
     "metadata": {},
     "output_type": "display_data"
    },
    {
     "name": "stdout",
     "output_type": "stream",
     "text": [
      "Статистика категориальных параметров для df_main\n"
     ]
    },
    {
     "data": {
      "text/html": [
       "<div>\n",
       "<style scoped>\n",
       "    .dataframe tbody tr th:only-of-type {\n",
       "        vertical-align: middle;\n",
       "    }\n",
       "\n",
       "    .dataframe tbody tr th {\n",
       "        vertical-align: top;\n",
       "    }\n",
       "\n",
       "    .dataframe thead th {\n",
       "        text-align: right;\n",
       "    }\n",
       "</style>\n",
       "<table border=\"1\" class=\"dataframe\">\n",
       "  <thead>\n",
       "    <tr style=\"text-align: right;\">\n",
       "      <th></th>\n",
       "      <th>порода</th>\n",
       "      <th>тип_пастбища</th>\n",
       "      <th>порода_папы_быка</th>\n",
       "      <th>вкус_молока</th>\n",
       "      <th>возраст</th>\n",
       "    </tr>\n",
       "  </thead>\n",
       "  <tbody>\n",
       "    <tr>\n",
       "      <th>count</th>\n",
       "      <td>633</td>\n",
       "      <td>633</td>\n",
       "      <td>633</td>\n",
       "      <td>633</td>\n",
       "      <td>633</td>\n",
       "    </tr>\n",
       "    <tr>\n",
       "      <th>unique</th>\n",
       "      <td>2</td>\n",
       "      <td>2</td>\n",
       "      <td>2</td>\n",
       "      <td>2</td>\n",
       "      <td>2</td>\n",
       "    </tr>\n",
       "    <tr>\n",
       "      <th>top</th>\n",
       "      <td>Вис Бик Айдиал</td>\n",
       "      <td>холмистое</td>\n",
       "      <td>Айдиал</td>\n",
       "      <td>вкусно</td>\n",
       "      <td>более_2_лет</td>\n",
       "    </tr>\n",
       "    <tr>\n",
       "      <th>freq</th>\n",
       "      <td>372</td>\n",
       "      <td>355</td>\n",
       "      <td>317</td>\n",
       "      <td>370</td>\n",
       "      <td>523</td>\n",
       "    </tr>\n",
       "  </tbody>\n",
       "</table>\n",
       "</div>"
      ],
      "text/plain": [
       "                порода тип_пастбища порода_папы_быка вкус_молока      возраст\n",
       "count              633          633              633         633          633\n",
       "unique               2            2                2           2            2\n",
       "top     Вис Бик Айдиал    холмистое           Айдиал      вкусно  более_2_лет\n",
       "freq               372          355              317         370          523"
      ]
     },
     "metadata": {},
     "output_type": "display_data"
    },
    {
     "name": "stdout",
     "output_type": "stream",
     "text": [
      "Статистика категориальных параметров для df_dad\n"
     ]
    },
    {
     "data": {
      "text/html": [
       "<div>\n",
       "<style scoped>\n",
       "    .dataframe tbody tr th:only-of-type {\n",
       "        vertical-align: middle;\n",
       "    }\n",
       "\n",
       "    .dataframe tbody tr th {\n",
       "        vertical-align: top;\n",
       "    }\n",
       "\n",
       "    .dataframe thead th {\n",
       "        text-align: right;\n",
       "    }\n",
       "</style>\n",
       "<table border=\"1\" class=\"dataframe\">\n",
       "  <thead>\n",
       "    <tr style=\"text-align: right;\">\n",
       "      <th></th>\n",
       "      <th>count</th>\n",
       "      <th>unique</th>\n",
       "      <th>top</th>\n",
       "      <th>freq</th>\n",
       "    </tr>\n",
       "  </thead>\n",
       "  <tbody>\n",
       "    <tr>\n",
       "      <th>имя_папы</th>\n",
       "      <td>629</td>\n",
       "      <td>4</td>\n",
       "      <td>Барин</td>\n",
       "      <td>240</td>\n",
       "    </tr>\n",
       "  </tbody>\n",
       "</table>\n",
       "</div>"
      ],
      "text/plain": [
       "         count unique    top freq\n",
       "имя_папы   629      4  Барин  240"
      ]
     },
     "metadata": {},
     "output_type": "display_data"
    },
    {
     "name": "stdout",
     "output_type": "stream",
     "text": [
      "Статистика количественных параметров для df_buy\n"
     ]
    },
    {
     "data": {
      "text/html": [
       "<div>\n",
       "<style scoped>\n",
       "    .dataframe tbody tr th:only-of-type {\n",
       "        vertical-align: middle;\n",
       "    }\n",
       "\n",
       "    .dataframe tbody tr th {\n",
       "        vertical-align: top;\n",
       "    }\n",
       "\n",
       "    .dataframe thead th {\n",
       "        text-align: right;\n",
       "    }\n",
       "</style>\n",
       "<table border=\"1\" class=\"dataframe\">\n",
       "  <thead>\n",
       "    <tr style=\"text-align: right;\">\n",
       "      <th></th>\n",
       "      <th>count</th>\n",
       "      <th>mean</th>\n",
       "      <th>std</th>\n",
       "      <th>min</th>\n",
       "      <th>25%</th>\n",
       "      <th>50%</th>\n",
       "      <th>75%</th>\n",
       "      <th>max</th>\n",
       "    </tr>\n",
       "  </thead>\n",
       "  <tbody>\n",
       "    <tr>\n",
       "      <th>жирность</th>\n",
       "      <td>20.0</td>\n",
       "      <td>3.5775</td>\n",
       "      <td>0.126818</td>\n",
       "      <td>3.340</td>\n",
       "      <td>3.510</td>\n",
       "      <td>3.590</td>\n",
       "      <td>3.650</td>\n",
       "      <td>3.770</td>\n",
       "    </tr>\n",
       "    <tr>\n",
       "      <th>белок</th>\n",
       "      <td>20.0</td>\n",
       "      <td>3.0695</td>\n",
       "      <td>0.010339</td>\n",
       "      <td>3.046</td>\n",
       "      <td>3.064</td>\n",
       "      <td>3.074</td>\n",
       "      <td>3.076</td>\n",
       "      <td>3.081</td>\n",
       "    </tr>\n",
       "  </tbody>\n",
       "</table>\n",
       "</div>"
      ],
      "text/plain": [
       "          count    mean       std    min    25%    50%    75%    max\n",
       "жирность   20.0  3.5775  0.126818  3.340  3.510  3.590  3.650  3.770\n",
       "белок      20.0  3.0695  0.010339  3.046  3.064  3.074  3.076  3.081"
      ]
     },
     "metadata": {},
     "output_type": "display_data"
    },
    {
     "name": "stdout",
     "output_type": "stream",
     "text": [
      "Статистика категориальных параметров для df_buy\n"
     ]
    },
    {
     "data": {
      "text/html": [
       "<div>\n",
       "<style scoped>\n",
       "    .dataframe tbody tr th:only-of-type {\n",
       "        vertical-align: middle;\n",
       "    }\n",
       "\n",
       "    .dataframe tbody tr th {\n",
       "        vertical-align: top;\n",
       "    }\n",
       "\n",
       "    .dataframe thead th {\n",
       "        text-align: right;\n",
       "    }\n",
       "</style>\n",
       "<table border=\"1\" class=\"dataframe\">\n",
       "  <thead>\n",
       "    <tr style=\"text-align: right;\">\n",
       "      <th></th>\n",
       "      <th>порода</th>\n",
       "      <th>тип_пастбища</th>\n",
       "      <th>порода_папы_быка</th>\n",
       "      <th>имя_папы</th>\n",
       "      <th>возраст</th>\n",
       "    </tr>\n",
       "  </thead>\n",
       "  <tbody>\n",
       "    <tr>\n",
       "      <th>count</th>\n",
       "      <td>20</td>\n",
       "      <td>20</td>\n",
       "      <td>20</td>\n",
       "      <td>20</td>\n",
       "      <td>20</td>\n",
       "    </tr>\n",
       "    <tr>\n",
       "      <th>unique</th>\n",
       "      <td>2</td>\n",
       "      <td>2</td>\n",
       "      <td>2</td>\n",
       "      <td>4</td>\n",
       "      <td>2</td>\n",
       "    </tr>\n",
       "    <tr>\n",
       "      <th>top</th>\n",
       "      <td>РефлешнСоверинг</td>\n",
       "      <td>равнинное</td>\n",
       "      <td>Соверин</td>\n",
       "      <td>Буйный</td>\n",
       "      <td>более_2_лет</td>\n",
       "    </tr>\n",
       "    <tr>\n",
       "      <th>freq</th>\n",
       "      <td>11</td>\n",
       "      <td>11</td>\n",
       "      <td>12</td>\n",
       "      <td>8</td>\n",
       "      <td>15</td>\n",
       "    </tr>\n",
       "  </tbody>\n",
       "</table>\n",
       "</div>"
      ],
      "text/plain": [
       "                 порода тип_пастбища порода_папы_быка имя_папы      возраст\n",
       "count                20           20               20       20           20\n",
       "unique                2            2                2        4            2\n",
       "top     РефлешнСоверинг    равнинное          Соверин   Буйный  более_2_лет\n",
       "freq                 11           11               12        8           15"
      ]
     },
     "metadata": {},
     "output_type": "display_data"
    },
    {
     "name": "stdout",
     "output_type": "stream",
     "text": [
      "['Айдиал', 'Соверин']\n",
      "['Айдиал', 'Соверин']\n",
      "['Вис Бик Айдиал', 'РефлешнСоверинг']\n",
      "['Вис Бик Айдиал', 'РефлешнСоверинг']\n"
     ]
    }
   ],
   "source": [
    "print('Статистика количественных параметров для df_main')\n",
    "display(df_main[df_main.columns.difference(['id'])].describe().T)\n",
    "cols = [c for c in df_main.columns if df_main[c].dtype.name  in ['string', 'category']]\n",
    "print('Статистика категориальных параметров для df_main')\n",
    "display(df_main[cols].describe())\n",
    "print('Статистика категориальных параметров для df_dad')\n",
    "display(df_dad[df_dad.columns.difference(['id'])].describe().T)\n",
    "print('Статистика количественных параметров для df_buy')\n",
    "display(df_buy.describe().T)\n",
    "cols = [c for c in df_buy.columns if df_buy[c].dtype.name  in ['string', 'category']]\n",
    "print('Статистика категориальных параметров для df_buy')\n",
    "display(df_buy[cols].describe())\n",
    "\n",
    "print(list(df_main['порода_папы_быка'].unique()))\n",
    "print(list(df_buy['порода_папы_быка'].unique()))\n",
    "\n",
    "print(list(df_main['порода'].unique()))\n",
    "print(list(df_buy['порода'].unique()))"
   ]
  },
  {
   "cell_type": "markdown",
   "id": "9516c985-4d3e-4c46-917b-650c59463ff9",
   "metadata": {},
   "source": [
    "Статанализ количественных и категориальных параметров для датасетов **df_main, df_dad, df_buy** показал:\n",
    "\n",
    "    - количественные признаки показывают характер нормального распределения (более подробно можно будет сказать после анализа графиков)\n",
    "    - категориальные признаки показывают наличие определенных категорий и количество уникальных значений этих категорий соответствует количеству уникальных значений в других таблицах\n",
    "  "
   ]
  },
  {
   "cell_type": "markdown",
   "id": "d736d9a3-2592-4dd1-85c4-46b19a13afe9",
   "metadata": {},
   "source": [
    "### 4.2 Построение графиков для каждого признака"
   ]
  },
  {
   "cell_type": "markdown",
   "id": "28bc72e1-9a1f-4214-a5fe-438fefa27b2a",
   "metadata": {},
   "source": [
    "#### 4.2.1 df_main количественные параметры"
   ]
  },
  {
   "cell_type": "code",
   "execution_count": 61,
   "id": "e82a346f-ec68-4b2c-8a47-0b5886d620a4",
   "metadata": {},
   "outputs": [
    {
     "name": "stdout",
     "output_type": "stream",
     "text": [
      "Index(['белок', 'жирность', 'спо', 'сырой_протеин', 'удой', 'эке'], dtype='object')\n"
     ]
    },
    {
     "data": {
      "image/png": "[encoded data removed]",
      "text/plain": [
       "<Figure size 1000x500 with 2 Axes>"
      ]
     },
     "metadata": {},
     "output_type": "display_data"
    },
    {
     "data": {
      "image/png": "[encoded data removed]",
      "text/plain": [
       "<Figure size 1000x500 with 2 Axes>"
      ]
     },
     "metadata": {},
     "output_type": "display_data"
    },
    {
     "data": {
      "image/png": "[encoded data removed]",
      "text/plain": [
       "<Figure size 1000x500 with 2 Axes>"
      ]
     },
     "metadata": {},
     "output_type": "display_data"
    },
    {
     "data": {
      "image/png": "[encoded data removed]",
      "text/plain": [
       "<Figure size 1000x500 with 2 Axes>"
      ]
     },
     "metadata": {},
     "output_type": "display_data"
    },
    {
     "data": {
      "image/png": "[encoded data removed]",
      "text/plain": [
       "<Figure size 1000x500 with 2 Axes>"
      ]
     },
     "metadata": {},
     "output_type": "display_data"
    },
    {
     "data": {
      "image/png": "[encoded data removed]",
      "text/plain": [
       "<Figure size 1000x500 with 2 Axes>"
      ]
     },
     "metadata": {},
     "output_type": "display_data"
    }
   ],
   "source": [
    "#cols = [c for c in df_main.columns if df_main[c].dtype.name not in ['string', 'category'] and c != 'id']\n",
    "def plot_sub_plot_hist(df):\n",
    "    for col in df.columns:\n",
    "        fig, axes = plt.subplots(nrows=1, ncols=2)\n",
    "        df[col].plot(kind=\"hist\", title=col, figsize=(10, 5), ax = axes[0])\n",
    "        sns.boxplot(data=df[col], ax = axes[1])\n",
    "        plt.show()\n",
    "        \n",
    "df_main_numeric = df_main.select_dtypes(include=np.number)\n",
    "df_main_numeric = df_main_numeric[df_main_numeric.columns.difference(['id'])]\n",
    "print(df_main_numeric.columns)\n",
    "plot_sub_plot_hist(df_main_numeric)\n"
   ]
  },
  {
   "cell_type": "markdown",
   "id": "13ac90ad-b11b-41b7-a14a-8c25acd0d441",
   "metadata": {},
   "source": [
    "Для количественных параметров - **'белок', 'жирность', 'спо', 'сырой_протеин', 'удой', 'эке'**. Для каждой колонки были построены гистограмма (с дефолтовым количеством бинов) и boxplot. Для колонки **удой** имеет место большой выброс = 45616 в единичном экземпляре, который принят за ошибку ввода данных и удален (Изменения внесены в п 3. Предобработка данных). Остальные распределения выглядят нормально, распределения **эке** и **белок** близки к нормальному, остальные - нет. Для параметра **жирность** имеют место выбросы ниже первого квантиля, для параметра **белок** имеет место небольшое количество выбросов, для остальных выбросов нет.\n"
   ]
  },
  {
   "cell_type": "markdown",
   "id": "c32d70c5-8948-48e6-a242-4899969565b3",
   "metadata": {},
   "source": [
    "#### 4.2.2 df_main категориальные параметры"
   ]
  },
  {
   "cell_type": "code",
   "execution_count": 69,
   "id": "f25747f9-14ef-44b4-8ddd-eaecfde37b74",
   "metadata": {},
   "outputs": [
    {
     "data": {
      "image/png": "[encoded data removed]",
      "text/plain": [
       "<Figure size 500x500 with 1 Axes>"
      ]
     },
     "metadata": {},
     "output_type": "display_data"
    },
    {
     "data": {
      "image/png": "[encoded data removed]",
      "text/plain": [
       "<Figure size 500x500 with 1 Axes>"
      ]
     },
     "metadata": {},
     "output_type": "display_data"
    },
    {
     "data": {
      "image/png": "[encoded data removed]",
      "text/plain": [
       "<Figure size 500x500 with 1 Axes>"
      ]
     },
     "metadata": {},
     "output_type": "display_data"
    },
    {
     "data": {
      "image/png": "[encoded data removed]",
      "text/plain": [
       "<Figure size 500x500 with 1 Axes>"
      ]
     },
     "metadata": {},
     "output_type": "display_data"
    },
    {
     "data": {
      "image/png": "[encoded data removed]",
      "text/plain": [
       "<Figure size 500x500 with 1 Axes>"
      ]
     },
     "metadata": {},
     "output_type": "display_data"
    }
   ],
   "source": [
    "def plot_pie_plot_for_columns(df):\n",
    "    for col in df.columns:\n",
    "        df[col].value_counts().plot(kind='pie', labels=None, label='', autopct='%1.0f%%', legend=True, figsize=(5,5), title=col);\n",
    "        plt.show()\n",
    "\n",
    "df_main_notnumeric = df_main.select_dtypes(exclude=np.number)\n",
    "plot_pie_plot_for_columns(df_main_notnumeric)"
   ]
  },
  {
   "cell_type": "markdown",
   "id": "4ffaa2e6-dc2b-40ca-bb70-637235c4ade2",
   "metadata": {},
   "source": []
  },
  {
   "cell_type": "markdown",
   "id": "72f71415-ea6a-48d2-b139-e43a0eb494f2",
   "metadata": {},
   "source": [
    "### 4.3 Выводы о данных"
   ]
  },
  {
   "cell_type": "markdown",
   "id": "d6acf887-b841-4af5-91bd-45406f0169cc",
   "metadata": {},
   "source": [
    "## 5. Проведение корреляционного анализа признаков в датасете **ferma_main.csv**"
   ]
  },
  {
   "cell_type": "markdown",
   "id": "0dcb5c59-c20a-491b-a476-74a7abd4a6e6",
   "metadata": {},
   "source": [
    "### 5.1 Изучение взаимосвязи между признаками"
   ]
  },
  {
   "cell_type": "markdown",
   "id": "c7302c5a-e677-4ae8-88bb-c3091fcb3d68",
   "metadata": {},
   "source": [
    "### 5.2 Построение диаграммы рассеяния"
   ]
  },
  {
   "cell_type": "markdown",
   "id": "0edfbee2-e4f4-4f21-a602-e417141b1014",
   "metadata": {},
   "source": [
    "### 5.3 Выводы о взаимосвязи признаков"
   ]
  },
  {
   "cell_type": "markdown",
   "id": "ebae1b5f-7797-4ef7-9a61-375cee7126ae",
   "metadata": {},
   "source": [
    "## 6. Задача регрессии"
   ]
  },
  {
   "cell_type": "markdown",
   "id": "47f10b76-4e53-4d01-bfd0-020fc956f7ba",
   "metadata": {},
   "source": [
    "### 6.1 Первая модель регрессии"
   ]
  },
  {
   "cell_type": "markdown",
   "id": "c2f960f7-3bca-4d76-b93d-951554e5a39d",
   "metadata": {},
   "source": [
    "### 6.2 Вторая модель регрессии"
   ]
  },
  {
   "cell_type": "markdown",
   "id": "932659ba-ceff-4b8e-a91b-a1de7de0cdc0",
   "metadata": {},
   "source": [
    "### 6.3 Третья модель регрессии"
   ]
  },
  {
   "cell_type": "markdown",
   "id": "876f7399-cde1-4e9e-bf2f-8bf0db808d53",
   "metadata": {},
   "source": [
    "### 6.4 Сравнение качества трёх моделей линейной регрессии"
   ]
  },
  {
   "cell_type": "markdown",
   "id": "8448191d-21b4-4365-8656-4d0a013e0988",
   "metadata": {},
   "source": [
    "### 6.5 Выбор лучшей модели и прогноз характеристики **Удой**"
   ]
  },
  {
   "cell_type": "markdown",
   "id": "059da96b-6113-406f-b2de-3c36d6f777ae",
   "metadata": {},
   "source": [
    "## 7. Задача классификации"
   ]
  },
  {
   "cell_type": "markdown",
   "id": "9c2f4d41-8594-40cd-98b7-8445a76272b0",
   "metadata": {},
   "source": [
    "### 7.1 Обучение модели LogisticRegression"
   ]
  },
  {
   "cell_type": "markdown",
   "id": "af74f4a8-87d3-4aac-8de4-d76cb21c3482",
   "metadata": {},
   "source": [
    "### 7.2 Анализ модели LogisticRegression"
   ]
  },
  {
   "cell_type": "markdown",
   "id": "7ead7149-aa5d-4193-8e2c-da3146271151",
   "metadata": {},
   "source": [
    "### 7.3 С помощью обученной модели LogisticRegression спрогнозировать параметр **Вкус молока** коров, которых фермер хочет купить."
   ]
  },
  {
   "cell_type": "markdown",
   "id": "6730f068-d7bb-43dc-a2b3-9d9a0ca804ce",
   "metadata": {},
   "source": [
    "## 8. Выводы"
   ]
  }
 ],
 "metadata": {
  "kernelspec": {
   "display_name": "Python 3 (ipykernel)",
   "language": "python",
   "name": "python3"
  },
  "language_info": {
   "codemirror_mode": {
    "name": "ipython",
    "version": 3
   },
   "file_extension": ".py",
   "mimetype": "text/x-python",
   "name": "python",
   "nbconvert_exporter": "python",
   "pygments_lexer": "ipython3",
   "version": "3.9.18"
  }
 },
 "nbformat": 4,
 "nbformat_minor": 5
}
