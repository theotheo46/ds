{
 "cells": [
  {
   "cell_type": "markdown",
   "id": "72bee3c6-5794-454a-ba97-599e626a1100",
   "metadata": {},
   "source": [
    "# Проект: Линейные модели в машинном обучении"
   ]
  },
  {
   "cell_type": "markdown",
   "id": "6a0e3979-5693-4a43-a14d-2fb43bf094a3",
   "metadata": {},
   "source": [
    "## 1. Введение"
   ]
  },
  {
   "cell_type": "markdown",
   "id": "60825fd1-d2d9-4a0b-91ef-4d9006c7d63c",
   "metadata": {},
   "source": [
    "   Вы работаете в IT-компании, которая выполняет на заказ проекты по машинному обучению. К вам обратился фермер, владелец молочного хозяйства «Вольный луг». Он хочет купить бурёнок, чтобы расширить поголовье стада коров. Для этого он заключил выгодный контракт с ассоциацией пастбищ «ЭкоФерма».\n",
    "\n",
    "   Условия позволяют фермеру очень тщательно отобрать коров. Он определяет качество молока по строгой методике, и при этом ему нужно выполнять свой план развития молочного хозяйства. Фермер хочет, чтобы каждая бурёнка давала не менее 6000 килограммов молока в год, а её надой был вкусным — строго по его критериям, ничуть не хуже. А продавцы и технологи так и норовят приукрасить своих коровок!\n",
    "Поэтому он просит вас разработать модель машинного обучения, которая поможет ему управлять рисками и принимать объективное решение о покупке. \n",
    "\n",
    "Необходимо создать две прогнозные модели для отбора бурёнок в поголовье:\n",
    "\n",
    "- Первая будет прогнозировать возможный удой коровы (целевой признак **Удой**);\n",
    "- Вторая — рассчитывать вероятность получить вкусное молоко от коровы (целевой признак **Вкус молока**).\n",
    "\n",
    "С помощью модели нужно отобрать коров по двум критериям:\n",
    "- средний удой за год — не менее 6000 килограммов;\n",
    "- молоко должно быть вкусным;"
   ]
  },
  {
   "cell_type": "markdown",
   "id": "43d4634c-acaa-4630-a11b-53cdf2a10137",
   "metadata": {},
   "source": [
    "## 2. Загрузка и изучение данных"
   ]
  },
  {
   "cell_type": "code",
   "execution_count": 3,
   "id": "4e91fc85-cfc5-4a17-9d0f-2877b8f6f6f6",
   "metadata": {},
   "outputs": [],
   "source": [
    "import pandas as pd\n",
    "import seaborn as sns\n",
    "import matplotlib as plt\n",
    "\n",
    "from sklearn.linear_model import LinearRegression\n",
    "from sklearn.model_selection import train_test_split\n",
    "from sklearn.metrics import mean_absolute_error\n",
    "from sklearn.metrics import r2_score\n",
    "from sklearn.preprocessing import StandardScaler\n",
    "from sklearn.preprocessing import MinMaxScaler\n",
    "from sklearn.preprocessing import OneHotEncoder\n",
    "from sklearn.linear_model import LogisticRegression\n",
    "from sklearn.multiclass import OneVsRestClassifier\n",
    "from sklearn.metrics import recall_score, precision_score\n",
    "from sklearn.metrics import confusion_matrix\n",
    "\n",
    "\n",
    "RANDOM_STATE = 42\n"
   ]
  },
  {
   "cell_type": "markdown",
   "id": "4117a405-584a-4f11-9b34-816a24627db6",
   "metadata": {},
   "source": [
    "### 2.1 Загрузка данных"
   ]
  },
  {
   "cell_type": "markdown",
   "id": "472194a9-f8ba-4564-96f8-72ea82999d9e",
   "metadata": {},
   "source": [
    "### 2.2 Изучение данных"
   ]
  },
  {
   "cell_type": "markdown",
   "id": "089195ab-677e-4b52-bb66-242c4fc06d03",
   "metadata": {},
   "source": [
    "## 3. Предобработка данных"
   ]
  },
  {
   "cell_type": "markdown",
   "id": "fc3c6cf9-734f-4ac5-915f-94e3be3378b6",
   "metadata": {},
   "source": [
    "## 4. Исследовательский анализ данных"
   ]
  },
  {
   "cell_type": "markdown",
   "id": "7ef9b1e7-94fd-408a-8c6c-52544455fb6e",
   "metadata": {},
   "source": [
    "### 4.1 Cтатистический анализ всех признаков"
   ]
  },
  {
   "cell_type": "markdown",
   "id": "d736d9a3-2592-4dd1-85c4-46b19a13afe9",
   "metadata": {},
   "source": [
    "### 4.2 Построение графиков для каждого признака"
   ]
  },
  {
   "cell_type": "markdown",
   "id": "72f71415-ea6a-48d2-b139-e43a0eb494f2",
   "metadata": {},
   "source": [
    "### 4.3 Выводы о данных"
   ]
  },
  {
   "cell_type": "markdown",
   "id": "d6acf887-b841-4af5-91bd-45406f0169cc",
   "metadata": {},
   "source": [
    "## 5. Проведение корреляционного анализа признаков в датасете ferma_main.csv"
   ]
  },
  {
   "cell_type": "markdown",
   "id": "0dcb5c59-c20a-491b-a476-74a7abd4a6e6",
   "metadata": {},
   "source": [
    "### 5.1 Изучение взаимосвязи между признаками"
   ]
  },
  {
   "cell_type": "markdown",
   "id": "c7302c5a-e677-4ae8-88bb-c3091fcb3d68",
   "metadata": {},
   "source": [
    "### 5.2 Построение диаграммы рассеяния"
   ]
  },
  {
   "cell_type": "markdown",
   "id": "0edfbee2-e4f4-4f21-a602-e417141b1014",
   "metadata": {},
   "source": [
    "### 5.3 Выводы о взаимосвязи признаков"
   ]
  },
  {
   "cell_type": "markdown",
   "id": "ebae1b5f-7797-4ef7-9a61-375cee7126ae",
   "metadata": {},
   "source": [
    "## 6. Задача регрессии"
   ]
  },
  {
   "cell_type": "markdown",
   "id": "47f10b76-4e53-4d01-bfd0-020fc956f7ba",
   "metadata": {},
   "source": [
    "### 6.1 Первая модель регрессии"
   ]
  },
  {
   "cell_type": "markdown",
   "id": "c2f960f7-3bca-4d76-b93d-951554e5a39d",
   "metadata": {},
   "source": [
    "### 6.2 Вторая модель регрессии"
   ]
  },
  {
   "cell_type": "markdown",
   "id": "932659ba-ceff-4b8e-a91b-a1de7de0cdc0",
   "metadata": {},
   "source": [
    "### 6.3 Третья модель регрессии"
   ]
  },
  {
   "cell_type": "markdown",
   "id": "876f7399-cde1-4e9e-bf2f-8bf0db808d53",
   "metadata": {},
   "source": [
    "### 6.4 Сравнение качества трёх моделей линейной регрессии"
   ]
  },
  {
   "cell_type": "markdown",
   "id": "8448191d-21b4-4365-8656-4d0a013e0988",
   "metadata": {},
   "source": [
    "### 6.5 Выбор лучшей модели и прогноз характеристики **Удой**"
   ]
  },
  {
   "cell_type": "markdown",
   "id": "059da96b-6113-406f-b2de-3c36d6f777ae",
   "metadata": {},
   "source": [
    "## 7. Задача классификации"
   ]
  },
  {
   "cell_type": "markdown",
   "id": "9c2f4d41-8594-40cd-98b7-8445a76272b0",
   "metadata": {},
   "source": [
    "### 7.1 Обучение модели LogisticRegression"
   ]
  },
  {
   "cell_type": "markdown",
   "id": "af74f4a8-87d3-4aac-8de4-d76cb21c3482",
   "metadata": {},
   "source": [
    "### 7.2 Анализ модели LogisticRegression"
   ]
  },
  {
   "cell_type": "markdown",
   "id": "7ead7149-aa5d-4193-8e2c-da3146271151",
   "metadata": {},
   "source": [
    "### 7.3 С помощью обученной модели LogisticRegression спрогнозировать параметр **Вкус молока** коров, которых фермер хочет купить."
   ]
  },
  {
   "cell_type": "markdown",
   "id": "6730f068-d7bb-43dc-a2b3-9d9a0ca804ce",
   "metadata": {},
   "source": [
    "## 8. Выводы"
   ]
  }
 ],
 "metadata": {
  "kernelspec": {
   "display_name": "Python 3 (ipykernel)",
   "language": "python",
   "name": "python3"
  },
  "language_info": {
   "codemirror_mode": {
    "name": "ipython",
    "version": 3
   },
   "file_extension": ".py",
   "mimetype": "text/x-python",
   "name": "python",
   "nbconvert_exporter": "python",
   "pygments_lexer": "ipython3",
   "version": "3.9.18"
  }
 },
 "nbformat": 4,
 "nbformat_minor": 5
}
